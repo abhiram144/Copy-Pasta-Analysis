{
  "nbformat": 4,
  "nbformat_minor": 0,
  "metadata": {
    "colab": {
      "name": "Hash_Tag_Analysis(India Defeats Black Money).ipynb",
      "provenance": [],
      "collapsed_sections": [
        "8gw0qiuvpqk-",
        "bVxSSDst3Gzy",
        "e9hrnrmy79zc",
        "n0G6SLAoR34M",
        "Ms635RiRTE9n",
        "_ZPYwQ5zS7dZ",
        "GBy7PAoebodc",
        "DM4dXdqZMYB2"
      ],
      "machine_shape": "hm"
    },
    "kernelspec": {
      "name": "python3",
      "display_name": "Python 3"
    },
    "language_info": {
      "name": "python"
    },
    "accelerator": "GPU"
  },
  "cells": [
    {
      "cell_type": "markdown",
      "source": [
        "## IMPORT STATEMENTS"
      ],
      "metadata": {
        "id": "YvZ5g5sN23JF"
      }
    },
    {
      "cell_type": "code",
      "execution_count": 206,
      "metadata": {
        "colab": {
          "base_uri": "https://localhost:8080/"
        },
        "id": "zRrGgLCM2cMK",
        "outputId": "d2a25239-6c03-4b9e-f944-c470d9579b13"
      },
      "outputs": [
        {
          "output_type": "stream",
          "name": "stdout",
          "text": [
            "[nltk_data] Downloading package stopwords to /root/nltk_data...\n",
            "[nltk_data]   Package stopwords is already up-to-date!\n",
            "[nltk_data] Downloading package punkt to /root/nltk_data...\n",
            "[nltk_data]   Package punkt is already up-to-date!\n",
            "[nltk_data] Downloading package wordnet to /root/nltk_data...\n",
            "[nltk_data]   Package wordnet is already up-to-date!\n",
            "[nltk_data] Downloading package omw-1.4 to /root/nltk_data...\n",
            "[nltk_data]   Package omw-1.4 is already up-to-date!\n"
          ]
        },
        {
          "output_type": "execute_result",
          "data": {
            "text/plain": [
              "True"
            ]
          },
          "metadata": {},
          "execution_count": 206
        }
      ],
      "source": [
        "import pandas as pd\n",
        "import numpy as np\n",
        "import nltk\n",
        "import re \n",
        "import os\n",
        "from nltk.corpus import stopwords\n",
        "from nltk.tokenize import TweetTokenizer\n",
        "from nltk.stem import LancasterStemmer\n",
        "from collections import defaultdict\n",
        "import pickle\n",
        "# import tensorflow.compat.v1.keras.backend as K\n",
        "import tensorflow as tf\n",
        "# tf.compat.v1.disable_eager_execution()\n",
        "import tensorflow_hub as hub\n",
        "import numpy as np\n",
        "from scipy.spatial.distance import cosine\n",
        "from itertools import chain\n",
        "nltk.download('stopwords')\n",
        "nltk.download('punkt')\n",
        "nltk.download('wordnet')\n",
        "nltk.download('omw-1.4')"
      ]
    },
    {
      "cell_type": "markdown",
      "source": [
        "## STOP WORDS INITIALIZATION"
      ],
      "metadata": {
        "id": "bVxSSDst3Gzy"
      }
    },
    {
      "cell_type": "code",
      "source": [
        "stop_words = set()\n",
        "languages = ['english','hindi']\n",
        "for lang in languages:\n",
        "    with open(lang+\".txt\",'r') as f:\n",
        "        lines = f.readlines()\n",
        "        for line in lines:\n",
        "            line = line.rstrip()\n",
        "            stop_words.add(line)\n",
        "\n",
        "print(stop_words)"
      ],
      "metadata": {
        "colab": {
          "base_uri": "https://localhost:8080/"
        },
        "id": "6tchbpQ93J7G",
        "outputId": "426ba636-8290-457d-a89f-d420a084cac9"
      },
      "execution_count": 207,
      "outputs": [
        {
          "output_type": "stream",
          "name": "stdout",
          "text": [
            "{'become', 'four', 'hers', 'abroad', 'वे', 'act', 'haven', 'somehow', 'way', 'apparently', 'pm', 'nos', 'doing', 'readily', 'kz', 'ao', 'approximately', 'ml', 'पे', 'into', 'tn', 'eg', \"we'll\", 'faces', 'opening', 'thatve', 'thered', 'hardly', 'इन्हें', 'backward', 'front', 'members', \"can't\", 'pmid', 'घर', 'msie', 'opened', 'her', 'गया', 'जब', 'संग', 'corresponding', 'wants', 'text', 'says', 'tg', 'welcome', 'across', 'long', 'various', 'hk', 'rooms', 'इसके', 'successfully', 'strongly', 'they', 'किसे', 'thinks', 'somewhere', 'सकते', 'es', 'unlike', 'za', 'thereve', 'aint', 'lately', 'cd', 'sm', 'fewer', 'td', 'hereupon', 'computer', 'downed', 'state', 'necessarily', \"c's\", 'mv', 'where', 'need', 'uz', 'hundred', 'yours', 'described', 'two', \"hasn't\", 'meanwhile', 'farther', 'h', 'k', 'myse”', \"who's\", 'w', 'pp', 'कुल', 'mrs', 'anything', 'small', 'there', 'please', 'half', 'is', 'selves', 'evermore', 'mq', 'जिन', 'pages', 'proud', 'होती', 'इसकी', 'far', 'उसके', 'yourself', 'o', 'si', 'third', 'shell', 'ci', 'furthers', 'एस', 'pa', 't', 'affects', 'उनके', 'beside', 'viz', 'hed', 'beginnings', 'itse”', 'होना', 'हुआ', 'ck', 'non', 'webpage', 'से', 'sh', 'higher', 'causes', 'next', 'towards', 'पर', 'my', 'plus', 'shes', 'करने', 'wells', 'weve', 'taken', 'wont', 'nor', 'puts', 'ने', 'thus', 'shed', 'tip', 'anymore', 'kept', 'un', 'whatll', 'tell', 'कितना', 'etc', 'करता', 'ag', 'were', 'thereafter', 'youll', 'edu', 'जिसे', 'thereof', 'sec', 'l', 'nc', 'namely', 'sz', 'इसका', 'साथ', 'md', 'sj', \"must've\", 'लिए', 'aq', 'vn', 'pointing', 'जो', 'serious', 'theyve', 'whomever', 'भीतर', 'theyre', 'ke', 'being', 'thence', 'right', 'for', 'likewise', 'lb', 'ought', 'रहे', 'कौन', 'insofar', 'mz', 'aside', 'to', 'if', 'specifically', 'gr', \"we're\", 'साभ', 'que', 'vols', 'million', 'specify', 'needs', \"one's\", 'बही', 'mustnt', 'rather', 'करते', 'large', 'given', 'an', 'cmon', \"might've\", 'wheres', 'eighty', 're', 'evenly', 'getting', 'very', 'whereupon', 'primarily', 'whom', 'mc', 'seriously', 'so', 'बाला', 'तिन्हों', 'somebody', 'this', 'v', 'know', 'इसे', 'everyone', 'means', 'new', 'kw', 'sensible', 'neither', 'uses', 'though', 'presented', \"would've\", 'थी', 'according', 'no-one', 'm', 'रखें', 'noone', 'g', 'problems', \"shan't\", 'ug', 'man', 'nr', \"that've\", 'whereby', 'anybody', 'net', 'mt', 'ltd', 'either', 'detail', 'our', 'anyone', 'not', 'bo', 'इसमें', 'thousand', 'nz', 'afterwards', 'points', \"weren't\", 'but', 'होने', 'alongside', 'एक', 'truly', 'throug', 'numbers', 'entirely', 'seven', 'zr', 'number', \"'ve\", 'amongst', 'lu', 'keys', \"won't\", 'willing', 'oldest', 'youre', 'amount', 'resulting', 'eight', 'beginning', \"how's\", 'awfully', 'once', 's', 'problem', 'consider', 'जिस', 'website', 'theyd', 'fire', 'slightly', 'qv', 'presumably', 'liked', 'everywhere', 'exactly', 'biol', 'wherever', 'रहा', 'nd', \"ain't\", 'fifty', 'move', 'becoming', 'तिन', 'make', 'never', 'sg', 'yt', 'point', \"she's\", 'containing', 'everybody', 'ten', \"c'mon\", 'changes', 'तिस', 'gov', \"it'll\", 'ki', 'newer', 'whether', \"what'll\", 'parted', 'hell', 'microsoft', 'ae', 'might', 'downs', 'suggest', 'a', 'hu', 'related', 'placed', 'keep', 'between', 'former', 'the', 'present', 'home', 'how', 'dk', 'cf', 'whence', 'मगर', 'हो', 'significantly', 'fm', 'resulted', 'area', 'किन्हों', 'world', 'needed', 'look', 'rw', \"you've\", \"i'm\", \"i've\", 'upon', 'sv', 'twas', 'उन', 'after', 'toward', 'don', 'needing', 'seemed', 'wholl', 'results', 'bg', 'hasn', 'wherein', 'early', 'gn', 'की', 'unto', 'pn', 'see', 'every', 'previously', 'used', 'द्वारा', \"that'll\", 'sees', 'has', 'li', 'बिलकुल', \"he'd\", 'smallest', 'nobody', 'specifying', 'therein', 'twice', 'high', 'finds', 'old', 'him', 'दो', \"why's\", 'सारा', 'help', 'amid', 'www', 'gb', \"we've\", 'first', 'possible', 'mainly', 'pf', 'vi', 'इन्हों', 'sr', 'affected', 'differently', 'as', 'r', \"wasn't\", 'all', 'course', 'kind', 'इस', 'उसी', 'b', 'tr', 'y', 'ran', 'anyhow', 'cause', 'ba', 'kr', 'mightnt', 'twelve', 'thatll', 'part', 'dont', 'sent', \"mightn't\", 'saying', 'useful', 'cv', \"how'll\", 'presents', \"who'll\", 'अपने', 'sc', 'dj', 'ro', 'backwards', 'meantime', 'जहाँ', 'का', 'further', 'whereafter', 'less', 'over', 'किया', 'else', 'poorly', 'bm', 'cannot', 'bw', 'beforehand', 'pw', 'also', 'billion', 'dz', 'कहते', 'दूसरे', 'ऱ्वासा', \"isn't\", 'nu', 'such', 'tj', 'ni', 'yourselves', 'fill', 'tm', 'gl', 'gd', 'abst', 'ff', 'hn', 'tv', 'किन्हें', 'buy', 'thin', \"didn't\", 'sy', 'seem', 'comes', 'yes', 'via', 'will', 'when', 'whats', 'er', 'जितना', 'gets', 'his', 'wf', 'com', 'regarding', 'भी', 'web', 'il', 'lower', 'उसे', 'me', \"when's\", 'sa', 'gi', 'away', 'darent', 'hid', 'round', 'उन्हों', 'fully', 'highest', 'nothing', 'took', 'making', 'shall', 'smaller', \"what's\", 'affecting', 'न', 'gave', 'hi', 'actually', 'usefully', 'जिन्हों', \"he's\", 'fify', 'सभी', 'appear', 'cant', 'null', 'vu', \"you'd\", 'without', \"how'd\", 'ge', 'out', 'al', 'themselves', 'kh', 'from', \"mustn't\", 'contain', 'must', \"they're\", \"i'd\", 'st', 'got', 'parting', 'recent', 'neverless', 'seeing', 'hasnt', 'aren', \"it's\", 'stop', 'ask', 'areas', 'isnt', 'inside', 'test', 'won', 'whose', 'wanted', 'notwithstanding', 'turn', 'inner', 'zm', 'on', \"hadn't\", 'shouldnt', 'gives', 'isn', 'greetings', 'follows', 'bf', 'considering', 'backed', 'unlikely', 'having', 'doesn', 'sk', 'well', 'वग़ैरह', 'underneath', 'लिये', 'inward', 'down', 'little', 'ne', 'itd', 'felt', 'ourselves', 'five', 'org', 'besides', \"should've\", 'big', 'briefly', 'important', 'put', \"here's\", 'till', 'lc', 'probably', 'overall', 'taking', 'tz', 'allow', 'दबारा', 'thereupon', 'ly', 'बहुत', 'co', 'provided', \"what've\", 'followed', 'youve', 'did', 'asking', 'recently', 'name', 'empty', 'su', 'parts', 'n', 'cr', 'na', 'havent', 'order', 'im', 'thats', 'furthermore', 'rd', 'undoing', 'ex', 'neednt', 'sl', 'makes', 'mp', 'ms', 'अभी', 'indicated', 'been', \"you're\", 'back', 'run', 'states', 'research', 'pointed', 'ये', 'begins', 'नहीं', 'using', 'system', 'find', 'although', 'example', 'had', 'obtained', 'still', 'wasnt', 'gu', 'ending', 'mil', 'let', 'fi', 'lr', 'dm', 'interested', 'among', 'vg', 'beyond', 'ed', 'vs', 'case', 'hr', 'nevertheless', 'show', 'dare', 'kp', 'tis', 'until', 'ec', \"he'll\", 'myself', 'ch', 'arise', 'your', 'oughtnt', 'greatest', 'x', 'inasmuch', 'few', 'younger', 'thorough', 'should', 'index', 'working', 'u', 'wonder', 'nearly', 'ups', 'q', \"there's\", \"oughtn't\", 'indeed', 'didnt', 'it', \"where's\", 'nine', 'before', 'behind', 'gg', 'ga', 'id', 'll', 'things', 'ad', 'goods', 'करना', 'dear', 'join', 'htm', 'take', 'reasonably', 'any', 'years', 'done', 'throughout', 'ie', 'kg', 'tp', 'दुसरा', 'vol', 'herein', 'pr', 'जीधर', 'gw', 'added', \"there've\", 'specified', 'को', 'lest', 'pg', 'noted', 'i', 'said', 'under', 'ky', 'describe', 'newest', 'outside', 'year', 'showed', \"haven't\", 'sometimes', 'associated', 'due', 'उस', 'उनका', 'thanks', 'go', \"that's\", 'different', 'ill', \"they've\", 'pl', 'contains', 'tc', 'others', 'इन्हीं', 'furthering', 'lk', 'do', 'bn', 'several', 'does', 'mean', 'low', 'gmt', 'least', 'consequently', 'moreover', 'directly', 'may', 'cx', 'certainly', 'clearly', 'its', 'फिर', 'them', 'widely', 'grouped', 'saw', 'many', 'sometime', 'respectively', 'effect', 'काफ़ी', 'yet', 'general', 'goes', 'second', 'later', 'tt', 'usefulness', 'बनी', 'mo', 'didn', 'shant', 'that', 'inc.', 'three', 'another', 'hes', 'cn', \"she'd\", 'especially', 'again', 'et', 'whenever', 'particularly', 'gm', 'announce', 'ordered', 'homepage', 'during', 'वहाँ', 'ref', 'great', 'interesting', 'sb', 'couldnt', 'wish', 'looking', 'बाद', 'उनकी', 'facts', 'value', 'कि', 'similarly', 'seconds', 'thirty', 'va', 'कौनसा', 'always', 'formerly', 'werent', 'इन', 'places', 'अंदर', 'face', 'anywhere', 'अपना', 'what', 'sixty', 'ended', 'men', 'us', 'older', 'open', 'possibly', 'fk', 'um', 'be', 'however', 'otherwise', 'fact', 'about', 'itself', 'cm', 'किर', 'tk', 'knew', 'self', \"let's\", 'here', 'mostly', 'wouldn', 'could', 'उनको', 'weren', 'यहाँ', 'say', 'ignored', 'none', 'latter', 'some', 'तब', 'ee', 'nf', 'substantially', 'उन्हें', 'br', 'believe', 'herself', 'last', 'looks', 'th', 'give', \"you'll\", 'around', 'versus', 'eh', 'whither', 'az', 'vc', 'omitted', 'soon', 'thank', 'cg', 'cs', 'j', 'currently', 'या', \"they'd\", 'दिया', 'call', 'certain', 'jp', 'importance', 'full', 'yu', 'ना', 'sub', 'onto', 'om', 'almost', 've', 'sure', 'bottom', \"they'll\", 'au', 'तो', 'तरह', 'howbeit', 'sincere', 'pt', \"couldn't\", 'et-al', 'जिन्हें', \"'twas\", 'lv', 'immediately', 'je', 'latest', 'keeps', 'through', 'amidst', \"why'll\", 'necessary', 'जैसे', 'apart', 'who', 'अत', 'कर', \"when'll\", 'gotten', 'पूरा', 'by', 'youd', 'longer', 'somethan', 'इसी', 'available', 'room', 'information', 'copy', 'se', 'became', 'concerning', 'something', 'definitely', 'tries', 'whichever', \"what'd\", \"where'd\", 'ir', 'grouping', 'miss', 'appropriate', 'hereafter', 'thoughh', 'wasn', 'ever', 'mx', 'करें', \"why'd\", 'ones', 'है', 'owing', 'तक', 'begin', 'have', 'और', 'clear', 'get', 'no', 'shown', 'ord', 'think', 'theyll', 'usually', 'are', 'sorry', 'date', 'asks', 'allows', 'qa', 'ok', 'seventy', 'whatve', 'place', 'lets', 'forty', 'iq', 'twenty', 'bs', 'z', 'netscape', 'whim', 'same', 'side', 'यदि', 'uy', 'whos', 'fairly', 'bv', \"who'd\", 'bh', 'maynt', 'hence', 'forever', 'व', 'e', 'going', 'orders', 'arpa', 'herse”', 'सो', 'more', 'kn', 'lt', 'anyways', 'found', 'mn', 'backs', 'opens', 'regards', 'am', 'beings', 'मानो', 'immediate', 'कुछ', 'gp', 'despite', 'ring', 'इनका', 'can', 'itll', 'html', 'best', 'come', 'indicate', 'hello', 'निहायत', 'line', 'both', \"we'd\", 'began', 'cc', 'thoughts', \"wouldn't\", 'सकता', \"when'd\", 'each', 'she', 'यिह', 'which', 'invention', 'nonetheless', 'made', \"could've\", 'accordance', 'site', 'नके', 'fix', 'हुई', 'why', 'minus', 'sup', 'लेकिन', 'ng', 'sd', 'doubtful', 'you', 'ma', 'regardless', 'तिसे', 'mine', 'opposite', 'even', 'किसी', 'seems', 'unless', 'page', 'in', 'near', 'la', 'therell', \"where'll\", 'हुए', 'arent', 'with', 'bj', 'cu', 'therere', 'enough', 'forward', 'http', 'secondly', 'giving', 'brief', 'happens', 'de', 'nay', \"shouldn't\", 'click', 'gq', 'मे', 'में', 'similar', 'caption', 'along', 'elsewhere', 'uucp', 'normally', 'latterly', 'ive', 'than', 'जा', 'following', 'often', 'six', 'okay', 'most', 'वुह', 'hm', 'whod', 'whole', 'nowhere', 'sn', 'below', 'better', 'fr', 'everything', 'किस', \"there're\", 'at', 'somewhat', 'predominantly', 'tf', 'thanx', 'thru', 'youngest', 'कहा', 'hadnt', 'whoever', 'one', 'instead', 'since', 'worked', '39', 'con', 'backing', 'mm', 'obtain', 'til', 'against', 'ca', 'and', 'quite', 'particular', 'mk', 'hopefully', 'except', 'hereby', 'cz', 'था', 'able', 'just', 'asked', 'relatively', 'adopted', 'fifth', 'thick', 'words', 'showns', 'np', 'wouldnt', '10', 'shows', 'ph', 'ninety', 'gh', \"'ll\", 'too', \"a's\", 'upwards', 'जैसा', 'के', 'cy', 'someday', 'होता', 'generally', 'mg', 'jo', 'km', 'whilst', 'ways', 'ye', 'eleven', 'therefore', 'ts', 'ordering', 'work', 'showing', 'adj', 'seen', 'ru', 'perhaps', 'unfortunately', 'merely', 'whatever', 'went', 'हैं', 'सबसे', 'turns', \"she'll\", 'he', 'वर्ग', 'zero', 'of', 'young', 'top', 'group', 'within', 'nl', 'inc', 'ua', 'thereby', 'past', 'or', 'ableabout', 'mr', 'try', \"needn't\", 'interests', 'other', 'member', 'trillion', 'oh', 'likely', 'ws', 'sufficiently', 'py', 'width', 'reserved', 'd', 'while', 'their', 'आदि', 'bt', 'own', 'bi', 'तिन्हें', 'ऐसे', 'mug', 'theirs', 'gone', 'ago', 'यह', 'cl', \"i'll\", 'then', \"there'd\", 'ar', 'refs', 'कई', 'bb', 'theres', 'पहले', 'वह', 'tw', 'fo', 'want', 'much', 'int', 'off', 'promptly', 'novel', 'maybe', 'downing', 'thereto', 'quickly', 'c', 'largely', 'thoroughly', 'mill', 'section', 'alone', 'fj', 'significant', 'ls', 'wed', 'presenting', 'end', 'एवं', 'bd', 'pk', \"t's\", 'आप', 'pe', 'together', 'gs', 'greater', \"it'd\", 'seeming', 'today', 'jm', 'यही', 'provides', 'knows', 'interest', 'ht', 'अपनी', 'amoungst', 'वहीं', 'वाले', 'turning', 'mu', 'cases', 'differ', 'neverf', 'sides', 'thing', 'anyway', 'we', 'fifteen', 'hither', \"there'll\", 'aw', 'thou', 'indicates', \"daren't\", 'thought', 'himse”', 'doesnt', 'downwards', 'up', 'only', 'mw', 'forth', 'turned', 'थे', 'free', 'uk', 'ah', 'auth', 'those', 'couldn', 'i.e.', \"mayn't\", 'shouldn', 'ही', 'ours', 'works', 'because', 'per', 'like', \"doesn't\", 'becomes', 'was', 'now', 'heres', 'gf', 'af', 'नीचे', 'length', \"'tis\", 'trying', 'known', 'bill', 'साबुत', 'io', 'appreciate', 'these', 'ends', 'f', 'furthered', 'accordingly', 'उन्हीं', 'ii', 'really', 'cry', \"aren't\", 'fx', 'obviously', 'gt', 'someone', 'gy', 'above', 'p', 'bz', 'would', 'whereas', 'use', 'mh', 'co.', 'wanting', 'tried', 'potentially', 'came', \"don't\", 'groups', 'already', 'longest', 'himself', 'ai', 'कोई', 'ahead', 'good', 'होते', 'इत्यादि', 'tends'}\n"
          ]
        }
      ]
    },
    {
      "cell_type": "markdown",
      "source": [
        "## BASEWORDS INITILIAZATION"
      ],
      "metadata": {
        "id": "i2117gERrvJh"
      }
    },
    {
      "cell_type": "code",
      "source": [
        "base_tweet = list()\n",
        "base_tweet.append(\"No more funding to terrorists, naxalites and underworld. great step towards eliminating all such practices.\")\n",
        "print(base_tweet[0])"
      ],
      "metadata": {
        "colab": {
          "base_uri": "https://localhost:8080/"
        },
        "id": "LUdHD2R8r07p",
        "outputId": "d8e8b4dd-89fe-4ca3-f732-384aafbf9ae2"
      },
      "execution_count": 208,
      "outputs": [
        {
          "output_type": "stream",
          "name": "stdout",
          "text": [
            "No more funding to terrorists, naxalites and underworld. great step towards eliminating all such practices.\n"
          ]
        }
      ]
    },
    {
      "cell_type": "markdown",
      "source": [
        "## DATA PREPROCESSING"
      ],
      "metadata": {
        "id": "e9hrnrmy79zc"
      }
    },
    {
      "cell_type": "code",
      "source": [
        "def data_cleaning(tweet_array,tweet_id,length):\n",
        "  # using nltk twitter tokenizer\n",
        "    lemmatizer = nltk.stem.WordNetLemmatizer()\n",
        "    lancaster=LancasterStemmer()\n",
        "    processed_review=[]\n",
        "    mapping = dict()\n",
        "    single_review = \"\"\n",
        "    for index in range(0,length):\n",
        "        single_review = tweet_array[index]\n",
        "        # remove html tags\n",
        "        single_review = re.sub('<.*?>',' ',single_review)\n",
        "        # remove single characters\n",
        "        single_review = re.sub('\\s+[a-zA-Z]\\s+',' ', single_review)\n",
        "        # remove multiple spaces \n",
        "        single_review = re.sub('\\s+',' ', single_review)\n",
        "        # use twitter tokenizer\n",
        "        tk = TweetTokenizer()\n",
        "        word_tokens = tk.tokenize(single_review)\n",
        "        lemmatized_sentence = \" \".join(lemmatizer.lemmatize(token) for token in word_tokens if token not in stop_words)\n",
        "        processed_review.append(lemmatized_sentence)\n",
        "        mapping[tweet_id[index]]=single_review\n",
        "\n",
        "    \n",
        "    return processed_review, mapping"
      ],
      "metadata": {
        "id": "idWFH7t__R6M"
      },
      "execution_count": 225,
      "outputs": []
    },
    {
      "cell_type": "code",
      "source": [
        "# This function takes tweets as input and preprocess it consider tweet id\n",
        "def data_preprocessing(df):\n",
        "  # finding different languages and considering only english and hindi\n",
        "  print(\"unique languages are\",df.language.unique())\n",
        "  en_df = df.loc[df['language']=='en']\n",
        "  hi_df = df.loc[df['language']=='hi']\n",
        "  print(\"english tweets shape is\",en_df.shape)\n",
        "  print(\"hindi tweets shape is\",hi_df.shape)\n",
        "  english_content = np.array(en_df.content)\n",
        "  hindi_content = np.array(hi_df.content)\n",
        "  english_tweet_id = np.array(en_df.tweet_id)\n",
        "  hindi_tweet_id = np.array(hi_df.tweet_id)\n",
        "  length1 = en_df.shape[0]\n",
        "  length2 = hi_df.shape[0]\n",
        "  english_tweets, en_id_content = data_cleaning(english_content,english_tweet_id, length1)\n",
        "  hindi_tweets, hi_id_content  = data_cleaning(hindi_content,hindi_tweet_id,length2)\n",
        "  return english_tweets, hindi_tweets, en_id_content, hi_id_content\n"
      ],
      "metadata": {
        "id": "uLVor0ge79Ud"
      },
      "execution_count": 226,
      "outputs": []
    },
    {
      "cell_type": "code",
      "source": [
        "india_propaganda = 'https://raw.githubusercontent.com/abhiram144/Copy-Pasta-Analysis/main/hash_tag_csv/IndiaDefeatsBlackMoney.csv'\n",
        "df = pd.read_csv(india_propaganda)\n",
        "english_tweets, hindi_tweets, en_mapping, hi_mapping = data_preprocessing(df)"
      ],
      "metadata": {
        "colab": {
          "base_uri": "https://localhost:8080/"
        },
        "id": "6aRCBHZ4-Q7z",
        "outputId": "fcd40dbe-4e42-4360-e880-7040569e85f7"
      },
      "execution_count": 227,
      "outputs": [
        {
          "output_type": "stream",
          "name": "stdout",
          "text": [
            "unique languages are ['en' 'hi' 'und' 'fr' 'et' 'cy' 'es' 'tl' 'in' 'mr' 'gu' 'pt' 'sv' 'vi'\n",
            " 'ml' 'ta' 'nl' 'ne' 'ro' 'cs' 'is' 'it' 'ar' 'ht' 'fi' 'da' 'kn' 'sl'\n",
            " 'tr' 'pl' 'ca' 'de' 'ko' 'hu' 'no' 'eu']\n",
            "english tweets shape is (9063, 9)\n",
            "hindi tweets shape is (1665, 9)\n"
          ]
        }
      ]
    },
    {
      "cell_type": "code",
      "source": [
        "print(len(en_mapping))"
      ],
      "metadata": {
        "colab": {
          "base_uri": "https://localhost:8080/"
        },
        "id": "yYNsjE7UnlIy",
        "outputId": "2502a22c-b59c-46de-930b-b6eaae8eb288"
      },
      "execution_count": 212,
      "outputs": [
        {
          "output_type": "stream",
          "name": "stdout",
          "text": [
            "9063\n"
          ]
        }
      ]
    },
    {
      "cell_type": "code",
      "source": [
        "preprocessed_tweets = list()\n",
        "t, id = data_cleaning(base_tweet,[1],len(base_tweet))\n",
        "print(t)"
      ],
      "metadata": {
        "colab": {
          "base_uri": "https://localhost:8080/"
        },
        "id": "IzLUM5AQ5ynx",
        "outputId": "46babd82-f1eb-471a-e57e-3862a236c41e"
      },
      "execution_count": 187,
      "outputs": [
        {
          "output_type": "stream",
          "name": "stdout",
          "text": [
            "['No funding terrorist , naxalites underworld . step eliminating practice .']\n"
          ]
        }
      ]
    },
    {
      "cell_type": "code",
      "source": [
        "print(id)"
      ],
      "metadata": {
        "colab": {
          "base_uri": "https://localhost:8080/"
        },
        "id": "lVsqS0pWoBeM",
        "outputId": "22f2fa82-e6e7-4754-a880-daf7006ed9ac"
      },
      "execution_count": 213,
      "outputs": [
        {
          "output_type": "stream",
          "name": "stdout",
          "text": [
            "{1: 'No more funding to terrorists, naxalites and underworld. great step towards eliminating all such practices.'}\n"
          ]
        }
      ]
    },
    {
      "cell_type": "markdown",
      "source": [
        "## USER DATA LOADING"
      ],
      "metadata": {
        "id": "htQZArCWjLfU"
      }
    },
    {
      "cell_type": "code",
      "source": [
        "party_url = 'https://raw.githubusercontent.com/abhiram144/Copy-Pasta-Analysis/main/user_tweets/user_data.csv'\n",
        "df_party_names = pd.read_csv(party_url)\n",
        "user_details_url = 'https://raw.githubusercontent.com/abhiram144/Copy-Pasta-Analysis/main/user_tweets/user_details.csv'\n",
        "df_user_data = pd.read_csv(user_details_url)"
      ],
      "metadata": {
        "id": "R5mNPa7IjJzz"
      },
      "execution_count": 157,
      "outputs": []
    },
    {
      "cell_type": "code",
      "source": [
        "df_party_names.head()"
      ],
      "metadata": {
        "colab": {
          "base_uri": "https://localhost:8080/",
          "height": 548
        },
        "id": "YIVkVhCto0B6",
        "outputId": "ccb9d2cf-8301-49ff-8dfd-98d9ac8b4b1d"
      },
      "execution_count": 158,
      "outputs": [
        {
          "output_type": "execute_result",
          "data": {
            "text/plain": [
              "   Unnamed: 0  verified                     location                   id  \\\n",
              "0           0      True                Punjab, India           3153134184   \n",
              "1           1      True                    NEW DELHI             45795876   \n",
              "2           2      True                     Dehradun           1297926962   \n",
              "3           3      True  pokhari chamoli uttarakhand           2692838006   \n",
              "4           4      True            Yamkeshwar, India  1028186624218288128   \n",
              "\n",
              "                       url                                     public_metrics  \\\n",
              "0                      NaN  {'followers_count': 58375, 'following_count': ...   \n",
              "1                      NaN  {'followers_count': 21332, 'following_count': ...   \n",
              "2  https://t.co/SkirgMiB7f  {'followers_count': 1907, 'following_count': 2...   \n",
              "3  https://t.co/9j75o0vuWo  {'followers_count': 5481, 'following_count': 3...   \n",
              "4  https://t.co/SxS5stdGzU  {'followers_count': 2602, 'following_count': 1...   \n",
              "\n",
              "   protected party         username                                name  \\\n",
              "0      False   BJP     sunilkjakhar                        Sunil Jakhar   \n",
              "1      False   BJP    rpsinghkhalsa  RP Singh National Spokesperson BJP   \n",
              "2      False   BJP  bjpnareshbansal                       Naresh Bansal   \n",
              "3      False   BJP  mahendrabhatbjp                  Mahendra Bhatt MLA   \n",
              "4      False   BJP  RituKhanduriBJP               Ritu Khanduri Bhushan   \n",
              "\n",
              "                 created_at                                        description  \n",
              "0  2015-04-13T16:14:06.000Z                                                NaN  \n",
              "1  2009-06-09T08:33:22.000Z  Advertising Professional.\\nPatron, Gali Pathsh...  \n",
              "2  2013-03-25T06:31:52.000Z  Member of Parliament Rajya Sabha | Ex. General...  \n",
              "3  2014-07-30T13:02:25.000Z  महेंद्र भट्ट विधायक बद्रीनाथ विधानसभा उत्तराखं...  \n",
              "4  2018-08-11T07:49:28.000Z  Official Account of Smt. Ritu Khanduri Bhushan...  "
            ],
            "text/html": [
              "\n",
              "  <div id=\"df-13c9695d-b4fc-48f0-873a-75243a264bfc\">\n",
              "    <div class=\"colab-df-container\">\n",
              "      <div>\n",
              "<style scoped>\n",
              "    .dataframe tbody tr th:only-of-type {\n",
              "        vertical-align: middle;\n",
              "    }\n",
              "\n",
              "    .dataframe tbody tr th {\n",
              "        vertical-align: top;\n",
              "    }\n",
              "\n",
              "    .dataframe thead th {\n",
              "        text-align: right;\n",
              "    }\n",
              "</style>\n",
              "<table border=\"1\" class=\"dataframe\">\n",
              "  <thead>\n",
              "    <tr style=\"text-align: right;\">\n",
              "      <th></th>\n",
              "      <th>Unnamed: 0</th>\n",
              "      <th>verified</th>\n",
              "      <th>location</th>\n",
              "      <th>id</th>\n",
              "      <th>url</th>\n",
              "      <th>public_metrics</th>\n",
              "      <th>protected</th>\n",
              "      <th>party</th>\n",
              "      <th>username</th>\n",
              "      <th>name</th>\n",
              "      <th>created_at</th>\n",
              "      <th>description</th>\n",
              "    </tr>\n",
              "  </thead>\n",
              "  <tbody>\n",
              "    <tr>\n",
              "      <th>0</th>\n",
              "      <td>0</td>\n",
              "      <td>True</td>\n",
              "      <td>Punjab, India</td>\n",
              "      <td>3153134184</td>\n",
              "      <td>NaN</td>\n",
              "      <td>{'followers_count': 58375, 'following_count': ...</td>\n",
              "      <td>False</td>\n",
              "      <td>BJP</td>\n",
              "      <td>sunilkjakhar</td>\n",
              "      <td>Sunil Jakhar</td>\n",
              "      <td>2015-04-13T16:14:06.000Z</td>\n",
              "      <td>NaN</td>\n",
              "    </tr>\n",
              "    <tr>\n",
              "      <th>1</th>\n",
              "      <td>1</td>\n",
              "      <td>True</td>\n",
              "      <td>NEW DELHI</td>\n",
              "      <td>45795876</td>\n",
              "      <td>NaN</td>\n",
              "      <td>{'followers_count': 21332, 'following_count': ...</td>\n",
              "      <td>False</td>\n",
              "      <td>BJP</td>\n",
              "      <td>rpsinghkhalsa</td>\n",
              "      <td>RP Singh National Spokesperson BJP</td>\n",
              "      <td>2009-06-09T08:33:22.000Z</td>\n",
              "      <td>Advertising Professional.\\nPatron, Gali Pathsh...</td>\n",
              "    </tr>\n",
              "    <tr>\n",
              "      <th>2</th>\n",
              "      <td>2</td>\n",
              "      <td>True</td>\n",
              "      <td>Dehradun</td>\n",
              "      <td>1297926962</td>\n",
              "      <td>https://t.co/SkirgMiB7f</td>\n",
              "      <td>{'followers_count': 1907, 'following_count': 2...</td>\n",
              "      <td>False</td>\n",
              "      <td>BJP</td>\n",
              "      <td>bjpnareshbansal</td>\n",
              "      <td>Naresh Bansal</td>\n",
              "      <td>2013-03-25T06:31:52.000Z</td>\n",
              "      <td>Member of Parliament Rajya Sabha | Ex. General...</td>\n",
              "    </tr>\n",
              "    <tr>\n",
              "      <th>3</th>\n",
              "      <td>3</td>\n",
              "      <td>True</td>\n",
              "      <td>pokhari chamoli uttarakhand</td>\n",
              "      <td>2692838006</td>\n",
              "      <td>https://t.co/9j75o0vuWo</td>\n",
              "      <td>{'followers_count': 5481, 'following_count': 3...</td>\n",
              "      <td>False</td>\n",
              "      <td>BJP</td>\n",
              "      <td>mahendrabhatbjp</td>\n",
              "      <td>Mahendra Bhatt MLA</td>\n",
              "      <td>2014-07-30T13:02:25.000Z</td>\n",
              "      <td>महेंद्र भट्ट विधायक बद्रीनाथ विधानसभा उत्तराखं...</td>\n",
              "    </tr>\n",
              "    <tr>\n",
              "      <th>4</th>\n",
              "      <td>4</td>\n",
              "      <td>True</td>\n",
              "      <td>Yamkeshwar, India</td>\n",
              "      <td>1028186624218288128</td>\n",
              "      <td>https://t.co/SxS5stdGzU</td>\n",
              "      <td>{'followers_count': 2602, 'following_count': 1...</td>\n",
              "      <td>False</td>\n",
              "      <td>BJP</td>\n",
              "      <td>RituKhanduriBJP</td>\n",
              "      <td>Ritu Khanduri Bhushan</td>\n",
              "      <td>2018-08-11T07:49:28.000Z</td>\n",
              "      <td>Official Account of Smt. Ritu Khanduri Bhushan...</td>\n",
              "    </tr>\n",
              "  </tbody>\n",
              "</table>\n",
              "</div>\n",
              "      <button class=\"colab-df-convert\" onclick=\"convertToInteractive('df-13c9695d-b4fc-48f0-873a-75243a264bfc')\"\n",
              "              title=\"Convert this dataframe to an interactive table.\"\n",
              "              style=\"display:none;\">\n",
              "        \n",
              "  <svg xmlns=\"http://www.w3.org/2000/svg\" height=\"24px\"viewBox=\"0 0 24 24\"\n",
              "       width=\"24px\">\n",
              "    <path d=\"M0 0h24v24H0V0z\" fill=\"none\"/>\n",
              "    <path d=\"M18.56 5.44l.94 2.06.94-2.06 2.06-.94-2.06-.94-.94-2.06-.94 2.06-2.06.94zm-11 1L8.5 8.5l.94-2.06 2.06-.94-2.06-.94L8.5 2.5l-.94 2.06-2.06.94zm10 10l.94 2.06.94-2.06 2.06-.94-2.06-.94-.94-2.06-.94 2.06-2.06.94z\"/><path d=\"M17.41 7.96l-1.37-1.37c-.4-.4-.92-.59-1.43-.59-.52 0-1.04.2-1.43.59L10.3 9.45l-7.72 7.72c-.78.78-.78 2.05 0 2.83L4 21.41c.39.39.9.59 1.41.59.51 0 1.02-.2 1.41-.59l7.78-7.78 2.81-2.81c.8-.78.8-2.07 0-2.86zM5.41 20L4 18.59l7.72-7.72 1.47 1.35L5.41 20z\"/>\n",
              "  </svg>\n",
              "      </button>\n",
              "      \n",
              "  <style>\n",
              "    .colab-df-container {\n",
              "      display:flex;\n",
              "      flex-wrap:wrap;\n",
              "      gap: 12px;\n",
              "    }\n",
              "\n",
              "    .colab-df-convert {\n",
              "      background-color: #E8F0FE;\n",
              "      border: none;\n",
              "      border-radius: 50%;\n",
              "      cursor: pointer;\n",
              "      display: none;\n",
              "      fill: #1967D2;\n",
              "      height: 32px;\n",
              "      padding: 0 0 0 0;\n",
              "      width: 32px;\n",
              "    }\n",
              "\n",
              "    .colab-df-convert:hover {\n",
              "      background-color: #E2EBFA;\n",
              "      box-shadow: 0px 1px 2px rgba(60, 64, 67, 0.3), 0px 1px 3px 1px rgba(60, 64, 67, 0.15);\n",
              "      fill: #174EA6;\n",
              "    }\n",
              "\n",
              "    [theme=dark] .colab-df-convert {\n",
              "      background-color: #3B4455;\n",
              "      fill: #D2E3FC;\n",
              "    }\n",
              "\n",
              "    [theme=dark] .colab-df-convert:hover {\n",
              "      background-color: #434B5C;\n",
              "      box-shadow: 0px 1px 3px 1px rgba(0, 0, 0, 0.15);\n",
              "      filter: drop-shadow(0px 1px 2px rgba(0, 0, 0, 0.3));\n",
              "      fill: #FFFFFF;\n",
              "    }\n",
              "  </style>\n",
              "\n",
              "      <script>\n",
              "        const buttonEl =\n",
              "          document.querySelector('#df-13c9695d-b4fc-48f0-873a-75243a264bfc button.colab-df-convert');\n",
              "        buttonEl.style.display =\n",
              "          google.colab.kernel.accessAllowed ? 'block' : 'none';\n",
              "\n",
              "        async function convertToInteractive(key) {\n",
              "          const element = document.querySelector('#df-13c9695d-b4fc-48f0-873a-75243a264bfc');\n",
              "          const dataTable =\n",
              "            await google.colab.kernel.invokeFunction('convertToInteractive',\n",
              "                                                     [key], {});\n",
              "          if (!dataTable) return;\n",
              "\n",
              "          const docLinkHtml = 'Like what you see? Visit the ' +\n",
              "            '<a target=\"_blank\" href=https://colab.research.google.com/notebooks/data_table.ipynb>data table notebook</a>'\n",
              "            + ' to learn more about interactive tables.';\n",
              "          element.innerHTML = '';\n",
              "          dataTable['output_type'] = 'display_data';\n",
              "          await google.colab.output.renderOutput(dataTable, element);\n",
              "          const docLink = document.createElement('div');\n",
              "          docLink.innerHTML = docLinkHtml;\n",
              "          element.appendChild(docLink);\n",
              "        }\n",
              "      </script>\n",
              "    </div>\n",
              "  </div>\n",
              "  "
            ]
          },
          "metadata": {},
          "execution_count": 158
        }
      ]
    },
    {
      "cell_type": "code",
      "source": [
        "df_user_data.head()"
      ],
      "metadata": {
        "colab": {
          "base_uri": "https://localhost:8080/",
          "height": 206
        },
        "id": "1RMiX7PMrDOU",
        "outputId": "c535659a-71a5-483c-bd0e-faa90700504c"
      },
      "execution_count": 159,
      "outputs": [
        {
          "output_type": "execute_result",
          "data": {
            "text/plain": [
              "          username          id          displayname  followersCount  \\\n",
              "0          BJP4JnK  1864685238  BJP Jammu & Kashmir           86433   \n",
              "1     GulabMatiala  2922933098          Gulab Singh           38727   \n",
              "2  guptaravinder71  2204739805    Ravinder Gupta 🇮🇳           23358   \n",
              "3     MaheishGirri   425973946        Maheish Girri          133913   \n",
              "4   shweta_shalini  2366619296       Shweta Shalini           22684   \n",
              "\n",
              "   friendsCount               location  \n",
              "0           222        Jammu & Kashmir  \n",
              "1           716       New Delhi, India  \n",
              "2          1234  Karol Bagh, New Delhi  \n",
              "3           657       New Delhi, India  \n",
              "4           374                 Mumbai  "
            ],
            "text/html": [
              "\n",
              "  <div id=\"df-6a233db0-6b12-45d9-a826-a7c9a502bf49\">\n",
              "    <div class=\"colab-df-container\">\n",
              "      <div>\n",
              "<style scoped>\n",
              "    .dataframe tbody tr th:only-of-type {\n",
              "        vertical-align: middle;\n",
              "    }\n",
              "\n",
              "    .dataframe tbody tr th {\n",
              "        vertical-align: top;\n",
              "    }\n",
              "\n",
              "    .dataframe thead th {\n",
              "        text-align: right;\n",
              "    }\n",
              "</style>\n",
              "<table border=\"1\" class=\"dataframe\">\n",
              "  <thead>\n",
              "    <tr style=\"text-align: right;\">\n",
              "      <th></th>\n",
              "      <th>username</th>\n",
              "      <th>id</th>\n",
              "      <th>displayname</th>\n",
              "      <th>followersCount</th>\n",
              "      <th>friendsCount</th>\n",
              "      <th>location</th>\n",
              "    </tr>\n",
              "  </thead>\n",
              "  <tbody>\n",
              "    <tr>\n",
              "      <th>0</th>\n",
              "      <td>BJP4JnK</td>\n",
              "      <td>1864685238</td>\n",
              "      <td>BJP Jammu &amp; Kashmir</td>\n",
              "      <td>86433</td>\n",
              "      <td>222</td>\n",
              "      <td>Jammu &amp; Kashmir</td>\n",
              "    </tr>\n",
              "    <tr>\n",
              "      <th>1</th>\n",
              "      <td>GulabMatiala</td>\n",
              "      <td>2922933098</td>\n",
              "      <td>Gulab Singh</td>\n",
              "      <td>38727</td>\n",
              "      <td>716</td>\n",
              "      <td>New Delhi, India</td>\n",
              "    </tr>\n",
              "    <tr>\n",
              "      <th>2</th>\n",
              "      <td>guptaravinder71</td>\n",
              "      <td>2204739805</td>\n",
              "      <td>Ravinder Gupta 🇮🇳</td>\n",
              "      <td>23358</td>\n",
              "      <td>1234</td>\n",
              "      <td>Karol Bagh, New Delhi</td>\n",
              "    </tr>\n",
              "    <tr>\n",
              "      <th>3</th>\n",
              "      <td>MaheishGirri</td>\n",
              "      <td>425973946</td>\n",
              "      <td>Maheish Girri</td>\n",
              "      <td>133913</td>\n",
              "      <td>657</td>\n",
              "      <td>New Delhi, India</td>\n",
              "    </tr>\n",
              "    <tr>\n",
              "      <th>4</th>\n",
              "      <td>shweta_shalini</td>\n",
              "      <td>2366619296</td>\n",
              "      <td>Shweta Shalini</td>\n",
              "      <td>22684</td>\n",
              "      <td>374</td>\n",
              "      <td>Mumbai</td>\n",
              "    </tr>\n",
              "  </tbody>\n",
              "</table>\n",
              "</div>\n",
              "      <button class=\"colab-df-convert\" onclick=\"convertToInteractive('df-6a233db0-6b12-45d9-a826-a7c9a502bf49')\"\n",
              "              title=\"Convert this dataframe to an interactive table.\"\n",
              "              style=\"display:none;\">\n",
              "        \n",
              "  <svg xmlns=\"http://www.w3.org/2000/svg\" height=\"24px\"viewBox=\"0 0 24 24\"\n",
              "       width=\"24px\">\n",
              "    <path d=\"M0 0h24v24H0V0z\" fill=\"none\"/>\n",
              "    <path d=\"M18.56 5.44l.94 2.06.94-2.06 2.06-.94-2.06-.94-.94-2.06-.94 2.06-2.06.94zm-11 1L8.5 8.5l.94-2.06 2.06-.94-2.06-.94L8.5 2.5l-.94 2.06-2.06.94zm10 10l.94 2.06.94-2.06 2.06-.94-2.06-.94-.94-2.06-.94 2.06-2.06.94z\"/><path d=\"M17.41 7.96l-1.37-1.37c-.4-.4-.92-.59-1.43-.59-.52 0-1.04.2-1.43.59L10.3 9.45l-7.72 7.72c-.78.78-.78 2.05 0 2.83L4 21.41c.39.39.9.59 1.41.59.51 0 1.02-.2 1.41-.59l7.78-7.78 2.81-2.81c.8-.78.8-2.07 0-2.86zM5.41 20L4 18.59l7.72-7.72 1.47 1.35L5.41 20z\"/>\n",
              "  </svg>\n",
              "      </button>\n",
              "      \n",
              "  <style>\n",
              "    .colab-df-container {\n",
              "      display:flex;\n",
              "      flex-wrap:wrap;\n",
              "      gap: 12px;\n",
              "    }\n",
              "\n",
              "    .colab-df-convert {\n",
              "      background-color: #E8F0FE;\n",
              "      border: none;\n",
              "      border-radius: 50%;\n",
              "      cursor: pointer;\n",
              "      display: none;\n",
              "      fill: #1967D2;\n",
              "      height: 32px;\n",
              "      padding: 0 0 0 0;\n",
              "      width: 32px;\n",
              "    }\n",
              "\n",
              "    .colab-df-convert:hover {\n",
              "      background-color: #E2EBFA;\n",
              "      box-shadow: 0px 1px 2px rgba(60, 64, 67, 0.3), 0px 1px 3px 1px rgba(60, 64, 67, 0.15);\n",
              "      fill: #174EA6;\n",
              "    }\n",
              "\n",
              "    [theme=dark] .colab-df-convert {\n",
              "      background-color: #3B4455;\n",
              "      fill: #D2E3FC;\n",
              "    }\n",
              "\n",
              "    [theme=dark] .colab-df-convert:hover {\n",
              "      background-color: #434B5C;\n",
              "      box-shadow: 0px 1px 3px 1px rgba(0, 0, 0, 0.15);\n",
              "      filter: drop-shadow(0px 1px 2px rgba(0, 0, 0, 0.3));\n",
              "      fill: #FFFFFF;\n",
              "    }\n",
              "  </style>\n",
              "\n",
              "      <script>\n",
              "        const buttonEl =\n",
              "          document.querySelector('#df-6a233db0-6b12-45d9-a826-a7c9a502bf49 button.colab-df-convert');\n",
              "        buttonEl.style.display =\n",
              "          google.colab.kernel.accessAllowed ? 'block' : 'none';\n",
              "\n",
              "        async function convertToInteractive(key) {\n",
              "          const element = document.querySelector('#df-6a233db0-6b12-45d9-a826-a7c9a502bf49');\n",
              "          const dataTable =\n",
              "            await google.colab.kernel.invokeFunction('convertToInteractive',\n",
              "                                                     [key], {});\n",
              "          if (!dataTable) return;\n",
              "\n",
              "          const docLinkHtml = 'Like what you see? Visit the ' +\n",
              "            '<a target=\"_blank\" href=https://colab.research.google.com/notebooks/data_table.ipynb>data table notebook</a>'\n",
              "            + ' to learn more about interactive tables.';\n",
              "          element.innerHTML = '';\n",
              "          dataTable['output_type'] = 'display_data';\n",
              "          await google.colab.output.renderOutput(dataTable, element);\n",
              "          const docLink = document.createElement('div');\n",
              "          docLink.innerHTML = docLinkHtml;\n",
              "          element.appendChild(docLink);\n",
              "        }\n",
              "      </script>\n",
              "    </div>\n",
              "  </div>\n",
              "  "
            ]
          },
          "metadata": {},
          "execution_count": 159
        }
      ]
    },
    {
      "cell_type": "markdown",
      "source": [
        "## PERFORM EMBEDDING"
      ],
      "metadata": {
        "id": "ftBNOQ53q75X"
      }
    },
    {
      "cell_type": "code",
      "source": [
        "# module_url = \"https://tfhub.dev/google/universal-sentence-encoder/4\" \n",
        "# model = hub.load(module_url)"
      ],
      "metadata": {
        "id": "zFpKr_ZyrYMb"
      },
      "execution_count": 214,
      "outputs": []
    },
    {
      "cell_type": "code",
      "source": [
        "# !pip install sentence-transformers"
      ],
      "metadata": {
        "id": "w896VBz7B6o9"
      },
      "execution_count": 215,
      "outputs": []
    },
    {
      "cell_type": "code",
      "source": [
        "from sentence_transformers import SentenceTransformer\n",
        "sbert_model = SentenceTransformer('bert-base-nli-mean-tokens')"
      ],
      "metadata": {
        "id": "g7L2hyTEBfwQ"
      },
      "execution_count": 216,
      "outputs": []
    },
    {
      "cell_type": "code",
      "source": [
        "tweet_embeddings = sbert_model.encode(english_tweets)\n",
        "print(tweet_embeddings.shape)"
      ],
      "metadata": {
        "colab": {
          "base_uri": "https://localhost:8080/"
        },
        "id": "5_JenZJprc1H",
        "outputId": "b7bf956b-9f9c-48ff-c235-5399bdc81dde"
      },
      "execution_count": 217,
      "outputs": [
        {
          "output_type": "stream",
          "name": "stdout",
          "text": [
            "(9063, 768)\n"
          ]
        }
      ]
    },
    {
      "cell_type": "code",
      "source": [
        "base_embeddings = sbert_model.encode(t)\n",
        "print(base_embeddings.shape)"
      ],
      "metadata": {
        "colab": {
          "base_uri": "https://localhost:8080/"
        },
        "id": "c6tD4Z0j84YJ",
        "outputId": "fab751a2-880b-4959-80d9-5b039ace4cd5"
      },
      "execution_count": 218,
      "outputs": [
        {
          "output_type": "stream",
          "name": "stdout",
          "text": [
            "(1, 768)\n"
          ]
        }
      ]
    },
    {
      "cell_type": "markdown",
      "source": [
        "## CREATE MAPPING BETWEEN TWEET_ID AND EMBEDDING"
      ],
      "metadata": {
        "id": "_ZPYwQ5zS7dZ"
      }
    },
    {
      "cell_type": "code",
      "source": [
        "# This function creates mapping between embedding and tweet id\n",
        "from collections import defaultdict\n",
        "def reverse_mapping(tweet_embeddings,en_mapping):\n",
        "  rev_map = defaultdict(list)\n",
        "  index = 0\n",
        "  for tweet_id in en_mapping.keys():\n",
        "    tupple = tuple(tweet_embeddings[index])\n",
        "    rev_map[tupple].append(tweet_id)\n",
        "    index = index+1 \n",
        "  print(index)\n",
        "  return rev_map"
      ],
      "metadata": {
        "id": "_wQtoHj6S_-I"
      },
      "execution_count": 230,
      "outputs": []
    },
    {
      "cell_type": "code",
      "source": [
        "rev_map = reverse_mapping(tweet_embeddings,en_mapping)\n",
        "print(len(rev_map))"
      ],
      "metadata": {
        "colab": {
          "base_uri": "https://localhost:8080/"
        },
        "id": "Fl0aN4zBU7-z",
        "outputId": "a35f090e-5606-4bbf-9bb5-55654062153b"
      },
      "execution_count": 231,
      "outputs": [
        {
          "output_type": "stream",
          "name": "stdout",
          "text": [
            "9063\n",
            "6955\n"
          ]
        }
      ]
    },
    {
      "cell_type": "markdown",
      "source": [
        "## Cosine similarity"
      ],
      "metadata": {
        "id": "r52otGbVDbUp"
      }
    },
    {
      "cell_type": "code",
      "source": [
        "from sklearn.metrics.pairwise import cosine_similarity\n",
        "def similarity(base_embeddings,tweet_embeddings):\n",
        "  temp_np_array = np.zeros((len(tweet_embeddings),768))\n",
        "  i = 0\n",
        "  for k in tweet_embeddings:\n",
        "    k = np.array(k)\n",
        "    temp_np_array[i]=k\n",
        "    i=i+1\n",
        "  c_sim=cosine_similarity(base_embeddings,temp_np_array)\n",
        "  return c_sim"
      ],
      "metadata": {
        "id": "7tQFYZ3J44e9"
      },
      "execution_count": 244,
      "outputs": []
    },
    {
      "cell_type": "code",
      "source": [
        "sim=similarity(base_embeddings,rev_map.keys())\n",
        "print(sim.shape)"
      ],
      "metadata": {
        "colab": {
          "base_uri": "https://localhost:8080/"
        },
        "id": "eQHJMThLCvQ1",
        "outputId": "7d96e86d-1951-4a18-8eab-c5ffa9622850"
      },
      "execution_count": 245,
      "outputs": [
        {
          "output_type": "stream",
          "name": "stdout",
          "text": [
            "(1, 6955)\n"
          ]
        }
      ]
    },
    {
      "cell_type": "code",
      "source": [
        "sim_list = sim.tolist()"
      ],
      "metadata": {
        "id": "se7Kw8JgDoWP"
      },
      "execution_count": 246,
      "outputs": []
    },
    {
      "cell_type": "code",
      "source": [
        "f_list = sim_list[0]\n",
        "print(len(f_list))\n",
        "result = list()\n",
        "# print(len(tweet_embeddings))\n",
        "k_list = list(rev_map.keys())\n",
        "for index in range(len(f_list)):\n",
        "  if f_list[index] >= 0.80:\n",
        "      result.append(k_list[index])\n",
        "\n",
        "\n",
        "print(len(result))"
      ],
      "metadata": {
        "colab": {
          "base_uri": "https://localhost:8080/"
        },
        "id": "YvNYrWkhICM8",
        "outputId": "41a575da-8fb9-4308-f150-ca19e143c540"
      },
      "execution_count": 250,
      "outputs": [
        {
          "output_type": "stream",
          "name": "stdout",
          "text": [
            "6955\n",
            "11\n"
          ]
        }
      ]
    },
    {
      "cell_type": "code",
      "source": [
        "c_p_tweet = list()\n",
        "for r in result:\n",
        "  tweet_id = rev_map[tuple(r)]\n",
        "  for t in tweet_id:\n",
        "    c_p_tweet.append(t)\n",
        "print(len(c_p_tweet))"
      ],
      "metadata": {
        "colab": {
          "base_uri": "https://localhost:8080/"
        },
        "id": "haKiyQhlts0U",
        "outputId": "7fb0b7b3-c0cf-44a8-d28e-e0e8923c9cf5"
      },
      "execution_count": 256,
      "outputs": [
        {
          "output_type": "stream",
          "name": "stdout",
          "text": [
            "44\n"
          ]
        }
      ]
    },
    {
      "cell_type": "code",
      "source": [
        "print(\"total number of copy pasted\",len(c_p_tweet))"
      ],
      "metadata": {
        "colab": {
          "base_uri": "https://localhost:8080/"
        },
        "id": "-Mbi5JhyRDbK",
        "outputId": "90aed539-97c6-4f4b-f4de-cad26458ff4c"
      },
      "execution_count": 241,
      "outputs": [
        {
          "output_type": "stream",
          "name": "stdout",
          "text": [
            "total number of copy pasted 29\n"
          ]
        }
      ]
    },
    {
      "cell_type": "code",
      "source": [
        "df.head()"
      ],
      "metadata": {
        "id": "FQakFRkkS_3b"
      },
      "execution_count": null,
      "outputs": []
    },
    {
      "cell_type": "code",
      "source": [
        "new_df = df.loc[df['tweet_id'].isin(tweet_id)]"
      ],
      "metadata": {
        "id": "U0ggcMLsFwwT"
      },
      "execution_count": null,
      "outputs": []
    },
    {
      "cell_type": "code",
      "source": [
        "new_df[['date', 'time']] = new_df['date'].str.split('T', 1, expand=True)\n"
      ],
      "metadata": {
        "id": "OcdBWpujSvhW"
      },
      "execution_count": null,
      "outputs": []
    },
    {
      "cell_type": "code",
      "source": [
        "print(len(new_df))"
      ],
      "metadata": {
        "id": "bVuKnWxDVAcb"
      },
      "execution_count": null,
      "outputs": []
    },
    {
      "cell_type": "code",
      "source": [
        "new_df.head()"
      ],
      "metadata": {
        "id": "IcslKjm-UuBP"
      },
      "execution_count": null,
      "outputs": []
    },
    {
      "cell_type": "code",
      "source": [
        "t_df = new_df.sort_values(by='date')\n",
        "t_df.head()"
      ],
      "metadata": {
        "id": "dj6x5AdlSwB_"
      },
      "execution_count": null,
      "outputs": []
    }
  ]
}