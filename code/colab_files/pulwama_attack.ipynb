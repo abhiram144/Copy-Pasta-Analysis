{
  "nbformat": 4,
  "nbformat_minor": 0,
  "metadata": {
    "colab": {
      "name": "Copy_Pasta_Analysis.ipynb",
      "provenance": [],
      "collapsed_sections": [
        "8gw0qiuvpqk-",
        "bVxSSDst3Gzy",
        "e9hrnrmy79zc",
        "n0G6SLAoR34M",
        "Ms635RiRTE9n",
        "_ZPYwQ5zS7dZ",
        "GBy7PAoebodc",
        "DM4dXdqZMYB2"
      ],
      "machine_shape": "hm"
    },
    "kernelspec": {
      "name": "python3",
      "display_name": "Python 3"
    },
    "language_info": {
      "name": "python"
    },
    "accelerator": "GPU"
  },
  "cells": [
    {
      "cell_type": "markdown",
      "source": [
        "## IMPORT STATEMENTS"
      ],
      "metadata": {
        "id": "YvZ5g5sN23JF"
      }
    },
    {
      "cell_type": "code",
      "execution_count": null,
      "metadata": {
        "colab": {
          "base_uri": "https://localhost:8080/"
        },
        "id": "zRrGgLCM2cMK",
        "outputId": "edca0a65-e396-473e-cf2e-591d1d570406"
      },
      "outputs": [
        {
          "output_type": "stream",
          "name": "stdout",
          "text": [
            "Requirement already satisfied: inltk in /usr/local/lib/python3.7/dist-packages (0.9)\n",
            "Requirement already satisfied: beautifulsoup4 in /usr/local/lib/python3.7/dist-packages (from inltk) (4.6.3)\n",
            "Requirement already satisfied: pyyaml in /usr/local/lib/python3.7/dist-packages (from inltk) (3.13)\n",
            "Requirement already satisfied: spacy>=2.0.18 in /usr/local/lib/python3.7/dist-packages (from inltk) (2.2.4)\n",
            "Requirement already satisfied: fastprogress>=0.1.19 in /usr/local/lib/python3.7/dist-packages (from inltk) (1.0.2)\n",
            "Requirement already satisfied: nvidia-ml-py3 in /usr/local/lib/python3.7/dist-packages (from inltk) (7.352.0)\n",
            "Requirement already satisfied: matplotlib in /usr/local/lib/python3.7/dist-packages (from inltk) (3.2.2)\n",
            "Requirement already satisfied: async-timeout>=3.0.1 in /usr/local/lib/python3.7/dist-packages (from inltk) (4.0.2)\n",
            "Requirement already satisfied: fastai==1.0.57 in /usr/local/lib/python3.7/dist-packages (from inltk) (1.0.57)\n",
            "Requirement already satisfied: Pillow in /usr/local/lib/python3.7/dist-packages (from inltk) (7.1.2)\n",
            "Requirement already satisfied: requests in /usr/local/lib/python3.7/dist-packages (from inltk) (2.23.0)\n",
            "Requirement already satisfied: scipy in /usr/local/lib/python3.7/dist-packages (from inltk) (1.4.1)\n",
            "Requirement already satisfied: packaging in /usr/local/lib/python3.7/dist-packages (from inltk) (21.3)\n",
            "Requirement already satisfied: numexpr in /usr/local/lib/python3.7/dist-packages (from inltk) (2.8.1)\n",
            "Requirement already satisfied: numpy>=1.15 in /usr/local/lib/python3.7/dist-packages (from inltk) (1.21.5)\n",
            "Requirement already satisfied: aiohttp>=3.5.4 in /usr/local/lib/python3.7/dist-packages (from inltk) (3.8.1)\n",
            "Requirement already satisfied: typing in /usr/local/lib/python3.7/dist-packages (from inltk) (3.7.4.3)\n",
            "Requirement already satisfied: sentencepiece in /usr/local/lib/python3.7/dist-packages (from inltk) (0.1.96)\n",
            "Requirement already satisfied: pandas in /usr/local/lib/python3.7/dist-packages (from inltk) (1.3.5)\n",
            "Requirement already satisfied: bottleneck in /usr/local/lib/python3.7/dist-packages (from inltk) (1.3.4)\n",
            "Requirement already satisfied: torch>=1.0.0 in /usr/local/lib/python3.7/dist-packages (from fastai==1.0.57->inltk) (1.10.0+cu111)\n",
            "Requirement already satisfied: torchvision in /usr/local/lib/python3.7/dist-packages (from fastai==1.0.57->inltk) (0.11.1+cu111)\n",
            "Requirement already satisfied: aiosignal>=1.1.2 in /usr/local/lib/python3.7/dist-packages (from aiohttp>=3.5.4->inltk) (1.2.0)\n",
            "Requirement already satisfied: attrs>=17.3.0 in /usr/local/lib/python3.7/dist-packages (from aiohttp>=3.5.4->inltk) (21.4.0)\n",
            "Requirement already satisfied: charset-normalizer<3.0,>=2.0 in /usr/local/lib/python3.7/dist-packages (from aiohttp>=3.5.4->inltk) (2.0.12)\n",
            "Requirement already satisfied: yarl<2.0,>=1.0 in /usr/local/lib/python3.7/dist-packages (from aiohttp>=3.5.4->inltk) (1.7.2)\n",
            "Requirement already satisfied: asynctest==0.13.0 in /usr/local/lib/python3.7/dist-packages (from aiohttp>=3.5.4->inltk) (0.13.0)\n",
            "Requirement already satisfied: multidict<7.0,>=4.5 in /usr/local/lib/python3.7/dist-packages (from aiohttp>=3.5.4->inltk) (6.0.2)\n",
            "Requirement already satisfied: typing-extensions>=3.7.4 in /usr/local/lib/python3.7/dist-packages (from aiohttp>=3.5.4->inltk) (4.1.1)\n",
            "Requirement already satisfied: frozenlist>=1.1.1 in /usr/local/lib/python3.7/dist-packages (from aiohttp>=3.5.4->inltk) (1.3.0)\n",
            "Requirement already satisfied: srsly<1.1.0,>=1.0.2 in /usr/local/lib/python3.7/dist-packages (from spacy>=2.0.18->inltk) (1.0.5)\n",
            "Requirement already satisfied: blis<0.5.0,>=0.4.0 in /usr/local/lib/python3.7/dist-packages (from spacy>=2.0.18->inltk) (0.4.1)\n",
            "Requirement already satisfied: plac<1.2.0,>=0.9.6 in /usr/local/lib/python3.7/dist-packages (from spacy>=2.0.18->inltk) (1.1.3)\n",
            "Requirement already satisfied: wasabi<1.1.0,>=0.4.0 in /usr/local/lib/python3.7/dist-packages (from spacy>=2.0.18->inltk) (0.9.1)\n",
            "Requirement already satisfied: murmurhash<1.1.0,>=0.28.0 in /usr/local/lib/python3.7/dist-packages (from spacy>=2.0.18->inltk) (1.0.6)\n",
            "Requirement already satisfied: thinc==7.4.0 in /usr/local/lib/python3.7/dist-packages (from spacy>=2.0.18->inltk) (7.4.0)\n",
            "Requirement already satisfied: tqdm<5.0.0,>=4.38.0 in /usr/local/lib/python3.7/dist-packages (from spacy>=2.0.18->inltk) (4.64.0)\n",
            "Requirement already satisfied: setuptools in /usr/local/lib/python3.7/dist-packages (from spacy>=2.0.18->inltk) (57.4.0)\n",
            "Requirement already satisfied: catalogue<1.1.0,>=0.0.7 in /usr/local/lib/python3.7/dist-packages (from spacy>=2.0.18->inltk) (1.0.0)\n",
            "Requirement already satisfied: preshed<3.1.0,>=3.0.2 in /usr/local/lib/python3.7/dist-packages (from spacy>=2.0.18->inltk) (3.0.6)\n",
            "Requirement already satisfied: cymem<2.1.0,>=2.0.2 in /usr/local/lib/python3.7/dist-packages (from spacy>=2.0.18->inltk) (2.0.6)\n",
            "Requirement already satisfied: importlib-metadata>=0.20 in /usr/local/lib/python3.7/dist-packages (from catalogue<1.1.0,>=0.0.7->spacy>=2.0.18->inltk) (4.11.3)\n",
            "Requirement already satisfied: zipp>=0.5 in /usr/local/lib/python3.7/dist-packages (from importlib-metadata>=0.20->catalogue<1.1.0,>=0.0.7->spacy>=2.0.18->inltk) (3.8.0)\n",
            "Requirement already satisfied: urllib3!=1.25.0,!=1.25.1,<1.26,>=1.21.1 in /usr/local/lib/python3.7/dist-packages (from requests->inltk) (1.24.3)\n",
            "Requirement already satisfied: idna<3,>=2.5 in /usr/local/lib/python3.7/dist-packages (from requests->inltk) (2.10)\n",
            "Requirement already satisfied: chardet<4,>=3.0.2 in /usr/local/lib/python3.7/dist-packages (from requests->inltk) (3.0.4)\n",
            "Requirement already satisfied: certifi>=2017.4.17 in /usr/local/lib/python3.7/dist-packages (from requests->inltk) (2021.10.8)\n",
            "Requirement already satisfied: python-dateutil>=2.1 in /usr/local/lib/python3.7/dist-packages (from matplotlib->inltk) (2.8.2)\n",
            "Requirement already satisfied: cycler>=0.10 in /usr/local/lib/python3.7/dist-packages (from matplotlib->inltk) (0.11.0)\n",
            "Requirement already satisfied: pyparsing!=2.0.4,!=2.1.2,!=2.1.6,>=2.0.1 in /usr/local/lib/python3.7/dist-packages (from matplotlib->inltk) (3.0.8)\n",
            "Requirement already satisfied: kiwisolver>=1.0.1 in /usr/local/lib/python3.7/dist-packages (from matplotlib->inltk) (1.4.2)\n",
            "Requirement already satisfied: six>=1.5 in /usr/local/lib/python3.7/dist-packages (from python-dateutil>=2.1->matplotlib->inltk) (1.15.0)\n",
            "Requirement already satisfied: pytz>=2017.3 in /usr/local/lib/python3.7/dist-packages (from pandas->inltk) (2018.9)\n",
            "[nltk_data] Downloading package stopwords to /root/nltk_data...\n",
            "[nltk_data]   Package stopwords is already up-to-date!\n",
            "[nltk_data] Downloading package punkt to /root/nltk_data...\n",
            "[nltk_data]   Package punkt is already up-to-date!\n",
            "[nltk_data] Downloading package wordnet to /root/nltk_data...\n",
            "[nltk_data]   Package wordnet is already up-to-date!\n",
            "[nltk_data] Downloading package omw-1.4 to /root/nltk_data...\n",
            "[nltk_data]   Package omw-1.4 is already up-to-date!\n"
          ]
        },
        {
          "output_type": "execute_result",
          "data": {
            "text/plain": [
              "True"
            ]
          },
          "metadata": {},
          "execution_count": 66
        }
      ],
      "source": [
        "!pip install inltk\n",
        "import pandas as pd\n",
        "import numpy as np\n",
        "import nltk\n",
        "import re \n",
        "import os\n",
        "import inltk\n",
        "from inltk.inltk import setup\n",
        "from nltk.corpus import stopwords\n",
        "from nltk.tokenize import TweetTokenizer\n",
        "from nltk.stem import LancasterStemmer\n",
        "from sklearn.decomposition import PCA\n",
        "from collections import defaultdict\n",
        "import pickle\n",
        "nltk.download('stopwords')\n",
        "nltk.download('punkt')\n",
        "nltk.download('wordnet')\n",
        "nltk.download('omw-1.4')"
      ]
    },
    {
      "cell_type": "markdown",
      "source": [
        "## CONDA INSTALL"
      ],
      "metadata": {
        "id": "8gw0qiuvpqk-"
      }
    },
    {
      "cell_type": "code",
      "source": [
        "!pip install -q condacolab\n",
        "import condacolab\n",
        "condacolab.install()"
      ],
      "metadata": {
        "colab": {
          "base_uri": "https://localhost:8080/"
        },
        "id": "rXuv6W5GpoKQ",
        "outputId": "7ba72f85-c95a-494f-bf48-d1cd09e9e10f"
      },
      "execution_count": null,
      "outputs": [
        {
          "output_type": "stream",
          "name": "stdout",
          "text": [
            "⏬ Downloading https://github.com/jaimergp/miniforge/releases/latest/download/Mambaforge-colab-Linux-x86_64.sh...\n",
            "📦 Installing...\n",
            "📌 Adjusting configuration...\n",
            "🩹 Patching environment...\n",
            "⏲ Done in 0:00:47\n",
            "🔁 Restarting kernel...\n"
          ]
        }
      ]
    },
    {
      "cell_type": "code",
      "source": [
        "!conda --version"
      ],
      "metadata": {
        "colab": {
          "base_uri": "https://localhost:8080/"
        },
        "id": "EyS5BRuRqKwr",
        "outputId": "9046ee75-00a2-48da-8f6b-3b89b9f14dc6"
      },
      "execution_count": null,
      "outputs": [
        {
          "output_type": "stream",
          "name": "stdout",
          "text": [
            "conda 4.9.2\n"
          ]
        }
      ]
    },
    {
      "cell_type": "markdown",
      "source": [
        "## STOP WORDS INITIALIZATION"
      ],
      "metadata": {
        "id": "bVxSSDst3Gzy"
      }
    },
    {
      "cell_type": "code",
      "source": [
        "stop_words = set()\n",
        "languages = ['english','hindi']\n",
        "for lang in languages:\n",
        "    with open(lang+\".txt\",'r') as f:\n",
        "        lines = f.readlines()\n",
        "        for line in lines:\n",
        "            line = line.rstrip()\n",
        "            stop_words.add(line)\n",
        "\n",
        "print(stop_words)"
      ],
      "metadata": {
        "colab": {
          "base_uri": "https://localhost:8080/"
        },
        "id": "6tchbpQ93J7G",
        "outputId": "6defe577-33d9-4ed5-e975-b9601bbbd041"
      },
      "execution_count": null,
      "outputs": [
        {
          "output_type": "stream",
          "name": "stdout",
          "text": [
            "{\"a's\", 'indeed', 'उस', 'specify', 'briefly', 'appear', 'whom', \"it'd\", 'seeing', 'itse”', 'until', 'ours', \"'tis\", 'far', 'sb', 'do', 'other', 'begin', 'even', \"they'll\", 'पहले', 'corresponding', 'gm', 'दूसरे', 'viz', 'billion', 'sr', 'bs', 'already', 'इन्हें', 'clearly', 'grouped', 'दबारा', 'hi', 'several', 'कि', 'hr', 'इसका', 'are', 'caption', 'e', 'seriously', 'oh', 'bottom', 'yours', 'everyone', 'gave', 'ci', 'poorly', 'backward', 'gg', 'makes', 'ru', 'adj', 'pl', 'go', \"you've\", 'ch', 'those', 'around', 'page', 'causes', 'finds', 'lower', 'herein', 'say', 'abst', 'ie', 'results', 'कर', 'affecting', 'whole', 'somewhere', 'large', 'herse”', 'gets', '10', 'done', 'following', 'underneath', 'would', 'gmt', 'ne', 'the', 'general', 'backs', 'उनकी', 'msie', 'inc', 'followed', 'pp', 'कोई', 'looking', 'p', 'definitely', 'certain', 'इस', 'work', 'hn', 'used', 'um', 'ended', 'साबुत', 'ir', 'awfully', 'fx', 'less', 'unlikely', 'रहे', 'asked', \"what'll\", 'gone', 'मानो', 'dk', 'oldest', 'any', 'mh', 'किर', 'इसी', 'बाद', 'before', \"oughtn't\", 'minus', 'keeps', 'instead', \"couldn't\", 'it', 'felt', 'neednt', 'with', 'past', 'none', 'generally', \"i'm\", 'many', 'inner', 'down', 'gq', 'बही', 'webpage', 'इसके', \"what've\", 'no-one', 'affected', 'approximately', 'oughtnt', 'cx', 'reasonably', 'सबसे', 'tg', 'pm', \"didn't\", 'hereafter', 'tm', 'furthers', 'immediately', 'having', 'वाले', 'than', 'उन', 'inward', 'maynt', 'unlike', 'vc', 'willing', 'vols', 'uz', 'slightly', 'कुल', 'beyond', 'ये', 'secondly', 'appropriate', 'yes', 'therell', 'pt', 'mv', 'section', 'की', 'nine', 'longest', \"hasn't\", 'various', 'comes', 'wasnt', 'year', 'lr', 'whim', 'them', 'bz', 'wish', 'cn', 'higher', 'points', 'ar', 'गया', 'youll', 'cv', 'said', 'herself', 'ag', 'tn', 'novel', 'off', 'grouping', 'hundred', 'nf', 'j', 'asking', 'जिन्हों', 'haven', 'nowhere', 'व', 'सकता', 'undoing', 'pf', 'wherein', 'by', 'either', 'backed', 'wont', 'जो', 'specifically', 'see', 'thereafter', 'जहाँ', 'नहीं', \"'twas\", 'states', 'free', 'end', 'za', 'throughout', \"isn't\", 'sg', 'null', 'd', 'करें', 'myself', 'इन्हों', 'lc', 'side', 'potentially', 'non', 'there', 'downwards', 'indicate', 'myse”', 'से', 'arpa', 'also', 'beside', 'likewise', 'सभी', 'greetings', 'thanks', 'au', 'ill', 'w', 'information', 'want', 'smaller', 'primarily', 'aren', 'problem', 'give', 'nearly', 'वुह', 'youve', 'were', 'fifty', 'ii', 'एक', 'they', 'c', 'new', 's', 'regardless', 'had', 'ltd', 'come', 'fj', 'cr', 'necessarily', 'giving', 'whod', \"i'll\", 'बहुत', \"he'd\", 'affects', 'better', 'as', 'th', 'full', 'hk', 'taken', 'amidst', 'clear', 'use', 'rooms', 'specifying', \"c'mon\", 'ones', 'mg', 'sy', 'कितना', 'सकते', 'hopefully', 'रहा', 'ending', 'shouldnt', 'bv', 'uk', 'toward', 'later', 'theyve', 'है', 'make', 'hence', 'beginning', 'uy', 'thatve', 'nr', \"hadn't\", 'whereby', 'आप', 'anymore', 'dz', 'dear', 'md', 'didn', \"they're\", 'cmon', 'although', 'show', 'aq', 'just', 'whence', 'contains', 'together', 'int', 'gy', 'particular', 'que', 'wouldnt', 'young', 'namely', 'thirty', 'tw', 'saying', 'announce', 'thereto', 'only', 'दो', 'someone', 'strongly', 'nay', 'another', 'against', 'साभ', 'उसे', 'ao', 'tv', 'meantime', 'cu', 'may', 'million', 'thorough', 'above', 'es', 'pr', \"how'd\", 'immediate', 'doesn', 'each', 'open', 'been', 'known', 'ca', 'करने', 'selves', 'auth', 'high', 'downing', 'quite', 'lest', 'particularly', 'like', 'thats', 'bill', 'vu', 'much', 'resulting', 'lk', 'bi', 'io', 'होती', \"who'd\", 'course', 'का', 'accordingly', 'mz', 'ought', 'exactly', 'hardly', 'useful', 'सो', 'होना', 'specified', 'considering', 'gi', 'need', 'cause', \"i'd\", 'sup', 'sixty', 'look', \"needn't\", 'gs', 'interested', 'eight', 'present', 'isn', 'knows', 'किसी', \"weren't\", 'mt', 'happens', 'successfully', 'htm', 'went', 'qv', 'था', 'third', 'trying', 'fk', 'presumably', 'likely', 'tip', \"why'd\", 'of', 'often', 'hereby', 'man', 'mil', 'com', 'उनके', 'shant', 'hm', 'text', 'theyll', 'join', 'b', 'readily', 'fully', 'seen', 'fix', 'sc', 'upon', 'tell', 'but', 'yt', 've', 'due', 'onto', 'accordance', 'ma', 'at', 'करता', 'kp', 'recent', 'am', 'ge', 'ky', 'became', 'mc', 'try', 'tc', \"that's\", 'to', 'वे', 'amoungst', 'kind', 'किसे', 'whichever', 'ever', 'order', 'hes', 'mill', 'sensible', 'bj', 'himse”', 'zr', \"could've\", 'mine', 'showed', 'this', 'probably', 'mean', 'find', 'numbers', 'related', \"there'll\", 'ord', 'mp', 'sure', 'bn', 'on', 'does', 'दुसरा', 'microsoft', 'nl', 'presenting', 'towards', 'more', 'relatively', 'pg', 'y', 'however', 'notwithstanding', 'doesnt', 'others', 'five', 'wherever', \"what'd\", 'obtain', 'where', \"mightn't\", \"how's\", 'somehow', 'four', 'omitted', 'help', 'bg', 'himself', 'mq', 'keep', 'saw', 'wed', \"won't\", 'ways', 'बिलकुल', 'वह', 'their', 'thoroughly', 'his', \"when'd\", 'entirely', 'होता', 'werent', 'यहाँ', 'could', 'इसमें', 'gf', 'un', 'problems', 'ups', 'whither', 'forty', 'jp', 'she', 'gw', 'अत', 'arise', 'eh', 'anywhere', 'thoughts', 'seven', 'bf', 'sees', 'please', 'facts', 'highest', \"daren't\", \"wasn't\", \"might've\", 'न', 'inc.', 'az', 'twenty', 'right', 'largely', 'पे', 'first', \"they've\", 'cl', 'fifteen', 'rd', 'greater', 'overall', 'ts', 'cd', 'run', 'faces', 'mu', 'sl', 'and', 'downs', 'significant', 'se', 'mn', 'ring', 'जिस', 'over', 'area', 'respectively', 'thing', 'indicated', 'youngest', 'cs', 'thatll', 'who', 'goes', 'empty', 'whatve', 'er', \"must've\", 'maybe', 'wells', 'zm', 'buy', 'website', 'across', 'hers', 'example', 'tk', 'twelve', 'unto', 'out', 'mx', \"t's\", 'mustnt', 'fifth', 'groups', 'though', 'or', 'cases', 'up', 'years', 'except', 'ah', 'given', 'seems', 'जिन', 'बनी', 'two', 'cant', 'usefulness', 'outside', 'such', 'usually', 'these', 'v', 'anyone', 'ive', 'kn', 'regarding', 'thus', 'room', 'pages', 'ga', 'ck', 'nobody', 'bw', 'same', 'forever', 'a', 'know', 'predominantly', 'which', \"that'll\", 'il', 'under', 'isnt', \"when's\", 'me', 'detail', 'et-al', 'sv', 'cz', 'etc', 't', 'कहते', 'whose', 'यह', 'sd', \"i've\", 'ph', \"there'd\", 'previously', 'without', 'ba', 'members', 'org', 'tr', 'three', 'member', 'obviously', 'सारा', \"that've\", 'जब', 'je', 'n', 'अपनी', 'ai', 'gd', 'thank', 'reserved', 'हो', 'anybody', \"wouldn't\", 'thereof', 'via', 'aside', \"there's\", 'backing', 'pw', 'im', 'similarly', 'different', 'apart', 'beforehand', 'hither', 'हैं', 'ex', 'shown', 'half', 'ug', 'seconds', 'o', \"one's\", 'yourself', 'वग़ैरह', 'stop', 'alone', 'making', 'cm', 'यदि', 'least', 'नीचे', 'thered', 'containing', 'ends', 'wf', 'amongst', 'ahead', 'कुछ', 'fo', 'तक', \"shouldn't\", 'ऐसे', 'whatever', 'part', 'might', 'consider', 'ने', 're', 'tz', 'et', 'ke', 'जिसे', 'versus', 'youre', 'miss', 'couldn', 'करते', 'किन्हें', 'gh', 'thanx', 'bt', 'backwards', 'furthered', 'him', 'तब', 'जीधर', 'ignored', 'parts', 'never', 'great', \"you're\", 'wanting', 'beings', 'looks', 'दिया', 'an', 'या', 'top', 'describe', 'तिस', 'small', 'not', 'i.e.', \"he'll\", 'associated', 'home', 'means', 'होने', 'np', 'shouldn', 'then', 'site', 'web', 'thereve', 'vn', 'kw', 'unfortunately', 'best', 'knew', \"doesn't\", 'inasmuch', 'dj', 'gives', 'homepage', 'similar', 'af', 'somewhat', 'substantially', 'zero', 'becoming', 'here', 'howbeit', 'doubtful', 'thou', 'noted', 'adopted', 'too', 'st', 'जैसा', 'recently', 'since', 'मगर', 'he', 'कौनसा', 'द्वारा', 'किस', 'within', \"he's\", 'round', 'length', 'older', 'becomes', 'areas', 'theres', 'therein', 'downed', 'forward', 'kh', 'sh', 'co', 'fify', 'near', 'must', 'si', 'uucp', 'bo', 'wanted', 'anyhow', 'i', 'serious', \"she'd\", 'former', 'eleven', 'abroad', 'ng', 'यिह', 'especially', 'smallest', 'world', 'थे', 'latest', 'fairly', 'little', 'gov', 'pk', 'normally', 'को', \"we'd\", 'ordered', 'sincere', 'put', 'concerning', 'neverf', 'g', 'ht', 'orders', 'bb', 'thousand', 'इसे', 'हुए', 'ms', 'html', 'kg', \"'ll\", \"it's\", 'whomever', 'ae', 'furthering', 'sa', \"where'll\", 'rw', 'allow', 'hed', \"shan't\", 'na', 'group', 'h', 'gu', \"here's\", 'copy', 'बाला', 'फिर', 'some', 'cg', 'opened', 'began', 'neverless', \"there've\", 'getting', 'away', \"should've\", 'लेकिन', 'date', 'उन्हों', 'nc', 'shed', 'eg', \"she'll\", \"haven't\", 'promptly', 'mainly', 'theirs', 'वहाँ', \"we're\", 'और', 'q', 'beginnings', 'noone', \"where's\", 'act', 'showns', 'actually', 'id', 'tends', 'lately', 'thoughh', \"mayn't\", 'hadnt', 'when', 'works', 'should', 'opposite', 'came', 'thereby', 'furthermore', 'again', 'obtained', 'afterwards', 'always', 'follows', 'behind', 'case', 'ना', 'contain', 'sometime', 'sn', 'fi', 'took', 'while', 'among', 'ws', 'अपने', 'whereas', 'self', 'being', 'में', 'besides', 'तो', 'amid', 'will', 'working', 'भीतर', 'early', 'va', 'that', 'greatest', 'seeming', 'm', 'vs', 'face', 'needed', 'thinks', 'ml', \"who's\", 'arent', 'इत्यादि', 'per', 'hell', 'll', 'we', 'जैसे', 'our', 'don', 'invention', 'thence', 'alongside', 'कौन', 'ls', 'neither', 'netscape', 'think', \"aren't\", 'wasn', 'turning', 'dm', 'sk', 'regards', 'पर', 'computer', 'presents', 'formerly', 'gotten', 'td', 'अभी', 'importance', 'pe', 'ee', 'after', 'placed', 'काफ़ी', 'pn', 'कई', 'number', 'edu', 'yourselves', 'unless', 'twice', 'किया', 'sorry', 'us', 'mm', 'हुआ', 'fr', 'opening', 'biol', 'lu', 'thought', 'घर', 'ref', 'आदि', 'apparently', 'sufficiently', 'weren', 'mightnt', 'f', 'nevertheless', 'meanwhile', 'interest', 'cc', 'wouldn', 'truly', 'होते', 'अंदर', 'gn', 'भी', 'suggest', 'mrs', 'doing', 'shell', 'welcome', 'pmid', 'pointing', 'for', 'z', 'weve', \"ain't\", 'ऱ्वासा', \"c's\", 'asks', 'soon', \"it'll\", 'hasnt', 'longer', 'तिन', 'old', 'ad', 'यही', 'shows', 'उसी', 'kz', 'someday', 'whos', \"why'll\", 'system', 'currently', 'couldnt', 'have', 'everywhere', 'yet', 'sides', 'low', 'fill', 'call', 'ordering', 'almost', 'turns', 'nor', 'back', 'इन', 'added', 'ableabout', 'jm', 'is', 'किन्हों', 'was', 'om', 'take', 'its', 'everything', 'उन्हीं', 'ok', 'एस', 'no', 'cry', 'be', 'goods', 'ask', 'moreover', 'cy', 'nz', 'evermore', 'long', 'possible', 'one', 'lets', 'into', 'provided', 'believe', 'itd', 'thin', 'nothing', 'provides', 'थी', 'संग', 'उनका', '39', 'can', 'things', 'rather', 'itself', 'ff', 'tt', 'तिन्हें', 'इन्हीं', 'says', 'net', 'theyre', 'उन्हें', 'co.', 'अपना', \"would've\", 'something', 'places', 'एवं', 'gr', 'thereupon', 'below', \"let's\", 'worked', 'able', 'big', 'important', 'second', 'width', 'lt', 'रखें', 'forth', \"we'll\", 'fewer', 'मे', 'possibly', 'dont', 'you', 'line', 'men', 'twas', 'won', 'upwards', 'value', 'didnt', \"'ve\", 'insofar', 'my', \"don't\", 'turned', 'everybody', 'plus', 'liked', 'l', 'perhaps', 'brief', 'gp', 'जिन्हें', 'else', 'darent', 'needs', 'nos', 'bd', 'indicates', 'opens', 'really', 'tis', 'ua', 'jo', 'trillion', 'puts', 'नके', 'latter', 'br', 'test', 'whereafter', 'next', 'hu', 'amount', 'according', 'thick', 'enough', 'otherwise', 'merely', 'ec', 'ten', 'from', 'पूरा', 'fact', 'own', 'today', 'good', 'newest', 'whether', 'directly', 'in', 'well', 'move', 'refs', 'widely', 'km', 'cf', 'aw', 'जा', 'tries', 'ly', 'younger', 'latterly', 'found', \"where'd\", 'kept', 'cannot', 'theyd', 'तिसे', 'r', 'parting', 'लिये', \"can't\", 'mostly', 'all', \"there're\", 'wants', 'through', 'करना', 'anything', 'usefully', 'उसके', 'begins', 'consequently', 'throug', 'mug', 'seemed', 'इनका', 'parted', 'allows', \"you'd\", 'keys', 'anyways', \"mustn't\", 'name', \"when'll\", 'quickly', 'कहा', 'every', 'front', 'most', 'wholl', 'point', \"what's\", \"how'll\", 'pointed', \"why's\", 'resulted', 'lb', 'get', 'let', 'vg', 'somethan', 'vol', 'tp', 'proud', 'further', 'state', 'interesting', 'al', \"they'd\", 'tj', 'has', 'differ', 'interests', 'how', 'so', 'साथ', 'way', 'wonder', 'sz', 'because', 'needing', 'seventy', 'mo', 'til', 'last', 'निहायत', 'still', 'shes', 'taking', 'vi', 'appreciate', 'sm', 'yu', 'ni', 'available', 'research', 'nd', 'con', 'anyway', 'heres', 'la', 'seem', \"she's\", 'fire', 'kr', 'what', 'तिन्हों', 'mw', 'therere', 'http', 'why', 'इसकी', \"who'll\", 'youd', 'ki', 'using', 'sub', 'whats', 'necessary', 'ninety', 'aint', 'bm', 'changes', 'gl', 'gt', 'significantly', 'वहीं', 'whatll', 'hid', 'u', 'उनको', 'once', 'nu', 'uses', 'six', 'hello', 'both', 'k', 'ago', 'tried', 'sj', 'somebody', 'py', 'click', 'जितना', 'her', 'x', 'iq', 'whilst', 'हुई', 'लिए', \"you'll\", 'hereupon', 'words', 'did', 'nonetheless', 'ही', 'owing', 'along', 'qa', 'going', 'till', 'bh', 'mr', 'therefore', 'during', 'de', 'inside', 'evenly', 'between', 'your', 'के', 'wheres', 'ye', 'turn', 'whereupon', 'fm', 'despite', 'dare', 'certainly', 'now', 'gb', 'तरह', 'got', 'sent', 'shall', 'about', 'very', 'eighty', 'described', 'made', 'effect', 'few', 'pa', 'sec', 'themselves', 'become', 'showing', 'farther', 'place', 'itll', 'li', 'havent', 'ourselves', 'ro', 'thru', 'newer', 'mk', 'okay', \"we've\", 'su', 'ed', 'वर्ग', 'elsewhere', 'hasn', 'lv', 'presented', 'sometimes', 'tf', 'whoever', 'www', 'index', 'differently', 'ran', 'whenever', 'if'}\n"
          ]
        }
      ]
    },
    {
      "cell_type": "markdown",
      "source": [
        "## DATA PREPROCESSING"
      ],
      "metadata": {
        "id": "e9hrnrmy79zc"
      }
    },
    {
      "cell_type": "code",
      "source": [
        "def data_cleaning(tweet_array,tweet_id,length):\n",
        "  # using nltk twitter tokenizer\n",
        "    lemmatizer = nltk.stem.WordNetLemmatizer()\n",
        "    lancaster=LancasterStemmer()\n",
        "    processed_review=[]\n",
        "    mapping = dict()\n",
        "    single_review = \"\"\n",
        "    for index in range(0,length):\n",
        "        single_review = tweet_array[index]\n",
        "        # remove html tags\n",
        "        single_review = re.sub('<.*?>',' ',single_review)\n",
        "        # remove single characters\n",
        "        single_review = re.sub('\\s+[a-zA-Z]\\s+',' ', single_review)\n",
        "        # remove multiple spaces \n",
        "        single_review = re.sub('\\s+',' ', single_review)\n",
        "        # use twitter tokenizer\n",
        "        tk = TweetTokenizer()\n",
        "        word_tokens = tk.tokenize(single_review)\n",
        "        lemmatized_sentence = \" \".join(lemmatizer.lemmatize(token) for token in word_tokens if token not in stop_words)\n",
        "        processed_review.append(lemmatized_sentence)\n",
        "        mapping[tweet_id[index]] = single_review\n",
        "\n",
        "    \n",
        "    return processed_review, mapping"
      ],
      "metadata": {
        "id": "idWFH7t__R6M"
      },
      "execution_count": null,
      "outputs": []
    },
    {
      "cell_type": "code",
      "source": [
        "# This function takes tweets as input and preprocess it consider tweet id\n",
        "def data_preprocessing(df):\n",
        "  # finding different languages and considering only english and hindi\n",
        "  print(\"unique languages are\",df.language.unique())\n",
        "  en_df = df.loc[df['language']=='en']\n",
        "  hi_df = df.loc[df['language']=='hi']\n",
        "  print(\"english tweets shape is\",en_df.shape)\n",
        "  print(\"hindi tweets shape is\",hi_df.shape)\n",
        "  english_content = np.array(en_df.content)\n",
        "  hindi_content = np.array(hi_df.content)\n",
        "  english_tweet_id = np.array(en_df.tweet_id)\n",
        "  hindi_tweet_id = np.array(hi_df.tweet_id)\n",
        "  length1 = en_df.shape[0]\n",
        "  length2 = hi_df.shape[0]\n",
        "  english_tweets, en_id_content = data_cleaning(english_content,english_tweet_id, length1)\n",
        "  hindi_tweets, hi_id_content  = data_cleaning(hindi_content,hindi_tweet_id,length2)\n",
        "  return english_tweets, hindi_tweets, en_id_content, hi_id_content\n"
      ],
      "metadata": {
        "id": "uLVor0ge79Ud"
      },
      "execution_count": null,
      "outputs": []
    },
    {
      "cell_type": "code",
      "source": [
        "pulwama_url = 'https://raw.githubusercontent.com/abhiram144/Copy-Pasta-Analysis/main/user_tweets/pulwama_attack.csv'\n",
        "df = pd.read_csv(pulwama_url)\n",
        "english_tweets, hindi_tweets, en_mapping, hi_mapping = data_preprocessing(df)"
      ],
      "metadata": {
        "colab": {
          "base_uri": "https://localhost:8080/"
        },
        "id": "6aRCBHZ4-Q7z",
        "outputId": "4fa901ed-cfc8-4389-b81e-a8b339c1951e"
      },
      "execution_count": null,
      "outputs": [
        {
          "output_type": "stream",
          "name": "stdout",
          "text": [
            "unique languages are ['en' 'hi' 'und' 'et' 'ca' 'in' 'sl' 'ro' 'mr' 'tl' 'ta' 'it' 'eu' 'es' 'pt' 'fi' 'pa' 'ne' 'cy' 'gu' 'da' 'te' 'ml'\n",
            " 'kn' 'sv' 'ht' 'pl' 'bn' 'fr' 'or' 'de' 'vi' 'tr' 'lv' 'ko' 'cs' 'hu' 'no' 'nl']\n",
            "english tweets shape is (17755, 13)\n",
            "hindi tweets shape is (23993, 13)\n"
          ]
        }
      ]
    },
    {
      "cell_type": "markdown",
      "source": [
        "## USER DATA LOADING"
      ],
      "metadata": {
        "id": "htQZArCWjLfU"
      }
    },
    {
      "cell_type": "code",
      "source": [
        "party_url = 'https://raw.githubusercontent.com/abhiram144/Copy-Pasta-Analysis/main/user_tweets/user_data.csv'\n",
        "df_party_names = pd.read_csv(party_url)\n",
        "user_details_url = 'https://raw.githubusercontent.com/abhiram144/Copy-Pasta-Analysis/main/user_tweets/user_details.csv'\n",
        "df_user_data = pd.read_csv(user_details_url)"
      ],
      "metadata": {
        "id": "R5mNPa7IjJzz"
      },
      "execution_count": null,
      "outputs": []
    },
    {
      "cell_type": "code",
      "source": [
        "df_party_names.head()"
      ],
      "metadata": {
        "colab": {
          "base_uri": "https://localhost:8080/"
        },
        "id": "YIVkVhCto0B6",
        "outputId": "980412ec-8ba0-495b-ad62-544d0b754e2b"
      },
      "execution_count": null,
      "outputs": [
        {
          "output_type": "execute_result",
          "data": {
            "text/plain": [
              "   Unnamed: 0  verified                     location                   id  \\\n",
              "0           0      True                Punjab, India           3153134184   \n",
              "1           1      True                    NEW DELHI             45795876   \n",
              "2           2      True                     Dehradun           1297926962   \n",
              "3           3      True  pokhari chamoli uttarakhand           2692838006   \n",
              "4           4      True            Yamkeshwar, India  1028186624218288128   \n",
              "\n",
              "                       url                                     public_metrics  \\\n",
              "0                      NaN  {'followers_count': 58375, 'following_count': ...   \n",
              "1                      NaN  {'followers_count': 21332, 'following_count': ...   \n",
              "2  https://t.co/SkirgMiB7f  {'followers_count': 1907, 'following_count': 2...   \n",
              "3  https://t.co/9j75o0vuWo  {'followers_count': 5481, 'following_count': 3...   \n",
              "4  https://t.co/SxS5stdGzU  {'followers_count': 2602, 'following_count': 1...   \n",
              "\n",
              "   protected party         username                                name  \\\n",
              "0      False   BJP     sunilkjakhar                        Sunil Jakhar   \n",
              "1      False   BJP    rpsinghkhalsa  RP Singh National Spokesperson BJP   \n",
              "2      False   BJP  bjpnareshbansal                       Naresh Bansal   \n",
              "3      False   BJP  mahendrabhatbjp                  Mahendra Bhatt MLA   \n",
              "4      False   BJP  RituKhanduriBJP               Ritu Khanduri Bhushan   \n",
              "\n",
              "                 created_at                                        description  \n",
              "0  2015-04-13T16:14:06.000Z                                                NaN  \n",
              "1  2009-06-09T08:33:22.000Z  Advertising Professional.\\nPatron, Gali Pathsh...  \n",
              "2  2013-03-25T06:31:52.000Z  Member of Parliament Rajya Sabha | Ex. General...  \n",
              "3  2014-07-30T13:02:25.000Z  महेंद्र भट्ट विधायक बद्रीनाथ विधानसभा उत्तराखं...  \n",
              "4  2018-08-11T07:49:28.000Z  Official Account of Smt. Ritu Khanduri Bhushan...  "
            ],
            "text/html": [
              "\n",
              "  <div id=\"df-21ce1ad9-71d8-4b60-8c3f-2e4966756b24\">\n",
              "    <div class=\"colab-df-container\">\n",
              "      <div>\n",
              "<style scoped>\n",
              "    .dataframe tbody tr th:only-of-type {\n",
              "        vertical-align: middle;\n",
              "    }\n",
              "\n",
              "    .dataframe tbody tr th {\n",
              "        vertical-align: top;\n",
              "    }\n",
              "\n",
              "    .dataframe thead th {\n",
              "        text-align: right;\n",
              "    }\n",
              "</style>\n",
              "<table border=\"1\" class=\"dataframe\">\n",
              "  <thead>\n",
              "    <tr style=\"text-align: right;\">\n",
              "      <th></th>\n",
              "      <th>Unnamed: 0</th>\n",
              "      <th>verified</th>\n",
              "      <th>location</th>\n",
              "      <th>id</th>\n",
              "      <th>url</th>\n",
              "      <th>public_metrics</th>\n",
              "      <th>protected</th>\n",
              "      <th>party</th>\n",
              "      <th>username</th>\n",
              "      <th>name</th>\n",
              "      <th>created_at</th>\n",
              "      <th>description</th>\n",
              "    </tr>\n",
              "  </thead>\n",
              "  <tbody>\n",
              "    <tr>\n",
              "      <th>0</th>\n",
              "      <td>0</td>\n",
              "      <td>True</td>\n",
              "      <td>Punjab, India</td>\n",
              "      <td>3153134184</td>\n",
              "      <td>NaN</td>\n",
              "      <td>{'followers_count': 58375, 'following_count': ...</td>\n",
              "      <td>False</td>\n",
              "      <td>BJP</td>\n",
              "      <td>sunilkjakhar</td>\n",
              "      <td>Sunil Jakhar</td>\n",
              "      <td>2015-04-13T16:14:06.000Z</td>\n",
              "      <td>NaN</td>\n",
              "    </tr>\n",
              "    <tr>\n",
              "      <th>1</th>\n",
              "      <td>1</td>\n",
              "      <td>True</td>\n",
              "      <td>NEW DELHI</td>\n",
              "      <td>45795876</td>\n",
              "      <td>NaN</td>\n",
              "      <td>{'followers_count': 21332, 'following_count': ...</td>\n",
              "      <td>False</td>\n",
              "      <td>BJP</td>\n",
              "      <td>rpsinghkhalsa</td>\n",
              "      <td>RP Singh National Spokesperson BJP</td>\n",
              "      <td>2009-06-09T08:33:22.000Z</td>\n",
              "      <td>Advertising Professional.\\nPatron, Gali Pathsh...</td>\n",
              "    </tr>\n",
              "    <tr>\n",
              "      <th>2</th>\n",
              "      <td>2</td>\n",
              "      <td>True</td>\n",
              "      <td>Dehradun</td>\n",
              "      <td>1297926962</td>\n",
              "      <td>https://t.co/SkirgMiB7f</td>\n",
              "      <td>{'followers_count': 1907, 'following_count': 2...</td>\n",
              "      <td>False</td>\n",
              "      <td>BJP</td>\n",
              "      <td>bjpnareshbansal</td>\n",
              "      <td>Naresh Bansal</td>\n",
              "      <td>2013-03-25T06:31:52.000Z</td>\n",
              "      <td>Member of Parliament Rajya Sabha | Ex. General...</td>\n",
              "    </tr>\n",
              "    <tr>\n",
              "      <th>3</th>\n",
              "      <td>3</td>\n",
              "      <td>True</td>\n",
              "      <td>pokhari chamoli uttarakhand</td>\n",
              "      <td>2692838006</td>\n",
              "      <td>https://t.co/9j75o0vuWo</td>\n",
              "      <td>{'followers_count': 5481, 'following_count': 3...</td>\n",
              "      <td>False</td>\n",
              "      <td>BJP</td>\n",
              "      <td>mahendrabhatbjp</td>\n",
              "      <td>Mahendra Bhatt MLA</td>\n",
              "      <td>2014-07-30T13:02:25.000Z</td>\n",
              "      <td>महेंद्र भट्ट विधायक बद्रीनाथ विधानसभा उत्तराखं...</td>\n",
              "    </tr>\n",
              "    <tr>\n",
              "      <th>4</th>\n",
              "      <td>4</td>\n",
              "      <td>True</td>\n",
              "      <td>Yamkeshwar, India</td>\n",
              "      <td>1028186624218288128</td>\n",
              "      <td>https://t.co/SxS5stdGzU</td>\n",
              "      <td>{'followers_count': 2602, 'following_count': 1...</td>\n",
              "      <td>False</td>\n",
              "      <td>BJP</td>\n",
              "      <td>RituKhanduriBJP</td>\n",
              "      <td>Ritu Khanduri Bhushan</td>\n",
              "      <td>2018-08-11T07:49:28.000Z</td>\n",
              "      <td>Official Account of Smt. Ritu Khanduri Bhushan...</td>\n",
              "    </tr>\n",
              "  </tbody>\n",
              "</table>\n",
              "</div>\n",
              "      <button class=\"colab-df-convert\" onclick=\"convertToInteractive('df-21ce1ad9-71d8-4b60-8c3f-2e4966756b24')\"\n",
              "              title=\"Convert this dataframe to an interactive table.\"\n",
              "              style=\"display:none;\">\n",
              "        \n",
              "  <svg xmlns=\"http://www.w3.org/2000/svg\" height=\"24px\"viewBox=\"0 0 24 24\"\n",
              "       width=\"24px\">\n",
              "    <path d=\"M0 0h24v24H0V0z\" fill=\"none\"/>\n",
              "    <path d=\"M18.56 5.44l.94 2.06.94-2.06 2.06-.94-2.06-.94-.94-2.06-.94 2.06-2.06.94zm-11 1L8.5 8.5l.94-2.06 2.06-.94-2.06-.94L8.5 2.5l-.94 2.06-2.06.94zm10 10l.94 2.06.94-2.06 2.06-.94-2.06-.94-.94-2.06-.94 2.06-2.06.94z\"/><path d=\"M17.41 7.96l-1.37-1.37c-.4-.4-.92-.59-1.43-.59-.52 0-1.04.2-1.43.59L10.3 9.45l-7.72 7.72c-.78.78-.78 2.05 0 2.83L4 21.41c.39.39.9.59 1.41.59.51 0 1.02-.2 1.41-.59l7.78-7.78 2.81-2.81c.8-.78.8-2.07 0-2.86zM5.41 20L4 18.59l7.72-7.72 1.47 1.35L5.41 20z\"/>\n",
              "  </svg>\n",
              "      </button>\n",
              "      \n",
              "  <style>\n",
              "    .colab-df-container {\n",
              "      display:flex;\n",
              "      flex-wrap:wrap;\n",
              "      gap: 12px;\n",
              "    }\n",
              "\n",
              "    .colab-df-convert {\n",
              "      background-color: #E8F0FE;\n",
              "      border: none;\n",
              "      border-radius: 50%;\n",
              "      cursor: pointer;\n",
              "      display: none;\n",
              "      fill: #1967D2;\n",
              "      height: 32px;\n",
              "      padding: 0 0 0 0;\n",
              "      width: 32px;\n",
              "    }\n",
              "\n",
              "    .colab-df-convert:hover {\n",
              "      background-color: #E2EBFA;\n",
              "      box-shadow: 0px 1px 2px rgba(60, 64, 67, 0.3), 0px 1px 3px 1px rgba(60, 64, 67, 0.15);\n",
              "      fill: #174EA6;\n",
              "    }\n",
              "\n",
              "    [theme=dark] .colab-df-convert {\n",
              "      background-color: #3B4455;\n",
              "      fill: #D2E3FC;\n",
              "    }\n",
              "\n",
              "    [theme=dark] .colab-df-convert:hover {\n",
              "      background-color: #434B5C;\n",
              "      box-shadow: 0px 1px 3px 1px rgba(0, 0, 0, 0.15);\n",
              "      filter: drop-shadow(0px 1px 2px rgba(0, 0, 0, 0.3));\n",
              "      fill: #FFFFFF;\n",
              "    }\n",
              "  </style>\n",
              "\n",
              "      <script>\n",
              "        const buttonEl =\n",
              "          document.querySelector('#df-21ce1ad9-71d8-4b60-8c3f-2e4966756b24 button.colab-df-convert');\n",
              "        buttonEl.style.display =\n",
              "          google.colab.kernel.accessAllowed ? 'block' : 'none';\n",
              "\n",
              "        async function convertToInteractive(key) {\n",
              "          const element = document.querySelector('#df-21ce1ad9-71d8-4b60-8c3f-2e4966756b24');\n",
              "          const dataTable =\n",
              "            await google.colab.kernel.invokeFunction('convertToInteractive',\n",
              "                                                     [key], {});\n",
              "          if (!dataTable) return;\n",
              "\n",
              "          const docLinkHtml = 'Like what you see? Visit the ' +\n",
              "            '<a target=\"_blank\" href=https://colab.research.google.com/notebooks/data_table.ipynb>data table notebook</a>'\n",
              "            + ' to learn more about interactive tables.';\n",
              "          element.innerHTML = '';\n",
              "          dataTable['output_type'] = 'display_data';\n",
              "          await google.colab.output.renderOutput(dataTable, element);\n",
              "          const docLink = document.createElement('div');\n",
              "          docLink.innerHTML = docLinkHtml;\n",
              "          element.appendChild(docLink);\n",
              "        }\n",
              "      </script>\n",
              "    </div>\n",
              "  </div>\n",
              "  "
            ]
          },
          "metadata": {},
          "execution_count": 7
        }
      ]
    },
    {
      "cell_type": "code",
      "source": [
        "df_user_data.head()"
      ],
      "metadata": {
        "colab": {
          "base_uri": "https://localhost:8080/"
        },
        "id": "1RMiX7PMrDOU",
        "outputId": "fd880a42-3b03-49fd-d243-82d2de9bd85b"
      },
      "execution_count": null,
      "outputs": [
        {
          "output_type": "execute_result",
          "data": {
            "text/plain": [
              "          username          id          displayname  followersCount  \\\n",
              "0          BJP4JnK  1864685238  BJP Jammu & Kashmir           86433   \n",
              "1     GulabMatiala  2922933098          Gulab Singh           38727   \n",
              "2  guptaravinder71  2204739805    Ravinder Gupta 🇮🇳           23358   \n",
              "3     MaheishGirri   425973946        Maheish Girri          133913   \n",
              "4   shweta_shalini  2366619296       Shweta Shalini           22684   \n",
              "\n",
              "   friendsCount               location  \n",
              "0           222        Jammu & Kashmir  \n",
              "1           716       New Delhi, India  \n",
              "2          1234  Karol Bagh, New Delhi  \n",
              "3           657       New Delhi, India  \n",
              "4           374                 Mumbai  "
            ],
            "text/html": [
              "\n",
              "  <div id=\"df-c755d4aa-a4f8-4ccc-b4ac-ffe0a8bd486e\">\n",
              "    <div class=\"colab-df-container\">\n",
              "      <div>\n",
              "<style scoped>\n",
              "    .dataframe tbody tr th:only-of-type {\n",
              "        vertical-align: middle;\n",
              "    }\n",
              "\n",
              "    .dataframe tbody tr th {\n",
              "        vertical-align: top;\n",
              "    }\n",
              "\n",
              "    .dataframe thead th {\n",
              "        text-align: right;\n",
              "    }\n",
              "</style>\n",
              "<table border=\"1\" class=\"dataframe\">\n",
              "  <thead>\n",
              "    <tr style=\"text-align: right;\">\n",
              "      <th></th>\n",
              "      <th>username</th>\n",
              "      <th>id</th>\n",
              "      <th>displayname</th>\n",
              "      <th>followersCount</th>\n",
              "      <th>friendsCount</th>\n",
              "      <th>location</th>\n",
              "    </tr>\n",
              "  </thead>\n",
              "  <tbody>\n",
              "    <tr>\n",
              "      <th>0</th>\n",
              "      <td>BJP4JnK</td>\n",
              "      <td>1864685238</td>\n",
              "      <td>BJP Jammu &amp; Kashmir</td>\n",
              "      <td>86433</td>\n",
              "      <td>222</td>\n",
              "      <td>Jammu &amp; Kashmir</td>\n",
              "    </tr>\n",
              "    <tr>\n",
              "      <th>1</th>\n",
              "      <td>GulabMatiala</td>\n",
              "      <td>2922933098</td>\n",
              "      <td>Gulab Singh</td>\n",
              "      <td>38727</td>\n",
              "      <td>716</td>\n",
              "      <td>New Delhi, India</td>\n",
              "    </tr>\n",
              "    <tr>\n",
              "      <th>2</th>\n",
              "      <td>guptaravinder71</td>\n",
              "      <td>2204739805</td>\n",
              "      <td>Ravinder Gupta 🇮🇳</td>\n",
              "      <td>23358</td>\n",
              "      <td>1234</td>\n",
              "      <td>Karol Bagh, New Delhi</td>\n",
              "    </tr>\n",
              "    <tr>\n",
              "      <th>3</th>\n",
              "      <td>MaheishGirri</td>\n",
              "      <td>425973946</td>\n",
              "      <td>Maheish Girri</td>\n",
              "      <td>133913</td>\n",
              "      <td>657</td>\n",
              "      <td>New Delhi, India</td>\n",
              "    </tr>\n",
              "    <tr>\n",
              "      <th>4</th>\n",
              "      <td>shweta_shalini</td>\n",
              "      <td>2366619296</td>\n",
              "      <td>Shweta Shalini</td>\n",
              "      <td>22684</td>\n",
              "      <td>374</td>\n",
              "      <td>Mumbai</td>\n",
              "    </tr>\n",
              "  </tbody>\n",
              "</table>\n",
              "</div>\n",
              "      <button class=\"colab-df-convert\" onclick=\"convertToInteractive('df-c755d4aa-a4f8-4ccc-b4ac-ffe0a8bd486e')\"\n",
              "              title=\"Convert this dataframe to an interactive table.\"\n",
              "              style=\"display:none;\">\n",
              "        \n",
              "  <svg xmlns=\"http://www.w3.org/2000/svg\" height=\"24px\"viewBox=\"0 0 24 24\"\n",
              "       width=\"24px\">\n",
              "    <path d=\"M0 0h24v24H0V0z\" fill=\"none\"/>\n",
              "    <path d=\"M18.56 5.44l.94 2.06.94-2.06 2.06-.94-2.06-.94-.94-2.06-.94 2.06-2.06.94zm-11 1L8.5 8.5l.94-2.06 2.06-.94-2.06-.94L8.5 2.5l-.94 2.06-2.06.94zm10 10l.94 2.06.94-2.06 2.06-.94-2.06-.94-.94-2.06-.94 2.06-2.06.94z\"/><path d=\"M17.41 7.96l-1.37-1.37c-.4-.4-.92-.59-1.43-.59-.52 0-1.04.2-1.43.59L10.3 9.45l-7.72 7.72c-.78.78-.78 2.05 0 2.83L4 21.41c.39.39.9.59 1.41.59.51 0 1.02-.2 1.41-.59l7.78-7.78 2.81-2.81c.8-.78.8-2.07 0-2.86zM5.41 20L4 18.59l7.72-7.72 1.47 1.35L5.41 20z\"/>\n",
              "  </svg>\n",
              "      </button>\n",
              "      \n",
              "  <style>\n",
              "    .colab-df-container {\n",
              "      display:flex;\n",
              "      flex-wrap:wrap;\n",
              "      gap: 12px;\n",
              "    }\n",
              "\n",
              "    .colab-df-convert {\n",
              "      background-color: #E8F0FE;\n",
              "      border: none;\n",
              "      border-radius: 50%;\n",
              "      cursor: pointer;\n",
              "      display: none;\n",
              "      fill: #1967D2;\n",
              "      height: 32px;\n",
              "      padding: 0 0 0 0;\n",
              "      width: 32px;\n",
              "    }\n",
              "\n",
              "    .colab-df-convert:hover {\n",
              "      background-color: #E2EBFA;\n",
              "      box-shadow: 0px 1px 2px rgba(60, 64, 67, 0.3), 0px 1px 3px 1px rgba(60, 64, 67, 0.15);\n",
              "      fill: #174EA6;\n",
              "    }\n",
              "\n",
              "    [theme=dark] .colab-df-convert {\n",
              "      background-color: #3B4455;\n",
              "      fill: #D2E3FC;\n",
              "    }\n",
              "\n",
              "    [theme=dark] .colab-df-convert:hover {\n",
              "      background-color: #434B5C;\n",
              "      box-shadow: 0px 1px 3px 1px rgba(0, 0, 0, 0.15);\n",
              "      filter: drop-shadow(0px 1px 2px rgba(0, 0, 0, 0.3));\n",
              "      fill: #FFFFFF;\n",
              "    }\n",
              "  </style>\n",
              "\n",
              "      <script>\n",
              "        const buttonEl =\n",
              "          document.querySelector('#df-c755d4aa-a4f8-4ccc-b4ac-ffe0a8bd486e button.colab-df-convert');\n",
              "        buttonEl.style.display =\n",
              "          google.colab.kernel.accessAllowed ? 'block' : 'none';\n",
              "\n",
              "        async function convertToInteractive(key) {\n",
              "          const element = document.querySelector('#df-c755d4aa-a4f8-4ccc-b4ac-ffe0a8bd486e');\n",
              "          const dataTable =\n",
              "            await google.colab.kernel.invokeFunction('convertToInteractive',\n",
              "                                                     [key], {});\n",
              "          if (!dataTable) return;\n",
              "\n",
              "          const docLinkHtml = 'Like what you see? Visit the ' +\n",
              "            '<a target=\"_blank\" href=https://colab.research.google.com/notebooks/data_table.ipynb>data table notebook</a>'\n",
              "            + ' to learn more about interactive tables.';\n",
              "          element.innerHTML = '';\n",
              "          dataTable['output_type'] = 'display_data';\n",
              "          await google.colab.output.renderOutput(dataTable, element);\n",
              "          const docLink = document.createElement('div');\n",
              "          docLink.innerHTML = docLinkHtml;\n",
              "          element.appendChild(docLink);\n",
              "        }\n",
              "      </script>\n",
              "    </div>\n",
              "  </div>\n",
              "  "
            ]
          },
          "metadata": {},
          "execution_count": 8
        }
      ]
    },
    {
      "cell_type": "markdown",
      "source": [
        "## PERFORM EMBEDDING"
      ],
      "metadata": {
        "id": "6IddPiWsQZmu"
      }
    },
    {
      "cell_type": "code",
      "source": [
        "from sentence_transformers import SentenceTransformer\n",
        "sbert_model = SentenceTransformer('bert-base-nli-mean-tokens')"
      ],
      "metadata": {
        "id": "eMGehcfeQg-4"
      },
      "execution_count": null,
      "outputs": []
    },
    {
      "cell_type": "code",
      "source": [
        "def perform_encoding(tweets):\n",
        "  sentence_embeddings = sbert_model.encode(tweets)\n",
        "  return sentence_embeddings"
      ],
      "metadata": {
        "id": "HKROz7CmQryy"
      },
      "execution_count": null,
      "outputs": []
    },
    {
      "cell_type": "code",
      "source": [
        "# saving embeddings in pickle file\n",
        "def save_embedding(sentence_embeddings):\n",
        "  with open('doc_embedding.pickle', 'wb') as pkl:\n",
        "    pickle.dump(sentence_embeddings, pkl)"
      ],
      "metadata": {
        "id": "NTioi7UJQ-Xi"
      },
      "execution_count": null,
      "outputs": []
    },
    {
      "cell_type": "code",
      "source": [
        "sentence_embeddings = perform_encoding(english_tweets)\n",
        "save_embedding(sentence_embeddings)"
      ],
      "metadata": {
        "id": "D9JpxtmLRbsy"
      },
      "execution_count": null,
      "outputs": []
    },
    {
      "cell_type": "markdown",
      "source": [
        "## LOAD EMBEDDING"
      ],
      "metadata": {
        "id": "n0G6SLAoR34M"
      }
    },
    {
      "cell_type": "code",
      "source": [
        "def load_embedding():\n",
        "  with open('doc_embedding.pickle','rb') as pkl:\n",
        "    sentence_embedding = pickle.load(pkl)\n",
        "  return sentence_embedding"
      ],
      "metadata": {
        "id": "HEraRlMWR_Cv"
      },
      "execution_count": null,
      "outputs": []
    },
    {
      "cell_type": "code",
      "source": [
        "sentence_embedding = load_embedding()"
      ],
      "metadata": {
        "id": "YiKy0v3hSPtH"
      },
      "execution_count": null,
      "outputs": []
    },
    {
      "cell_type": "markdown",
      "source": [
        "## DIMENSIONALITY REDUCTION"
      ],
      "metadata": {
        "id": "Ms635RiRTE9n"
      }
    },
    {
      "cell_type": "code",
      "source": [
        "def dimensionality_reduction(dimensions,sentence_embeddings):\n",
        "  pca = PCA(n_components = dimensions)\n",
        "  principal_components = pca.fit_transform(sentence_embeddings)\n",
        "  return principal_components"
      ],
      "metadata": {
        "id": "8R_J1QJlTIBf"
      },
      "execution_count": null,
      "outputs": []
    },
    {
      "cell_type": "code",
      "source": [
        "p_component = dimensionality_reduction(10,sentence_embedding)"
      ],
      "metadata": {
        "id": "KnCyMa8lUjn4"
      },
      "execution_count": null,
      "outputs": []
    },
    {
      "cell_type": "markdown",
      "source": [
        "## CREATE MAPPING BETWEEN TWEET_ID AND EMBEDDING"
      ],
      "metadata": {
        "id": "_ZPYwQ5zS7dZ"
      }
    },
    {
      "cell_type": "code",
      "source": [
        "# This function creates mapping between embedding and tweet id\n",
        "from collections import defaultdict\n",
        "def reverse_mapping(p_component,en_mapping):\n",
        "  rev_map = defaultdict(list)\n",
        "  index = 0\n",
        "  for tweet_id in en_mapping.keys():\n",
        "    tupple = tuple(p_component[index])\n",
        "    rev_map[tupple].append(tweet_id)\n",
        "    index = index+1 \n",
        "  print(index)\n",
        "  return rev_map"
      ],
      "metadata": {
        "id": "_wQtoHj6S_-I"
      },
      "execution_count": null,
      "outputs": []
    },
    {
      "cell_type": "code",
      "source": [
        "print(p_component.shape)\n",
        "rev_map = reverse_mapping(p_component,en_mapping)\n",
        "print(len(rev_map))\n"
      ],
      "metadata": {
        "colab": {
          "base_uri": "https://localhost:8080/"
        },
        "id": "Fl0aN4zBU7-z",
        "outputId": "4f9eb040-3766-44de-ec56-84a667298e6c"
      },
      "execution_count": null,
      "outputs": [
        {
          "output_type": "stream",
          "name": "stdout",
          "text": [
            "(17755, 10)\n",
            "17755\n",
            "17479\n"
          ]
        }
      ]
    },
    {
      "cell_type": "markdown",
      "source": [
        "## PERFORM HIERARCHIAL CLUSTERING"
      ],
      "metadata": {
        "id": "GBy7PAoebodc"
      }
    },
    {
      "cell_type": "code",
      "source": [
        "# This method is used to perform hierarchial clustering\n",
        "from scipy.cluster import  hierarchy\n",
        "def hierarchial_clustering(p_component,distance_threshold):\n",
        "  Z = hierarchy.linkage(p_component,\"average\", metric=\"cosine\")\n",
        "  C = hierarchy.fcluster(Z, distance_threshold, criterion=\"distance\")\n",
        "  return C\n"
      ],
      "metadata": {
        "id": "H62Me9Sgc7ga"
      },
      "execution_count": null,
      "outputs": []
    },
    {
      "cell_type": "code",
      "source": [
        "distance_threshold = 0.04\n",
        "cluster_obj = hierarchial_clustering(p_component, distance_threshold)"
      ],
      "metadata": {
        "id": "9x3wXnr1brRv"
      },
      "execution_count": null,
      "outputs": []
    },
    {
      "cell_type": "markdown",
      "source": [
        "## PERFORM ANALYSIS ON CLUSTERING OBJECT"
      ],
      "metadata": {
        "id": "mnobJGDYeRKU"
      }
    },
    {
      "cell_type": "code",
      "source": [
        "df.head()"
      ],
      "metadata": {
        "colab": {
          "base_uri": "https://localhost:8080/",
          "height": 357
        },
        "id": "R8UpCdfvqafG",
        "outputId": "684a96db-be4e-4696-d79c-7e018ab10d97"
      },
      "execution_count": null,
      "outputs": [
        {
          "output_type": "execute_result",
          "data": {
            "text/plain": [
              "              tweet_id user_name                       date  \\\n",
              "0  1101076008827060226   BJP4JnK  2019-02-28T11:05:52+00:00   \n",
              "1  1101051875011579904   BJP4JnK  2019-02-28T09:29:58+00:00   \n",
              "2  1101038475632144384   BJP4JnK  2019-02-28T08:36:43+00:00   \n",
              "3  1101035670439686144   BJP4JnK  2019-02-28T08:25:34+00:00   \n",
              "4  1101035022323195904   BJP4JnK  2019-02-28T08:23:00+00:00   \n",
              "\n",
              "                                             content language  reply_count  \\\n",
              "0  #MeraBoothSabseMazboot\\nGlimpses of Live Inter...       en            0   \n",
              "1  देश चल पड़ा है प्रगति पथ पर\\nबस यूं ही चलते रह...       hi            0   \n",
              "2  देश ने करवट बदली है, यह तो बस अंगड़ाई है आगे औ...       hi            0   \n",
              "3  इस बार कुम्भ की स्वच्छता को लेकर पूरी दुनिया म...       hi            1   \n",
              "4  बरसों से था घना अँधेरा अब जाके भोर दिखी है\\nउन...       hi            0   \n",
              "\n",
              "   retweet_count  like_count                   hashtags coordinates place  \\\n",
              "0              5          13  ['MeraBoothSabseMazboot']         NaN   NaN   \n",
              "1             16          27  ['MeraBoothSabseMazboot']         NaN   NaN   \n",
              "2             10          14  ['MeraBoothSabseMazboot']         NaN   NaN   \n",
              "3             55         106                        NaN         NaN   NaN   \n",
              "4             12          15  ['MeraBoothSabseMazboot']         NaN   NaN   \n",
              "\n",
              "   cashtags    mentionedUsers  \n",
              "0       NaN                []  \n",
              "1       NaN                []  \n",
              "2       NaN  ['narendramodi']  \n",
              "3       NaN  ['narendramodi']  \n",
              "4       NaN  ['narendramodi']  "
            ],
            "text/html": [
              "\n",
              "  <div id=\"df-6c9489f4-98d6-4161-a978-28a570959fe6\">\n",
              "    <div class=\"colab-df-container\">\n",
              "      <div>\n",
              "<style scoped>\n",
              "    .dataframe tbody tr th:only-of-type {\n",
              "        vertical-align: middle;\n",
              "    }\n",
              "\n",
              "    .dataframe tbody tr th {\n",
              "        vertical-align: top;\n",
              "    }\n",
              "\n",
              "    .dataframe thead th {\n",
              "        text-align: right;\n",
              "    }\n",
              "</style>\n",
              "<table border=\"1\" class=\"dataframe\">\n",
              "  <thead>\n",
              "    <tr style=\"text-align: right;\">\n",
              "      <th></th>\n",
              "      <th>tweet_id</th>\n",
              "      <th>user_name</th>\n",
              "      <th>date</th>\n",
              "      <th>content</th>\n",
              "      <th>language</th>\n",
              "      <th>reply_count</th>\n",
              "      <th>retweet_count</th>\n",
              "      <th>like_count</th>\n",
              "      <th>hashtags</th>\n",
              "      <th>coordinates</th>\n",
              "      <th>place</th>\n",
              "      <th>cashtags</th>\n",
              "      <th>mentionedUsers</th>\n",
              "    </tr>\n",
              "  </thead>\n",
              "  <tbody>\n",
              "    <tr>\n",
              "      <th>0</th>\n",
              "      <td>1101076008827060226</td>\n",
              "      <td>BJP4JnK</td>\n",
              "      <td>2019-02-28T11:05:52+00:00</td>\n",
              "      <td>#MeraBoothSabseMazboot\\nGlimpses of Live Inter...</td>\n",
              "      <td>en</td>\n",
              "      <td>0</td>\n",
              "      <td>5</td>\n",
              "      <td>13</td>\n",
              "      <td>['MeraBoothSabseMazboot']</td>\n",
              "      <td>NaN</td>\n",
              "      <td>NaN</td>\n",
              "      <td>NaN</td>\n",
              "      <td>[]</td>\n",
              "    </tr>\n",
              "    <tr>\n",
              "      <th>1</th>\n",
              "      <td>1101051875011579904</td>\n",
              "      <td>BJP4JnK</td>\n",
              "      <td>2019-02-28T09:29:58+00:00</td>\n",
              "      <td>देश चल पड़ा है प्रगति पथ पर\\nबस यूं ही चलते रह...</td>\n",
              "      <td>hi</td>\n",
              "      <td>0</td>\n",
              "      <td>16</td>\n",
              "      <td>27</td>\n",
              "      <td>['MeraBoothSabseMazboot']</td>\n",
              "      <td>NaN</td>\n",
              "      <td>NaN</td>\n",
              "      <td>NaN</td>\n",
              "      <td>[]</td>\n",
              "    </tr>\n",
              "    <tr>\n",
              "      <th>2</th>\n",
              "      <td>1101038475632144384</td>\n",
              "      <td>BJP4JnK</td>\n",
              "      <td>2019-02-28T08:36:43+00:00</td>\n",
              "      <td>देश ने करवट बदली है, यह तो बस अंगड़ाई है आगे औ...</td>\n",
              "      <td>hi</td>\n",
              "      <td>0</td>\n",
              "      <td>10</td>\n",
              "      <td>14</td>\n",
              "      <td>['MeraBoothSabseMazboot']</td>\n",
              "      <td>NaN</td>\n",
              "      <td>NaN</td>\n",
              "      <td>NaN</td>\n",
              "      <td>['narendramodi']</td>\n",
              "    </tr>\n",
              "    <tr>\n",
              "      <th>3</th>\n",
              "      <td>1101035670439686144</td>\n",
              "      <td>BJP4JnK</td>\n",
              "      <td>2019-02-28T08:25:34+00:00</td>\n",
              "      <td>इस बार कुम्भ की स्वच्छता को लेकर पूरी दुनिया म...</td>\n",
              "      <td>hi</td>\n",
              "      <td>1</td>\n",
              "      <td>55</td>\n",
              "      <td>106</td>\n",
              "      <td>NaN</td>\n",
              "      <td>NaN</td>\n",
              "      <td>NaN</td>\n",
              "      <td>NaN</td>\n",
              "      <td>['narendramodi']</td>\n",
              "    </tr>\n",
              "    <tr>\n",
              "      <th>4</th>\n",
              "      <td>1101035022323195904</td>\n",
              "      <td>BJP4JnK</td>\n",
              "      <td>2019-02-28T08:23:00+00:00</td>\n",
              "      <td>बरसों से था घना अँधेरा अब जाके भोर दिखी है\\nउन...</td>\n",
              "      <td>hi</td>\n",
              "      <td>0</td>\n",
              "      <td>12</td>\n",
              "      <td>15</td>\n",
              "      <td>['MeraBoothSabseMazboot']</td>\n",
              "      <td>NaN</td>\n",
              "      <td>NaN</td>\n",
              "      <td>NaN</td>\n",
              "      <td>['narendramodi']</td>\n",
              "    </tr>\n",
              "  </tbody>\n",
              "</table>\n",
              "</div>\n",
              "      <button class=\"colab-df-convert\" onclick=\"convertToInteractive('df-6c9489f4-98d6-4161-a978-28a570959fe6')\"\n",
              "              title=\"Convert this dataframe to an interactive table.\"\n",
              "              style=\"display:none;\">\n",
              "        \n",
              "  <svg xmlns=\"http://www.w3.org/2000/svg\" height=\"24px\"viewBox=\"0 0 24 24\"\n",
              "       width=\"24px\">\n",
              "    <path d=\"M0 0h24v24H0V0z\" fill=\"none\"/>\n",
              "    <path d=\"M18.56 5.44l.94 2.06.94-2.06 2.06-.94-2.06-.94-.94-2.06-.94 2.06-2.06.94zm-11 1L8.5 8.5l.94-2.06 2.06-.94-2.06-.94L8.5 2.5l-.94 2.06-2.06.94zm10 10l.94 2.06.94-2.06 2.06-.94-2.06-.94-.94-2.06-.94 2.06-2.06.94z\"/><path d=\"M17.41 7.96l-1.37-1.37c-.4-.4-.92-.59-1.43-.59-.52 0-1.04.2-1.43.59L10.3 9.45l-7.72 7.72c-.78.78-.78 2.05 0 2.83L4 21.41c.39.39.9.59 1.41.59.51 0 1.02-.2 1.41-.59l7.78-7.78 2.81-2.81c.8-.78.8-2.07 0-2.86zM5.41 20L4 18.59l7.72-7.72 1.47 1.35L5.41 20z\"/>\n",
              "  </svg>\n",
              "      </button>\n",
              "      \n",
              "  <style>\n",
              "    .colab-df-container {\n",
              "      display:flex;\n",
              "      flex-wrap:wrap;\n",
              "      gap: 12px;\n",
              "    }\n",
              "\n",
              "    .colab-df-convert {\n",
              "      background-color: #E8F0FE;\n",
              "      border: none;\n",
              "      border-radius: 50%;\n",
              "      cursor: pointer;\n",
              "      display: none;\n",
              "      fill: #1967D2;\n",
              "      height: 32px;\n",
              "      padding: 0 0 0 0;\n",
              "      width: 32px;\n",
              "    }\n",
              "\n",
              "    .colab-df-convert:hover {\n",
              "      background-color: #E2EBFA;\n",
              "      box-shadow: 0px 1px 2px rgba(60, 64, 67, 0.3), 0px 1px 3px 1px rgba(60, 64, 67, 0.15);\n",
              "      fill: #174EA6;\n",
              "    }\n",
              "\n",
              "    [theme=dark] .colab-df-convert {\n",
              "      background-color: #3B4455;\n",
              "      fill: #D2E3FC;\n",
              "    }\n",
              "\n",
              "    [theme=dark] .colab-df-convert:hover {\n",
              "      background-color: #434B5C;\n",
              "      box-shadow: 0px 1px 3px 1px rgba(0, 0, 0, 0.15);\n",
              "      filter: drop-shadow(0px 1px 2px rgba(0, 0, 0, 0.3));\n",
              "      fill: #FFFFFF;\n",
              "    }\n",
              "  </style>\n",
              "\n",
              "      <script>\n",
              "        const buttonEl =\n",
              "          document.querySelector('#df-6c9489f4-98d6-4161-a978-28a570959fe6 button.colab-df-convert');\n",
              "        buttonEl.style.display =\n",
              "          google.colab.kernel.accessAllowed ? 'block' : 'none';\n",
              "\n",
              "        async function convertToInteractive(key) {\n",
              "          const element = document.querySelector('#df-6c9489f4-98d6-4161-a978-28a570959fe6');\n",
              "          const dataTable =\n",
              "            await google.colab.kernel.invokeFunction('convertToInteractive',\n",
              "                                                     [key], {});\n",
              "          if (!dataTable) return;\n",
              "\n",
              "          const docLinkHtml = 'Like what you see? Visit the ' +\n",
              "            '<a target=\"_blank\" href=https://colab.research.google.com/notebooks/data_table.ipynb>data table notebook</a>'\n",
              "            + ' to learn more about interactive tables.';\n",
              "          element.innerHTML = '';\n",
              "          dataTable['output_type'] = 'display_data';\n",
              "          await google.colab.output.renderOutput(dataTable, element);\n",
              "          const docLink = document.createElement('div');\n",
              "          docLink.innerHTML = docLinkHtml;\n",
              "          element.appendChild(docLink);\n",
              "        }\n",
              "      </script>\n",
              "    </div>\n",
              "  </div>\n",
              "  "
            ]
          },
          "metadata": {},
          "execution_count": 81
        }
      ]
    },
    {
      "cell_type": "code",
      "source": [
        "# This function is used to get number of clusters\n",
        "def number_of_clusters(cluster_obj):\n",
        "  unique_list = cluster_obj.tolist()\n",
        "  unique_list = list(set(unique_list))\n",
        "  return len(unique_list)"
      ],
      "metadata": {
        "id": "3FRL6FEMeV8Z"
      },
      "execution_count": null,
      "outputs": []
    },
    {
      "cell_type": "code",
      "source": [
        "# This function is returns list of cluster id with more than 3 elements in it\n",
        "def cluster_id_list(cluster_obj):\n",
        "  id_list = list()\n",
        "  counter = defaultdict(lambda:0)\n",
        "  for id in cluster_obj:\n",
        "      counter[id] = counter[id] +1\n",
        "  for key in counter.keys():\n",
        "      if counter[key] >= 2:\n",
        "        id_list.append(key)\n",
        "  return id_list\n"
      ],
      "metadata": {
        "id": "hbK0dWnfhjCN"
      },
      "execution_count": null,
      "outputs": []
    },
    {
      "cell_type": "code",
      "source": [
        "import math\n",
        "def get_hash_tag_list(id):\n",
        "  temp_df = df.loc[df['tweet_id'] == id]\n",
        "  hashtags = temp_df['hashtags']\n",
        "  temp_list = list()\n",
        "  for index, value in hashtags.items():\n",
        "    # format the value\n",
        "    \n",
        "    if type(value) is not float:\n",
        "      value = value[1:-1]\n",
        "      split_list = value.split(\", \")\n",
        "      for s_list in split_list:\n",
        "        s_list = s_list[1:-1]\n",
        "        temp_list.append(s_list)\n",
        "  return temp_list"
      ],
      "metadata": {
        "id": "9dQGvinCn54a"
      },
      "execution_count": null,
      "outputs": []
    },
    {
      "cell_type": "code",
      "source": [
        "# This function is used to traverse the id list and print all tweets pertaining in that id\n",
        "def print_tweets_in_cluster(id_list,cluster_obj,rev_map,en_mapping,p_component,hash_tag_counter):\n",
        "  # traverse id in id_list\n",
        "  for id in id_list:\n",
        "    p_comp_index = list()\n",
        "    for index in range(0,len(cluster_obj)):\n",
        "      if cluster_obj[index] == id:\n",
        "        p_comp_index.append(index)\n",
        "    \n",
        "    # got principle component index get tweet content\n",
        "    print(\"cluster id is:\",id)\n",
        "    for index in p_comp_index:\n",
        "      # get tweet id\n",
        "      tweet_id_list = rev_map[tuple(p_component[index])]\n",
        "      \n",
        "      for id in tweet_id_list:\n",
        "        # get hash tag from id\n",
        "        hash_tag = get_hash_tag_list(id)\n",
        "        for h_t in hash_tag:\n",
        "          \n",
        "          hash_tag_counter[h_t] = hash_tag_counter[h_t] + 1\n",
        "          print(en_mapping[id]) \n",
        "\n",
        "      "
      ],
      "metadata": {
        "id": "j2w6zY80ty3-"
      },
      "execution_count": null,
      "outputs": []
    },
    {
      "cell_type": "code",
      "source": [
        "def party_vs_copies(id_list,cluster_obj,rev_map,en_mapping,p_component,hash_tag_counter):\n",
        " # traverse id in id_list\n",
        " party_wise_counts={'BJP':0,'Congress':0,'AAP':0}\n",
        " for id in id_list:\n",
        "   p_comp_index = list()\n",
        "   for index in range(0,len(cluster_obj)):\n",
        "     if cluster_obj[index] == id:\n",
        "       p_comp_index.append(index)\n",
        "  \n",
        "   # got principle component index get tweet content\n",
        "   #print(\"cluster id is:\",id)\n",
        "   for index in p_comp_index:\n",
        "     # get tweet id\n",
        "     tweet_id_list = rev_map[tuple(p_component[index])]\n",
        "     \n",
        "     x=df.loc[df['tweet_id'].isin(tweet_id_list)]\n",
        "     x=x['user_name']\n",
        "     y=df_party_names[['username','party']]\n",
        "     z=pd.merge(x,y,'inner',left_on='user_name',right_on='username')\n",
        "     counts=z['party'].value_counts()\n",
        "     for val in counts.index:\n",
        "       party_wise_counts[val]+=counts[val]\n",
        "     \n",
        " return party_wise_counts"
      ],
      "metadata": {
        "id": "bJqvcigXlif1"
      },
      "execution_count": null,
      "outputs": []
    },
    {
      "cell_type": "code",
      "source": [
        "# This function is used to get tweet ids for every cluster\n",
        "def tweet_id_per_cluster(id_list,cluster_obj,rev_map,en_mapping,p_component,hash_tag_counter):\n",
        "  # traverse id in id_list\n",
        "  cluster_tweet_id_mapping = defaultdict(list)\n",
        "  for id in id_list:\n",
        "    p_comp_index = list()\n",
        "    for index in range(0,len(cluster_obj)):\n",
        "      if cluster_obj[index] == id:\n",
        "        p_comp_index.append(index)\n",
        "    \n",
        "    for index in p_comp_index:\n",
        "      tweet_id_list = rev_map[tuple(p_component[index])]\n",
        "      for t_id in tweet_id_list:\n",
        "        cluster_tweet_id_mapping[id].append(t_id)\n",
        "      \n",
        "  return cluster_tweet_id_mapping\n"
      ],
      "metadata": {
        "id": "OJxWek5o9eUS"
      },
      "execution_count": null,
      "outputs": []
    },
    {
      "cell_type": "code",
      "source": [
        "number = number_of_clusters(cluster_obj)\n",
        "print(\"number of clusters :\", number )"
      ],
      "metadata": {
        "colab": {
          "base_uri": "https://localhost:8080/"
        },
        "id": "0fkxCNcIgW6m",
        "outputId": "38c5e3c2-d3a7-40c3-f050-373cc185c8a3"
      },
      "execution_count": null,
      "outputs": [
        {
          "output_type": "stream",
          "name": "stdout",
          "text": [
            "number of clusters : 11421\n"
          ]
        }
      ]
    },
    {
      "cell_type": "code",
      "source": [
        "id_list = cluster_id_list(cluster_obj)\n",
        "print(id_list)"
      ],
      "metadata": {
        "colab": {
          "base_uri": "https://localhost:8080/"
        },
        "id": "LPsAiH27jgq2",
        "outputId": "3532d8c3-97af-4457-c6d0-cca8198635c9"
      },
      "execution_count": null,
      "outputs": [
        {
          "output_type": "stream",
          "name": "stdout",
          "text": [
            "[6007, 6441, 7328, 7318, 2964, 2188, 4141, 8867, 2131, 2589, 2696, 1714, 7350, 2190, 6080, 8757, 1616, 2222, 1121, 6533, 6081, 5921, 9554, 5938, 5888, 10287, 6078, 9285, 2392, 10899, 4235, 6835, 4569, 4252, 3509, 13, 11274, 3421, 5779, 342, 5031, 9801, 4508, 3695, 6964, 3913, 4053, 2134, 4214, 4718, 4721, 4022, 2948, 1586, 4501, 9978, 10826, 363, 5945, 4893, 749, 3852, 6247, 4397, 8376, 2373, 7267, 7107, 7226, 10605, 10602, 8872, 9403, 2322, 6436, 7466, 6236, 2704, 4466, 8482, 10665, 8484, 8476, 8485, 8489, 8490, 8565, 8493, 8495, 797, 10663, 4209, 3781, 8908, 8050, 2943, 2244, 2176, 8462, 1745, 7985, 2674, 7998, 10994, 4227, 10892, 11066, 5369, 6730, 6685, 3586, 1105, 10656, 2550, 10741, 8327, 11084, 10715, 1002, 10627, 1974, 1130, 11052, 11316, 1109, 7964, 4607, 4218, 4246, 4213, 4191, 4258, 4187, 603, 4140, 4565, 9991, 3874, 3773, 10463, 4145, 4488, 3235, 4202, 3767, 4146, 4076, 4109, 8113, 8868, 6041, 3708, 4330, 4512, 6793, 6411, 2793, 7152, 437, 4219, 5305, 9268, 2098, 5994, 2258, 2104, 2282, 1970, 1237, 2158, 1124, 2671, 7233, 2639, 865, 799, 2562, 6799, 7121, 5325, 9059, 10213, 4240, 2315, 682, 6537, 1971, 2205, 7015, 1836, 6008, 7932, 2683, 8017, 879, 854, 7779, 9686, 8028, 8407, 8434, 7977, 7602, 8515, 8312, 10950, 8532, 8457, 8318, 8030, 7818, 8453, 750, 7830, 8324, 8105, 8502, 762, 8516, 10606, 7778, 872, 8323, 7971, 8316, 831, 8431, 9003, 8364, 2935, 5907, 7854, 6195, 4170, 5932, 8481, 8478, 8483, 10917, 8159, 7717, 8488, 8497, 8518, 10798, 4243, 9743, 3731, 11003, 1226, 10658, 10668, 10653, 8257, 3898, 9075, 10539, 11213, 9170, 10507, 8000, 10802, 4051, 6369, 10661, 10058, 10666, 8325, 6288, 6287, 7265, 10833, 5187, 5834, 5144, 7887, 8585, 5489, 7862, 9675, 5298, 6366, 5356, 6338, 4540, 5486, 7281, 9129, 6130, 9418, 9481, 7111, 6023, 4188, 8125, 876, 2438, 7632, 2328, 2505, 1148, 2358, 2127, 7770, 1051, 2207, 7773, 7900, 753, 2172, 1144, 2374, 8216, 7983, 7984, 2786, 885, 8003, 546, 8722, 2489, 1976, 7647, 2615, 8029, 2675, 7978, 2165, 7997, 2072, 6034, 7888, 6393, 7505, 7962, 2300, 883, 2741, 8127, 593, 7989, 6743, 906, 7404, 2203, 2348, 573, 1899, 2389, 7973, 4373, 2310, 747, 706, 8501, 2607, 917, 7771, 5598, 2638, 861, 824, 8451, 1948, 7982, 2118, 2890, 752, 744, 1145, 1956, 8126, 579, 6101, 2196, 2379, 2554, 8530, 8473, 7712, 1433, 7455, 8321, 8112, 2668, 164, 8044, 2626, 2649, 8534, 10757, 5535, 8107, 2214, 8427, 7897, 8529, 8513, 10684, 7917, 1248, 2063, 7991, 10694, 2240, 2794, 7800, 598, 2057, 8346, 2384, 3973, 2130, 2281, 2693, 1891, 2288, 2912, 5324, 7519, 2672, 2064, 1740, 2208, 1907, 3036, 2341, 2388, 2486, 6335, 2338, 2453, 2055, 8523, 2932, 8018, 3034, 1146, 7958, 2386, 1898, 6864, 2290, 5304, 7980, 923, 1184, 2153, 2164, 2317, 2077, 2914, 10050, 1542, 7641, 10256, 10525, 10225, 3457, 3446, 3717, 10528, 10450, 5358, 9898, 5233, 9803, 9912, 11212, 10499, 4606, 3783, 3794, 9623, 837, 10089, 9798, 9613, 5258, 1464, 11215, 3754, 1952, 10793, 4539, 5115, 9650, 5474, 9734, 3861, 4662, 7638, 6255, 2173, 8471, 2050, 3729, 10604, 3070, 2287, 2546, 2137, 2252, 2277, 8541, 10744, 2274, 2380, 8533, 2670, 7764, 2664, 2356, 5205, 7898, 1882, 8123, 601, 8546, 8554, 8602, 10057, 2352, 2253, 7449, 2705, 1120, 2558, 2549, 7543, 2226, 11162, 10677, 10967, 2563, 10642, 7426, 5303, 8392, 8692, 3307, 8139, 10238, 7409, 7396, 7138, 7140, 7831, 8214, 4343, 8409, 4637, 7514, 6169, 4059, 2645, 11174, 10628, 8124, 4108, 4192, 2340, 2044, 2928, 2195, 10784, 8933, 4324, 2502, 4463, 2263, 2236, 2280, 2248, 10979, 5455, 4849, 2262, 1233, 10931, 2283, 9791, 8300, 4204, 10601, 7084, 3415, 6555, 2201, 410, 2350, 3784, 3683, 2991, 8270, 2349, 2485, 3062, 2527, 8414, 8432, 8047, 2029, 8240, 4381, 3039, 8418, 5339, 3895, 7650, 1765, 4856, 5213, 5966, 179, 1983, 2628, 10552, 8617, 732, 2689, 2556, 5768, 5461, 10823, 7442, 5108, 3749, 3452, 4656, 9652, 8666, 11048, 9867, 3240, 9199, 10673, 4708, 4559, 7290, 9820, 10243, 5039, 1680, 10691, 10693, 10234, 3877, 7144, 3157, 11217, 3226, 10041, 9377, 3611, 10667, 1057, 5520, 4178, 6917, 9347, 10037, 10380, 10659, 10428, 10054, 7071, 7070, 7513, 4852, 10277, 3641, 2936, 7451, 3092, 8052, 3114, 10412, 10356, 10415, 3322, 9857, 334, 9866, 11205, 8716, 4098, 319, 119, 10233, 10269, 7197, 4351, 7216, 6180, 3622, 10721, 8641, 2656, 3187, 5363, 6032, 8759, 6873, 1054, 515, 5354, 7217, 6173, 9054, 6733, 2722, 1082, 1151, 6119, 2184, 2911, 6083, 6094, 2336, 6548, 218, 2946, 6501, 6543, 6764, 2039, 6063, 715, 5583, 2632, 1789, 6549, 6073, 1791, 5555, 2018, 1458, 2446, 5884, 2576, 1439, 10926, 5918, 6116, 3177, 6517, 3956, 5290, 9668, 209, 6050, 6768, 2565, 6545, 6539, 5566, 1797, 6770, 3905, 4013, 873, 6015, 5983, 6690, 385, 6534, 10987, 5920, 9053, 4376, 8340, 8305, 10670, 10683, 2221, 10981, 10765, 4314, 4647, 8002, 8445, 10788, 9291, 10442, 5939, 1355, 1195, 6264, 8412, 8394, 10690, 10696, 10739, 6048, 8472, 2646, 8383, 3392, 5740, 10722, 8714, 2186, 11007, 4561, 6274, 1771, 6091, 2466, 5741, 743, 3866, 4133, 7110, 10008, 10362, 10025, 3669, 6834, 1300, 7255, 5035, 1111, 11160, 1055, 11164, 2085, 2235, 10847, 605, 6065, 5826, 5640, 7302, 10848, 912, 7145, 2831, 6103, 1187, 6874, 2377, 1364, 5882, 6031, 2795, 10938, 5964, 2580, 8073, 1481, 2059, 1197, 5829, 1085, 6059, 5965, 7179, 1966, 2177, 2224, 2578, 1914, 1190, 6122, 5974, 6345, 2477, 4156, 2152, 1509, 6115, 6069, 2370, 6346, 9101, 5913, 2382, 9943, 2312, 2005, 2942, 2423, 5869, 6121, 1795, 10900, 1570, 11022, 4230, 2955, 3953, 6074, 6075, 4078, 2561, 2889, 1016, 1065, 2796, 8474, 7970, 5563, 5903, 8458, 10897, 10753, 6566, 2581, 3285, 4998, 7262, 7310, 5745, 483, 6434, 6132, 7338, 4432, 8626, 3496, 4239, 4198, 4259, 3769, 3979, 4232, 5840, 5807, 7313, 5443, 6040, 10382, 7080, 5626, 5941, 6123, 3809, 692, 3424, 6025, 691, 10469, 9929, 2769, 2779, 2765, 622, 2767, 3577, 3063, 6551, 3054, 10474, 7069, 3077, 7164, 7167, 4384, 8810, 9855, 2738, 3796, 5867, 5174, 2484, 6863, 8416, 4740, 3330, 5466, 1855, 4044, 4741, 4383, 1290, 3419, 10370, 3498, 4000, 9392, 3418, 10413, 6775, 3538, 5381, 9891, 2200, 5870, 5529, 5864, 4155, 6597, 6898, 2432, 4173, 3740, 4442, 1847, 4653, 5465, 6569, 6926, 221, 58, 4379, 3633, 3886, 3911, 4276, 10205, 7168, 7213, 9508, 2219, 5547, 7002, 5495, 5701, 5449, 5146, 4689, 5787, 4027, 1260, 5482, 5131, 247, 7283, 5274, 5498, 5480, 6448, 5404, 6367, 5503, 3952, 4128, 9610, 5442, 4579, 3182, 4619, 1461, 7131, 5937, 3760, 10272, 4498, 4562, 4581, 2983, 5822, 8307, 6161, 5472, 3241, 810, 1890, 7527, 4625, 5528, 6107, 10454, 5232, 8638, 8644, 2947, 961, 5234, 939, 5229, 7064, 915, 949, 8643, 10217, 9624, 4707, 4100, 1247, 10445, 2495, 2901, 2643, 5662, 5506, 4130, 6047, 6291, 8155, 8645, 4180, 1770, 2411, 3312, 4507, 2996, 4881, 3879, 4920, 6662, 1998, 2774, 416, 6979, 2436, 7598, 1440, 2071, 9963, 6352, 3630, 10337, 6216, 2327, 9879, 4803, 93, 3316, 4444, 9693, 8899, 2504, 4835, 2414, 5471, 4040, 2733, 3614, 10420, 9893, 10273, 2162, 4518, 3051, 9256, 1581, 5072, 4908, 6168, 6176, 2711, 7211, 4126, 4177, 3847, 278, 5312, 360, 5727, 946, 4790, 6088, 1690, 2183, 2776, 10568, 10347, 8843, 5165, 4563, 3626, 5453, 4254, 6807, 4602, 4580, 4267, 6808, 3902, 8616, 5483, 2673, 2804, 2698, 1880, 4307, 2537, 2923, 2523, 2637, 3165, 3046, 6833, 7277, 8193, 2415, 5193, 2119, 1744, 4114, 4665, 614, 4626, 6011, 9671, 7275, 2314, 7835, 2757, 2761, 6106, 3638, 4205, 4297, 370, 11362, 6550, 2023, 2047, 3560, 10137, 10014, 4342, 3743, 4312, 4337, 4509, 10000, 4456, 10070, 4352, 3718, 10005, 10119, 4162, 4336, 402, 10006, 10059, 4325, 3707, 10820, 2364, 2667, 550, 5412, 5569, 535, 5898, 1783, 6931, 1834, 6174, 6568, 4550, 4720, 5462, 4660, 5868, 6615, 1852, 5979, 6084, 1917, 884, 8570, 4211, 1928, 5806, 3108, 631, 10193, 3797, 6164, 9251, 6013, 5487, 5813, 5833, 11257, 6402, 5396, 10806, 1471, 4262, 10972, 3954, 4102, 3687, 4158, 6158, 4099, 4236, 6160, 6170, 124, 3672, 3741, 4106, 7909, 4129, 3763, 638, 4643, 10028, 10435, 11286, 1108, 1084, 1129, 7999, 2126, 7994, 2934, 9822, 5767, 3816, 5782, 8138, 9287, 4200, 9323, 5380, 9067, 5114, 4515, 5293, 9694, 16, 11009, 1597, 9884, 3609, 9799, 6903, 3605, 4636, 1698, 4224, 3643, 8335, 4571, 1763, 1768, 7501, 6002, 3726, 102, 3487, 5543, 4470, 2647, 1934, 3762, 3793, 4228, 9764, 5256, 9404, 8713, 1075, 2746, 10387, 3821, 3730, 1793, 6480, 3850, 954, 4245, 4116, 7369, 5642, 3823, 586, 198, 6876, 4143, 7508, 7141, 7757, 8673, 4642, 4493, 10707, 9771, 9600, 7388, 4153, 154, 1642, 10447, 1541, 3628, 4110, 4640, 3912, 5861, 4226, 3882, 4201, 583, 1293, 2048, 7918, 2210, 11011, 2500, 9968, 1183, 1118, 2209, 2285, 1115, 9883, 5106, 704, 10910, 2651, 7969, 3782, 2368, 5809, 2393, 875, 7050, 5247, 7245, 5066, 3563, 7801, 5825, 1962, 921, 10199, 6521, 10660, 6860, 5917, 6429, 11214, 4690, 5270, 9358, 4123, 3790, 4054, 1013, 9770, 3759, 4264, 11234, 3244, 4148, 2442, 7259, 1296, 3052, 4318, 10825, 2999, 10608, 7904, 7444, 10239, 5262, 8735, 5567, 372, 1112, 1420, 2331, 2385, 3006, 8763, 1794, 8486, 4298, 9843, 2001, 4465, 514, 2877, 561, 3835, 9903, 6636, 9252, 5818, 8007, 7311, 5076, 3554, 9699, 1326, 2482, 8950, 5649, 5857, 1595, 4519, 5273, 1910, 3834, 6589, 8385, 4651, 10973, 10302, 7539, 3618, 4025, 10053, 6445, 4167, 8627, 6230, 10803, 5292, 8536, 4094, 4066, 7462, 10172, 595, 1378, 6574, 332, 822, 1619, 350, 2421, 9470, 1166, 3286, 3854, 3690, 10603, 8037, 8841, 7696, 6187, 3719, 11013, 4139, 2069, 2319, 4195, 4090, 8326, 1088, 1134, 11010, 2661, 710, 853, 1131, 1332, 2168, 2429, 8624, 10787, 1125, 2694, 6327, 2652, 2634, 1903, 1846, 2326, 520, 2217, 2198, 1916, 1999, 4954, 2169, 6104, 8362, 8992, 8046, 5357, 3976, 8091, 2629, 11236, 1784, 6970, 10271, 9717, 2100, 1995, 2387, 678, 2243, 6646, 2472, 10816, 1885, 4901, 2644, 4035, 2316, 2635, 4414, 4242, 4212, 4409, 4391, 4392, 4394, 5375, 4036, 2566, 9096, 2397, 2053, 2318, 4717, 10088, 10503, 1025, 6582, 5028, 4221, 10007, 5553, 6575, 9056, 665, 5241, 8866, 4436, 8851, 2140, 2966, 5359, 6688, 6284, 6691, 6133, 7354, 8496, 10333, 6035, 2062, 5967, 5762, 7187, 3492, 6052, 6901, 5816, 5810, 130, 3880, 8450, 8469, 1309, 5968, 11134, 8677, 10773, 6300, 7215, 6177, 5587, 10087, 7446, 10763, 5661, 4160, 9999, 7486, 3965, 4309, 7363, 4638, 2284, 1251, 8339, 2499, 10742, 2717, 2128, 6786, 5322, 1147, 10846, 4263, 6961, 6435, 6330, 10919, 176, 1390, 11219, 5841, 4479, 8304, 4485, 1693, 3541, 2695, 5714, 6362, 7292, 10675, 3074, 5697, 4372, 5155, 5584, 3820, 4046, 6199, 10702, 903, 5700, 5698, 6159, 2458, 802, 1189, 10779, 3308, 3249, 3306, 5097, 6389, 4513, 7330, 10155, 10491, 5959, 3706, 3451, 5746, 3588, 5722, 4503, 531, 10339, 9454, 6378, 2359, 3805, 10409, 432, 10460, 3775, 8444, 5706, 3355, 2980, 6380, 8566, 10290, 5124, 1276, 3807, 10276, 9260, 3738, 9728, 4118, 10402, 10346, 4194, 3715, 10196, 5377, 10746, 10710, 3737, 4313, 10381, 3403, 2204, 1992, 6842, 7261, 10374, 7194, 11024, 10228, 4210, 9238, 10962, 11070, 7895, 10834, 8344, 5418, 5421, 5143, 3621, 4760, 4687, 10698, 2736, 277, 6018, 6129, 8881, 7052, 2748, 5805, 1168, 5844, 9015, 7411, 8299, 9996, 4504, 6336, 3113, 5491, 6175, 5496, 8625, 9885, 2617, 4305, 2875, 6082, 11363, 3333, 3826, 6020, 4652, 3734, 10407, 4185, 3788, 3881, 10783, 2227, 10079, 5251, 8417, 6202, 8401, 4847, 5505, 6386, 5696, 8188, 4489, 5571, 6759, 7495, 542, 6563, 6134, 5032, 5604, 3468, 7156, 1529, 6055, 7135, 4308, 4289, 7134, 6494, 6365, 9874, 7038, 2041, 408, 5708, 6182, 10338, 5477, 6087, 10158, 2099, 1959, 1701, 4922, 5790, 5891, 2719, 4369, 5169, 9563, 348, 4590, 11180, 5164, 6470, 3812, 1523, 6921, 9896, 2707, 3937, 234, 9644, 9773, 427, 2092, 4101, 6262, 9735, 6371, 2268, 5895, 6279, 4186, 1858, 4031, 1856, 6331, 1843, 4125, 153, 2818, 4284, 4171, 4081, 3260, 4176, 3625, 10592, 4464, 10091, 4457, 3901, 3849, 2909, 7464, 4349, 3664, 4222, 10324, 5958, 7440, 8475, 8322, 2534, 8463, 4649, 11027, 11008, 4285, 8375, 3587, 9151, 8120, 4441, 11341, 394, 4854, 1335, 11356, 10945, 1258, 11004, 2862, 2304, 7178, 8116, 8440, 10641, 2690, 2728, 5942, 3218, 10839, 8514, 2325, 7639, 2333, 2648, 8009, 1191, 2462, 293, 8014, 1079, 1256, 1137, 860, 5370, 11194, 8115, 5342, 10785, 2797, 1160, 8781, 5268, 5326, 4092, 9475, 10438, 6449, 9196, 5147, 3705, 4577, 4578, 11397, 4600, 7374, 3327, 4184, 5794, 3725, 3323, 3696, 2251, 2311, 4474, 8491, 10930, 8384, 8877, 9294, 5311, 10676, 5452, 11012, 6120, 6552, 5291, 5379, 7850, 8110, 7450, 7298, 7833, 7453, 7572, 5364, 2254, 7858, 7459, 5237, 7429, 7428, 7106, 4587, 9270, 8220, 9617, 4745, 2303, 2654, 10286, 2884, 6987, 8503, 755, 1901, 7427, 7912, 7968, 8019, 7993, 856, 8355, 2680, 2117, 2206, 7859, 826, 6475, 7745, 8038, 2239, 8042, 8040, 7996, 1304, 7899, 6322, 613, 868, 5601, 8436, 1639, 8083, 7457, 789, 1005, 9637, 8213, 8102, 845, 8487, 1101, 7825, 7151, 6239, 6307, 5982, 9227, 6124, 7198, 3404, 6012, 2270, 2136, 7718, 10398, 8104, 8289, 5310, 5434, 7434, 4553, 1368, 2602, 10815, 10049, 10716, 10681, 8994, 8226, 5585, 9936, 8737, 2309, 6485, 5647, 5208, 4157, 7959, 10960, 10417, 2346, 4169, 1850, 4174, 7205, 3104, 9828, 6959, 4274, 2945, 2148, 5457, 7719, 8850, 8043, 8096, 1038, 8567, 5651, 7243, 5367, 3110, 5162, 11278, 9758, 10786, 6066, 4104, 8251, 5368, 9515, 4514, 9795, 8093, 4481, 4575, 4193, 9721, 5904, 7604, 2437, 3899, 7928, 3792, 10643, 8269, 2633, 2080, 3402, 8012, 8494, 8441, 8013, 7936, 7879, 882, 7636, 9020, 1900, 5986, 10955, 10366, 4702, 8223, 27, 8215, 5521, 10718, 7947, 8424, 11030, 8411, 10843, 5376, 2619, 452, 1632, 2727, 886, 7976, 5276, 5253, 6628, 3883, 2256, 2391, 1897, 2659, 11079, 8464, 2552, 1116, 1869, 2216, 8456, 5094, 6394, 11206, 11196, 5671, 781, 4389, 2299, 7276, 2582, 2133, 4338, 9793, 10674, 3207, 10976, 3088, 8108, 7995, 2147, 3549, 10489, 5778, 7339, 7301, 7441, 1128, 7180, 7172, 8001, 9113, 5507, 10913, 6193, 6293, 7550, 7554, 7574, 7559, 7460, 7566, 7558, 7795, 7571, 2157, 7557, 5999, 7545, 666, 2839, 7884, 10680, 1760, 6156, 7945, 5936, 6407, 5041, 1662, 6986, 3884, 292, 10772, 9575, 6383, 572, 1963, 7986, 6272, 1193, 2844, 6308, 2321, 1919, 2302, 9559, 10704, 8133, 7221, 3495, 10280, 9765, 2427, 2242, 2375, 2218, 2146, 2035, 8492, 2032, 10998, 7159, 5930, 5832, 11141, 4316, 2714, 10581, 11222, 11280, 4917, 7196, 5355, 7592, 4134, 2959, 2636, 6319, 4144, 9487, 7960, 9541, 5216, 8041, 5197, 5196, 7911, 7552, 5295, 5317, 7553, 7804, 807, 7794, 5294, 7805, 5289, 7424, 2483, 7291, 5211, 8294, 7990, 8049, 5300, 7802, 2528, 7891, 1143, 8131, 8405, 2630, 2681, 2075, 4175, 5950, 2181, 5257, 1804, 2376, 9702, 10482, 6353, 11033, 2065, 8525, 8531, 9889, 9144, 1063, 2360, 4138, 2669, 2381, 8459, 8016, 10599, 8540, 8777, 8479, 8505, 10600, 8498, 8465, 9001, 8517, 8578, 867, 8527, 8519, 2357, 1142, 2074, 10597, 2642, 8420, 8334, 7992, 7967, 10687, 7651, 7372, 8353, 8579, 2700, 2144, 7949, 7948, 6337, 8558, 5320, 7943, 7979, 594, 5138, 740, 742, 539, 679, 2735, 5892, 5259, 8447, 2716, 7883, 735, 7892, 855, 2371, 7576, 7105, 5537, 1126, 3693, 1650, 9034, 7874, 4261, 8181, 8623, 9319, 5199, 7264, 3216, 8360, 2467, 2049, 528, 1762, 1592, 2160, 2606, 6580, 1637, 819, 874, 1631, 1969, 2618, 567, 930, 8032, 6852, 7112, 5952, 2070, 8320, 10107, 7920, 2347, 1968, 7212, 6093, 6038, 10342, 2766, 6019, 4866, 6294, 2076, 6062, 4516, 2848, 5944, 3887, 4288, 9698, 4431, 2265, 9915, 4071, 4448, 11409, 10731, 2229, 4142, 6006, 5470, 10719, 2682, 2323, 2174, 10672, 2330, 1986, 6306, 7220, 7274, 6138, 6105, 7288, 7564, 10948, 5926, 7219, 4572, 9510, 9459, 9467, 9509, 9448, 2383, 7101, 7828, 8195, 7713, 8552, 8550, 2179, 4199, 5540, 9669, 1973, 1050, 2497, 4105, 1978, 4266, 2627, 4283, 3087, 3765, 3076, 4714, 2430, 11178, 11322, 7847, 7848, 5288, 7842, 9387, 11262, 10877, 9036, 9414, 4832, 9390, 9415, 344, 9386, 4853, 1229, 10572, 10208, 7695, 7855, 3106, 2476, 7823, 5559, 4450, 8506, 5297, 10177, 8700, 2836, 3865, 5815, 141, 10953, 5605, 8676, 4863, 7266, 9108, 8861, 8004, 7336, 4576, 570, 5266, 7316, 2286, 7041, 9176, 8075, 5469, 5860, 3494, 5781, 7335, 5693, 3079, 10995, 7817, 5558, 5694, 7132, 5279, 8072, 6339, 9873, 5468, 5409, 6418, 7373, 2658, 1307, 4043, 2441, 8752, 866, 1993, 4030, 7437, 4358, 7269, 6397, 7890, 8657]\n"
          ]
        }
      ]
    },
    {
      "cell_type": "code",
      "source": [
        "print(\"number_of_clusters\",len(id_list))"
      ],
      "metadata": {
        "colab": {
          "base_uri": "https://localhost:8080/"
        },
        "id": "T-xRiLWpmB0g",
        "outputId": "16113ef7-6916-48e9-8d91-9278e8c4f5db"
      },
      "execution_count": null,
      "outputs": [
        {
          "output_type": "stream",
          "name": "stdout",
          "text": [
            "number_of_clusters 2641\n"
          ]
        }
      ]
    },
    {
      "cell_type": "code",
      "source": [
        "hash_tag_counter = defaultdict(lambda:0)\n",
        "print_tweets_in_cluster(id_list,cluster_obj,rev_map,en_mapping,p_component,hash_tag_counter)"
      ],
      "metadata": {
        "id": "nJdHqNSitcRa"
      },
      "execution_count": null,
      "outputs": []
    },
    {
      "cell_type": "code",
      "source": [
        "party_wise_counts=party_vs_copies(id_list,cluster_obj,rev_map,en_mapping,p_component,hash_tag_counter)"
      ],
      "metadata": {
        "id": "taqsG7tOtmcY"
      },
      "execution_count": null,
      "outputs": []
    },
    {
      "cell_type": "code",
      "source": [
        "import matplotlib.pyplot as plt\n",
        "party = list(party_wise_counts.keys())\n",
        "counts = list(party_wise_counts.values())\n",
        "plt.bar(party, counts, color =['orange','green','blue'],\n",
        "        width = 0.5)\n",
        "plt.xlabel(\"Party Names\")\n",
        "plt.ylabel(\"Tweet count\")\n",
        "plt.title(\"Party wise distribution of copy pasted tweets\")\n",
        "plt.show()"
      ],
      "metadata": {
        "colab": {
          "base_uri": "https://localhost:8080/",
          "height": 295
        },
        "id": "mMRXD_1b7FHQ",
        "outputId": "4610a1fb-7efe-436f-81df-fcd31454dfa0"
      },
      "execution_count": null,
      "outputs": [
        {
          "output_type": "display_data",
          "data": {
            "text/plain": [
              "<Figure size 432x288 with 1 Axes>"
            ],
            "image/png": "[encoded data removed]"
          },
          "metadata": {
            "needs_background": "light"
          }
        }
      ]
    },
    {
      "cell_type": "markdown",
      "source": [
        "### Displaying Hash Tags and Count"
      ],
      "metadata": {
        "id": "p-My8kRSmHug"
      }
    },
    {
      "cell_type": "code",
      "source": [
        "hash_tag_counter=sorted(hash_tag_counter.items(), key = lambda kv:(kv[1], kv[0]),reverse = True)"
      ],
      "metadata": {
        "id": "VYQhCy7RzQIl"
      },
      "execution_count": null,
      "outputs": []
    },
    {
      "cell_type": "code",
      "source": [
        "hash_tags=[\"#\"+x[0] for x in hash_tag_counter[:5]]\n",
        "frequency=[x[1] for x in hash_tag_counter[:5]]\n",
        "plt.figure(figsize=(16,9))\n",
        "plt.bar(hash_tags, frequency,\n",
        "       width = 0.5)\n",
        "plt.xlabel(\"Hash tags\")\n",
        "plt.ylabel(\"Frequency\")\n",
        "plt.show()"
      ],
      "metadata": {
        "colab": {
          "base_uri": "https://localhost:8080/",
          "height": 549
        },
        "id": "wKBtGM04vxWQ",
        "outputId": "3b69cba8-9924-472f-d983-32cd835738e8"
      },
      "execution_count": null,
      "outputs": [
        {
          "output_type": "display_data",
          "data": {
            "text/plain": [
              "<Figure size 1152x648 with 1 Axes>"
            ],
            "image/png": "[encoded data removed]"
          },
          "metadata": {
            "needs_background": "light"
          }
        }
      ]
    },
    {
      "cell_type": "markdown",
      "source": [
        "## cluster tweet id mapping"
      ],
      "metadata": {
        "id": "GdX1aOAY-5gH"
      }
    },
    {
      "cell_type": "code",
      "source": [
        "cluster_tweet_id_mapping = tweet_id_per_cluster(id_list,cluster_obj,rev_map,en_mapping,p_component,hash_tag_counter)"
      ],
      "metadata": {
        "id": "tJGYi53qldDn"
      },
      "execution_count": null,
      "outputs": []
    },
    {
      "cell_type": "code",
      "source": [
        ""
      ],
      "metadata": {
        "id": "mO3gVqQ4_nav"
      },
      "execution_count": null,
      "outputs": []
    },
    {
      "cell_type": "markdown",
      "source": [
        "## user_copy_paste_count"
      ],
      "metadata": {
        "id": "a2kffwaZExp-"
      }
    },
    {
      "cell_type": "code",
      "source": [
        "copy_paste_count = defaultdict(lambda:0)\n",
        "for k,v in cluster_tweet_id_mapping.items():\n",
        "  if(len(v)>10):\n",
        "    for tweet_id in v:\n",
        "      x=df.loc[df['tweet_id']==tweet_id]\n",
        "      user_name=x.iloc[0]['user_name']\n",
        "      user_name=str(user_name)\n",
        "      if(user_name[:4].lower()!=\"bjp4\"):\n",
        "        y=df_party_names.loc[df_party_names['username']==user_name]\n",
        "        if(len(y)>0):\n",
        "          party_name=str(y.iloc[0]['party'])\n",
        "          copy_paste_count[(user_name,party_name)] = copy_paste_count[(user_name,party_name)] + 1\n",
        "        \n",
        "\n",
        "s=sorted(copy_paste_count.items(),key=lambda kv:(kv[1],kv[0]),reverse=True)[:10]"
      ],
      "metadata": {
        "id": "YMV9kZsUE6B8"
      },
      "execution_count": null,
      "outputs": []
    },
    {
      "cell_type": "code",
      "source": [
        "users=[k[0][0] for k in s]\n",
        "counts=[k[1] for k in s]\n",
        "plt.figure(figsize=(16,9))\n",
        "plt.bar(users, counts,\n",
        "       width = 0.5)\n",
        "plt.xlabel(\"users\")\n",
        "plt.ylabel(\"copy pastes\")\n",
        "plt.show()"
      ],
      "metadata": {
        "colab": {
          "base_uri": "https://localhost:8080/",
          "height": 549
        },
        "id": "SePhYjcYNIFP",
        "outputId": "f87bc75e-8598-4cf9-8dab-79f8441899cb"
      },
      "execution_count": null,
      "outputs": [
        {
          "output_type": "display_data",
          "data": {
            "text/plain": [
              "<Figure size 1152x648 with 1 Axes>"
            ],
            "image/png": "[encoded data removed]"
          },
          "metadata": {
            "needs_background": "light"
          }
        }
      ]
    },
    {
      "cell_type": "code",
      "source": [
        "celebrities=[('khushsundar', 104),('VinodChavdaBJP', 70),()]"
      ],
      "metadata": {
        "id": "OP1MKOOANfwo"
      },
      "execution_count": null,
      "outputs": []
    },
    {
      "cell_type": "markdown",
      "source": [
        "## FOLLOWERS VS COPY PASTE"
      ],
      "metadata": {
        "id": "NCLhiRNIsZ6l"
      }
    },
    {
      "cell_type": "code",
      "source": [
        "followers_count={}\n",
        "for k in copy_paste_count.keys():\n",
        " username=k[0]\n",
        " y=df_user_data.loc[df_user_data['username']==username]\n",
        " fc=y.iloc[0]['followersCount']\n",
        " followers_count[username]=fc"
      ],
      "metadata": {
        "id": "--qrUGTGsZnc"
      },
      "execution_count": null,
      "outputs": []
    },
    {
      "cell_type": "code",
      "source": [
        "temp=[(v1,v2) for v1,v2 in zip(followers_count.values(),copy_paste_count.values())]\n",
        "temp=sorted(temp)\n",
        "no_of_followers=[v[0] for v in temp]\n",
        "copy_count=[v[1] for v in temp]\n",
        "plt.figure(figsize=(16,9))\n",
        "plt.plot(no_of_followers,copy_count)\n",
        "plt.show()\n"
      ],
      "metadata": {
        "colab": {
          "base_uri": "https://localhost:8080/",
          "height": 550
        },
        "id": "7F0zjzSpsgpU",
        "outputId": "7087f30f-37f1-416a-ef8f-cc0a8be3031b"
      },
      "execution_count": null,
      "outputs": [
        {
          "output_type": "display_data",
          "data": {
            "text/plain": [
              "<Figure size 1152x648 with 1 Axes>"
            ],
            "image/png": "[encoded data removed]"
          },
          "metadata": {
            "needs_background": "light"
          }
        }
      ]
    },
    {
      "cell_type": "markdown",
      "source": [
        "## ANALYSING HINDI TWEETS"
      ],
      "metadata": {
        "id": "DM4dXdqZMYB2"
      }
    },
    {
      "cell_type": "code",
      "source": [
        "!pip uninstall torch"
      ],
      "metadata": {
        "colab": {
          "base_uri": "https://localhost:8080/"
        },
        "id": "edoqV1ykqStU",
        "outputId": "54531770-9dd2-43d2-afc7-f750a2375eaa"
      },
      "execution_count": null,
      "outputs": [
        {
          "output_type": "stream",
          "name": "stdout",
          "text": [
            "\u001b[33mWARNING: Skipping torch as it is not installed.\u001b[0m\n"
          ]
        }
      ]
    },
    {
      "cell_type": "code",
      "source": [
        "!conda install pytorch==1.3.0 -c pytorch"
      ],
      "metadata": {
        "colab": {
          "base_uri": "https://localhost:8080/"
        },
        "id": "1A5f6-tAqasl",
        "outputId": "d2c48845-ee91-4c52-b9d7-29beb45e3d54"
      },
      "execution_count": null,
      "outputs": [
        {
          "output_type": "stream",
          "name": "stdout",
          "text": [
            "Collecting package metadata (current_repodata.json): - \b\b\\ \b\b| \b\b/ \b\b- \b\b\\ \b\b| \b\b/ \b\b- \b\b\\ \b\b| \b\b/ \b\b- \b\b\\ \b\b| \b\b/ \b\b- \b\b\\ \b\b| \b\b/ \b\b- \b\b\\ \b\b| \b\b/ \b\b- \b\b\\ \b\b| \b\b/ \b\b- \b\b\\ \b\b| \b\b/ \b\b- \b\b\\ \b\b| \b\b/ \b\b- \b\b\\ \b\b| \b\b/ \b\b- \b\b\\ \b\b| \b\b/ \b\b- \b\b\\ \b\b| \b\b/ \b\b- \b\b\\ \b\b| \b\b/ \b\b- \b\b\\ \b\b| \b\b/ \b\b- \b\b\\ \b\b| \b\b/ \b\b- \b\b\\ \b\b| \b\b/ \b\b- \b\b\\ \b\b| \b\b/ \b\b- \b\b\\ \b\b| \b\b/ \b\b- \b\b\\ \b\b| \b\b/ \b\b- \b\b\\ \b\b| \b\b/ \b\b- \b\b\\ \b\b| \b\b/ \b\b- \b\b\\ \b\b| \b\b/ \b\b- \b\b\\ \b\b| \b\b/ \b\b- \b\b\\ \b\b| \b\b/ \b\b- \b\b\\ \b\b| \b\b/ \b\b- \b\bdone\n",
            "Solving environment: | \b\b/ \b\b- \b\b\\ \b\b| \b\b/ \b\b- \b\b\\ \b\b| \b\b/ \b\b- \b\b\\ \b\b| \b\b/ \b\b- \b\b\\ \b\b| \b\b/ \b\b- \b\b\\ \b\b| \b\b/ \b\b- \b\b\\ \b\b| \b\b/ \b\b- \b\b\\ \b\b| \b\b/ \b\b- \b\b\\ \b\b| \b\b/ \b\b- \b\b\\ \b\b| \b\b/ \b\b- \b\b\\ \b\b| \b\b/ \b\b- \b\b\\ \b\b| \b\b/ \b\b- \b\b\\ \b\b| \b\b/ \b\b- \b\b\\ \b\b| \b\b/ \b\b- \b\b\\ \b\b| \b\b/ \b\b- \b\b\\ \b\b| \b\b/ \b\b- \b\b\\ \b\bdone\n",
            "\n",
            "## Package Plan ##\n",
            "\n",
            "  environment location: /usr/local\n",
            "\n",
            "  added / updated specs:\n",
            "    - pytorch==1.3.0\n",
            "\n",
            "\n",
            "The following packages will be downloaded:\n",
            "\n",
            "    package                    |            build\n",
            "    ---------------------------|-----------------\n",
            "    _openmp_mutex-4.5          |           1_llvm           5 KB  conda-forge\n",
            "    ca-certificates-2021.10.8  |       ha878542_0         139 KB  conda-forge\n",
            "    certifi-2021.10.8          |   py37h89c1867_2         145 KB  conda-forge\n",
            "    conda-4.12.0               |   py37h89c1867_0         1.0 MB  conda-forge\n",
            "    cpuonly-1.0                |                0           2 KB  pytorch\n",
            "    cudatoolkit-11.1.1         |       h6406543_8        1.20 GB  conda-forge\n",
            "    libblas-3.9.0              |11_linux64_openblas          12 KB  conda-forge\n",
            "    libcblas-3.9.0             |11_linux64_openblas          11 KB  conda-forge\n",
            "    libgfortran-ng-11.2.0      |      h69a702a_15          23 KB  conda-forge\n",
            "    libgfortran5-11.2.0        |      h5c6108e_15         1.7 MB  conda-forge\n",
            "    liblapack-3.9.0            |11_linux64_openblas          11 KB  conda-forge\n",
            "    libopenblas-0.3.17         |pthreads_h8fe5266_1         9.2 MB  conda-forge\n",
            "    libzlib-1.2.11             |    h36c2ea0_1013          59 KB  conda-forge\n",
            "    llvm-openmp-13.0.1         |       he0ac6c6_1         3.4 MB  conda-forge\n",
            "    mkl-2020.4                 |     h726a3e6_304       215.6 MB  conda-forge\n",
            "    ninja-1.10.2               |       h4bd325d_0         2.4 MB  conda-forge\n",
            "    numpy-1.20.3               |   py37h038b26d_1         5.7 MB  conda-forge\n",
            "    python_abi-3.7             |          2_cp37m           4 KB  conda-forge\n",
            "    pytorch-1.3.0              |      py3.7_cpu_0        36.1 MB  pytorch\n",
            "    zlib-1.2.11                |    h36c2ea0_1013          86 KB  conda-forge\n",
            "    ------------------------------------------------------------\n",
            "                                           Total:        1.47 GB\n",
            "\n",
            "The following NEW packages will be INSTALLED:\n",
            "\n",
            "  cpuonly            pytorch/noarch::cpuonly-1.0-0\n",
            "  cudatoolkit        conda-forge/linux-64::cudatoolkit-11.1.1-h6406543_8\n",
            "  libblas            conda-forge/linux-64::libblas-3.9.0-11_linux64_openblas\n",
            "  libcblas           conda-forge/linux-64::libcblas-3.9.0-11_linux64_openblas\n",
            "  libgfortran-ng     conda-forge/linux-64::libgfortran-ng-11.2.0-h69a702a_15\n",
            "  libgfortran5       conda-forge/linux-64::libgfortran5-11.2.0-h5c6108e_15\n",
            "  liblapack          conda-forge/linux-64::liblapack-3.9.0-11_linux64_openblas\n",
            "  libopenblas        conda-forge/linux-64::libopenblas-0.3.17-pthreads_h8fe5266_1\n",
            "  libzlib            conda-forge/linux-64::libzlib-1.2.11-h36c2ea0_1013\n",
            "  llvm-openmp        conda-forge/linux-64::llvm-openmp-13.0.1-he0ac6c6_1\n",
            "  mkl                conda-forge/linux-64::mkl-2020.4-h726a3e6_304\n",
            "  ninja              conda-forge/linux-64::ninja-1.10.2-h4bd325d_0\n",
            "  numpy              conda-forge/linux-64::numpy-1.20.3-py37h038b26d_1\n",
            "  pytorch            pytorch/linux-64::pytorch-1.3.0-py3.7_cpu_0\n",
            "\n",
            "The following packages will be UPDATED:\n",
            "\n",
            "  ca-certificates                      2020.12.5-ha878542_0 --> 2021.10.8-ha878542_0\n",
            "  certifi                          2020.12.5-py37h89c1867_1 --> 2021.10.8-py37h89c1867_2\n",
            "  conda                                4.9.2-py37h89c1867_0 --> 4.12.0-py37h89c1867_0\n",
            "  python_abi                                    3.7-1_cp37m --> 3.7-2_cp37m\n",
            "  zlib                                 1.2.11-h516909a_1010 --> 1.2.11-h36c2ea0_1013\n",
            "\n",
            "The following packages will be DOWNGRADED:\n",
            "\n",
            "  _openmp_mutex                                   4.5-1_gnu --> 4.5-1_llvm\n",
            "\n",
            "\n",
            "\n",
            "Downloading and Extracting Packages\n",
            "mkl-2020.4           | 215.6 MB  | : 100% 1.0/1 [00:47<00:00, 47.72s/it]               \n",
            "_openmp_mutex-4.5    | 5 KB      | : 100% 1.0/1 [00:00<00:00, 12.83it/s]\n",
            "libzlib-1.2.11       | 59 KB     | : 100% 1.0/1 [00:00<00:00, 16.53it/s]\n",
            "pytorch-1.3.0        | 36.1 MB   | : 100% 1.0/1 [00:10<00:00, 10.27s/it]               \n",
            "liblapack-3.9.0      | 11 KB     | : 100% 1.0/1 [00:00<00:00, 18.15it/s]\n",
            "ca-certificates-2021 | 139 KB    | : 100% 1.0/1 [00:00<00:00, 13.72it/s]\n",
            "conda-4.12.0         | 1.0 MB    | : 100% 1.0/1 [00:00<00:00,  3.02it/s]\n",
            "cpuonly-1.0          | 2 KB      | : 100% 1.0/1 [00:00<00:00,  2.13it/s]\n",
            "libopenblas-0.3.17   | 9.2 MB    | : 100% 1.0/1 [00:02<00:00,  2.04s/it]\n",
            "libgfortran-ng-11.2. | 23 KB     | : 100% 1.0/1 [00:00<00:00, 15.00it/s]\n",
            "libcblas-3.9.0       | 11 KB     | : 100% 1.0/1 [00:00<00:00, 14.26it/s]\n",
            "ninja-1.10.2         | 2.4 MB    | : 100% 1.0/1 [00:00<00:00,  2.07it/s]\n",
            "numpy-1.20.3         | 5.7 MB    | : 100% 1.0/1 [00:01<00:00,  1.86s/it]\n",
            "llvm-openmp-13.0.1   | 3.4 MB    | : 100% 1.0/1 [00:00<00:00,  1.28it/s]\n",
            "zlib-1.2.11          | 86 KB     | : 100% 1.0/1 [00:00<00:00, 13.98it/s]\n",
            "libgfortran5-11.2.0  | 1.7 MB    | : 100% 1.0/1 [00:00<00:00,  2.38it/s]\n",
            "certifi-2021.10.8    | 145 KB    | : 100% 1.0/1 [00:00<00:00, 12.56it/s]\n",
            "python_abi-3.7       | 4 KB      | : 100% 1.0/1 [00:00<00:00, 20.41it/s]\n",
            "libblas-3.9.0        | 12 KB     | : 100% 1.0/1 [00:00<00:00, 19.18it/s]\n",
            "cudatoolkit-11.1.1   | 1.20 GB   | : 100% 1.0/1 [03:18<00:00, 198.03s/it]              \n",
            "Preparing transaction: / \b\b- \b\bdone\n",
            "Verifying transaction: | \b\b/ \b\b- \b\b\\ \b\b| \b\b/ \b\b- \b\b\\ \b\b| \b\b/ \b\b- \b\bdone\n",
            "Executing transaction: | \b\b/ \b\b- \b\b\\ \b\b| \b\b/ \b\b- \b\b\\ \b\b| \b\b/ \b\b- \b\b\\ \b\b| \b\b/ \b\b- \b\b\\ \b\b| \b\b/ \b\b- \b\b\\ \b\b| \b\b/ \b\b- \b\b\\ \b\b| \b\b/ \b\b- \b\b\\ \b\b| \b\b/ \b\b- \b\b\\ \b\b| \b\b/ \b\b- \b\b\\ \b\b| \b\b/ \b\b- \b\b\\ \b\b| \b\b/ \b\b- \b\b\\ \b\b| \b\b/ \b\b- \b\b\\ \b\b| \b\b/ \b\b- \b\b\\ \b\b| \b\b/ \b\b- \b\b\\ \b\b| \b\b/ \b\b- \b\b\\ \b\b| \b\b/ By downloading and using the CUDA Toolkit conda packages, you accept the terms and conditions of the CUDA End User License Agreement (EULA): https://docs.nvidia.com/cuda/eula/index.html\n",
            "\n",
            "\b\b- \b\b\\ \b\bdone\n"
          ]
        }
      ]
    },
    {
      "cell_type": "code",
      "source": [
        "setup('hi')"
      ],
      "metadata": {
        "colab": {
          "base_uri": "https://localhost:8080/",
          "height": 328
        },
        "id": "PKR3_f1-OfHR",
        "outputId": "39b86dfd-1d9f-42e7-c967-8bb85939bbcf"
      },
      "execution_count": null,
      "outputs": [
        {
          "output_type": "error",
          "ename": "RuntimeError",
          "evalue": "ignored",
          "traceback": [
            "\u001b[0;31m---------------------------------------------------------------------------\u001b[0m",
            "\u001b[0;31mRuntimeError\u001b[0m                              Traceback (most recent call last)",
            "\u001b[0;32m<ipython-input-16-8355a174fd31>\u001b[0m in \u001b[0;36m<module>\u001b[0;34m()\u001b[0m\n\u001b[0;32m----> 1\u001b[0;31m \u001b[0msetup\u001b[0m\u001b[0;34m(\u001b[0m\u001b[0;34m'hi'\u001b[0m\u001b[0;34m)\u001b[0m\u001b[0;34m\u001b[0m\u001b[0;34m\u001b[0m\u001b[0m\n\u001b[0m",
            "\u001b[0;32m/usr/local/lib/python3.7/site-packages/inltk/inltk.py\u001b[0m in \u001b[0;36msetup\u001b[0;34m(language_code)\u001b[0m\n\u001b[1;32m     31\u001b[0m     \u001b[0mloop\u001b[0m \u001b[0;34m=\u001b[0m \u001b[0masyncio\u001b[0m\u001b[0;34m.\u001b[0m\u001b[0mget_event_loop\u001b[0m\u001b[0;34m(\u001b[0m\u001b[0;34m)\u001b[0m\u001b[0;34m\u001b[0m\u001b[0;34m\u001b[0m\u001b[0m\n\u001b[1;32m     32\u001b[0m     \u001b[0mtasks\u001b[0m \u001b[0;34m=\u001b[0m \u001b[0;34m[\u001b[0m\u001b[0masyncio\u001b[0m\u001b[0;34m.\u001b[0m\u001b[0mensure_future\u001b[0m\u001b[0;34m(\u001b[0m\u001b[0mdownload\u001b[0m\u001b[0;34m(\u001b[0m\u001b[0mlanguage_code\u001b[0m\u001b[0;34m)\u001b[0m\u001b[0;34m)\u001b[0m\u001b[0;34m]\u001b[0m\u001b[0;34m\u001b[0m\u001b[0;34m\u001b[0m\u001b[0m\n\u001b[0;32m---> 33\u001b[0;31m     \u001b[0mlearn\u001b[0m \u001b[0;34m=\u001b[0m \u001b[0mloop\u001b[0m\u001b[0;34m.\u001b[0m\u001b[0mrun_until_complete\u001b[0m\u001b[0;34m(\u001b[0m\u001b[0masyncio\u001b[0m\u001b[0;34m.\u001b[0m\u001b[0mgather\u001b[0m\u001b[0;34m(\u001b[0m\u001b[0;34m*\u001b[0m\u001b[0mtasks\u001b[0m\u001b[0;34m)\u001b[0m\u001b[0;34m)\u001b[0m\u001b[0;34m[\u001b[0m\u001b[0;36m0\u001b[0m\u001b[0;34m]\u001b[0m\u001b[0;34m\u001b[0m\u001b[0;34m\u001b[0m\u001b[0m\n\u001b[0m\u001b[1;32m     34\u001b[0m     \u001b[0mloop\u001b[0m\u001b[0;34m.\u001b[0m\u001b[0mclose\u001b[0m\u001b[0;34m(\u001b[0m\u001b[0;34m)\u001b[0m\u001b[0;34m\u001b[0m\u001b[0;34m\u001b[0m\u001b[0m\n\u001b[1;32m     35\u001b[0m \u001b[0;34m\u001b[0m\u001b[0m\n",
            "\u001b[0;32m/usr/lib/python3.7/asyncio/base_events.py\u001b[0m in \u001b[0;36mrun_until_complete\u001b[0;34m(self, future)\u001b[0m\n\u001b[1;32m    561\u001b[0m         \"\"\"\n\u001b[1;32m    562\u001b[0m         \u001b[0mself\u001b[0m\u001b[0;34m.\u001b[0m\u001b[0m_check_closed\u001b[0m\u001b[0;34m(\u001b[0m\u001b[0;34m)\u001b[0m\u001b[0;34m\u001b[0m\u001b[0;34m\u001b[0m\u001b[0m\n\u001b[0;32m--> 563\u001b[0;31m         \u001b[0mself\u001b[0m\u001b[0;34m.\u001b[0m\u001b[0m_check_runnung\u001b[0m\u001b[0;34m(\u001b[0m\u001b[0;34m)\u001b[0m\u001b[0;34m\u001b[0m\u001b[0;34m\u001b[0m\u001b[0m\n\u001b[0m\u001b[1;32m    564\u001b[0m \u001b[0;34m\u001b[0m\u001b[0m\n\u001b[1;32m    565\u001b[0m         \u001b[0mnew_task\u001b[0m \u001b[0;34m=\u001b[0m \u001b[0;32mnot\u001b[0m \u001b[0mfutures\u001b[0m\u001b[0;34m.\u001b[0m\u001b[0misfuture\u001b[0m\u001b[0;34m(\u001b[0m\u001b[0mfuture\u001b[0m\u001b[0;34m)\u001b[0m\u001b[0;34m\u001b[0m\u001b[0;34m\u001b[0m\u001b[0m\n",
            "\u001b[0;32m/usr/lib/python3.7/asyncio/base_events.py\u001b[0m in \u001b[0;36m_check_runnung\u001b[0;34m(self)\u001b[0m\n\u001b[1;32m    521\u001b[0m     \u001b[0;32mdef\u001b[0m \u001b[0m_check_runnung\u001b[0m\u001b[0;34m(\u001b[0m\u001b[0mself\u001b[0m\u001b[0;34m)\u001b[0m\u001b[0;34m:\u001b[0m\u001b[0;34m\u001b[0m\u001b[0;34m\u001b[0m\u001b[0m\n\u001b[1;32m    522\u001b[0m         \u001b[0;32mif\u001b[0m \u001b[0mself\u001b[0m\u001b[0;34m.\u001b[0m\u001b[0mis_running\u001b[0m\u001b[0;34m(\u001b[0m\u001b[0;34m)\u001b[0m\u001b[0;34m:\u001b[0m\u001b[0;34m\u001b[0m\u001b[0;34m\u001b[0m\u001b[0m\n\u001b[0;32m--> 523\u001b[0;31m             \u001b[0;32mraise\u001b[0m \u001b[0mRuntimeError\u001b[0m\u001b[0;34m(\u001b[0m\u001b[0;34m'This event loop is already running'\u001b[0m\u001b[0;34m)\u001b[0m\u001b[0;34m\u001b[0m\u001b[0;34m\u001b[0m\u001b[0m\n\u001b[0m\u001b[1;32m    524\u001b[0m         \u001b[0;32mif\u001b[0m \u001b[0mevents\u001b[0m\u001b[0;34m.\u001b[0m\u001b[0m_get_running_loop\u001b[0m\u001b[0;34m(\u001b[0m\u001b[0;34m)\u001b[0m \u001b[0;32mis\u001b[0m \u001b[0;32mnot\u001b[0m \u001b[0;32mNone\u001b[0m\u001b[0;34m:\u001b[0m\u001b[0;34m\u001b[0m\u001b[0;34m\u001b[0m\u001b[0m\n\u001b[1;32m    525\u001b[0m             raise RuntimeError(\n",
            "\u001b[0;31mRuntimeError\u001b[0m: This event loop is already running"
          ]
        },
        {
          "output_type": "stream",
          "name": "stdout",
          "text": [
            "Done!\n"
          ]
        }
      ]
    },
    {
      "cell_type": "code",
      "source": [
        "from inltk.inltk import get_sentence_encoding\n",
        "def perform_hindi_encoding(hindi_tweets):\n",
        "  # traverse tweets\n",
        "  # creating an empty nd array\n",
        "  hindi_embedding = np.empty((0,400),float)\n",
        "  for t in hindi_tweets:\n",
        "     encoding = get_sentence_encoding(t,'hi')\n",
        "     hindi_embedding = np.append(hindi_embedding, encoding, axis=0)\n",
        "  \n",
        "  print(hindi_embedding.shape)\n",
        "  return hindi_embedding"
      ],
      "metadata": {
        "id": "gYgZWTU9Mjj8"
      },
      "execution_count": null,
      "outputs": []
    },
    {
      "cell_type": "code",
      "source": [
        "hindi_embeddings = perform_hindi_encoding(hindi_tweets)"
      ],
      "metadata": {
        "id": "VllWwhEgNVY3",
        "colab": {
          "base_uri": "https://localhost:8080/",
          "height": 678
        },
        "outputId": "4e204fd0-5e21-4716-9b7e-3b231ab5d0b6"
      },
      "execution_count": null,
      "outputs": [
        {
          "output_type": "stream",
          "name": "stderr",
          "text": [
            "/usr/local/lib/python3.7/site-packages/torch/serialization.py:786: SourceChangeWarning: source code of class 'torch.nn.modules.loss.CrossEntropyLoss' has changed. you can retrieve the original source code by accessing the object's source attribute or set `torch.nn.Module.dump_patches = True` and use the patch tool to revert the changes.\n",
            "  warnings.warn(msg, SourceChangeWarning)\n",
            "/usr/local/lib/python3.7/site-packages/torch/serialization.py:786: SourceChangeWarning: source code of class 'fastai.text.models.awd_lstm.AWD_LSTM' has changed. you can retrieve the original source code by accessing the object's source attribute or set `torch.nn.Module.dump_patches = True` and use the patch tool to revert the changes.\n",
            "  warnings.warn(msg, SourceChangeWarning)\n",
            "/usr/local/lib/python3.7/site-packages/torch/serialization.py:786: SourceChangeWarning: source code of class 'torch.nn.modules.sparse.Embedding' has changed. you can retrieve the original source code by accessing the object's source attribute or set `torch.nn.Module.dump_patches = True` and use the patch tool to revert the changes.\n",
            "  warnings.warn(msg, SourceChangeWarning)\n",
            "/usr/local/lib/python3.7/site-packages/torch/serialization.py:786: SourceChangeWarning: source code of class 'fastai.text.models.awd_lstm.EmbeddingDropout' has changed. you can retrieve the original source code by accessing the object's source attribute or set `torch.nn.Module.dump_patches = True` and use the patch tool to revert the changes.\n",
            "  warnings.warn(msg, SourceChangeWarning)\n",
            "/usr/local/lib/python3.7/site-packages/torch/serialization.py:786: SourceChangeWarning: source code of class 'torch.nn.modules.container.ModuleList' has changed. you can retrieve the original source code by accessing the object's source attribute or set `torch.nn.Module.dump_patches = True` and use the patch tool to revert the changes.\n",
            "  warnings.warn(msg, SourceChangeWarning)\n",
            "/usr/local/lib/python3.7/site-packages/torch/serialization.py:786: SourceChangeWarning: source code of class 'fastai.text.models.awd_lstm.WeightDropout' has changed. you can retrieve the original source code by accessing the object's source attribute or set `torch.nn.Module.dump_patches = True` and use the patch tool to revert the changes.\n",
            "  warnings.warn(msg, SourceChangeWarning)\n",
            "/usr/local/lib/python3.7/site-packages/torch/serialization.py:786: SourceChangeWarning: source code of class 'torch.nn.modules.rnn.LSTM' has changed. you can retrieve the original source code by accessing the object's source attribute or set `torch.nn.Module.dump_patches = True` and use the patch tool to revert the changes.\n",
            "  warnings.warn(msg, SourceChangeWarning)\n",
            "/usr/local/lib/python3.7/site-packages/torch/serialization.py:786: SourceChangeWarning: source code of class 'fastai.text.models.awd_lstm.RNNDropout' has changed. you can retrieve the original source code by accessing the object's source attribute or set `torch.nn.Module.dump_patches = True` and use the patch tool to revert the changes.\n",
            "  warnings.warn(msg, SourceChangeWarning)\n",
            "/usr/local/lib/python3.7/site-packages/torch/serialization.py:786: SourceChangeWarning: source code of class 'fastai.text.models.awd_lstm.LinearDecoder' has changed. you can retrieve the original source code by accessing the object's source attribute or set `torch.nn.Module.dump_patches = True` and use the patch tool to revert the changes.\n",
            "  warnings.warn(msg, SourceChangeWarning)\n",
            "/usr/local/lib/python3.7/site-packages/torch/serialization.py:786: SourceChangeWarning: source code of class 'torch.nn.modules.linear.Linear' has changed. you can retrieve the original source code by accessing the object's source attribute or set `torch.nn.Module.dump_patches = True` and use the patch tool to revert the changes.\n",
            "  warnings.warn(msg, SourceChangeWarning)\n"
          ]
        },
        {
          "output_type": "display_data",
          "data": {
            "text/plain": [
              "<IPython.core.display.HTML object>"
            ],
            "text/html": [
              "\n",
              "<style>\n",
              "    /* Turns off some styling */\n",
              "    progress {\n",
              "        /* gets rid of default border in Firefox and Opera. */\n",
              "        border: none;\n",
              "        /* Needs to be in here for Safari polyfill so background images work as expected. */\n",
              "        background-size: auto;\n",
              "    }\n",
              "    .progress-bar-interrupted, .progress-bar-interrupted::-webkit-progress-bar {\n",
              "        background: #F44336;\n",
              "    }\n",
              "</style>\n"
            ]
          },
          "metadata": {}
        },
        {
          "output_type": "display_data",
          "data": {
            "text/plain": [
              "<IPython.core.display.HTML object>"
            ],
            "text/html": [
              ""
            ]
          },
          "metadata": {}
        },
        {
          "output_type": "display_data",
          "data": {
            "text/plain": [
              "<IPython.core.display.HTML object>"
            ],
            "text/html": [
              "\n",
              "<style>\n",
              "    /* Turns off some styling */\n",
              "    progress {\n",
              "        /* gets rid of default border in Firefox and Opera. */\n",
              "        border: none;\n",
              "        /* Needs to be in here for Safari polyfill so background images work as expected. */\n",
              "        background-size: auto;\n",
              "    }\n",
              "    .progress-bar-interrupted, .progress-bar-interrupted::-webkit-progress-bar {\n",
              "        background: #F44336;\n",
              "    }\n",
              "</style>\n"
            ]
          },
          "metadata": {}
        },
        {
          "output_type": "display_data",
          "data": {
            "text/plain": [
              "<IPython.core.display.HTML object>"
            ],
            "text/html": [
              ""
            ]
          },
          "metadata": {}
        },
        {
          "output_type": "error",
          "ename": "AttributeError",
          "evalue": "ignored",
          "traceback": [
            "\u001b[0;31m---------------------------------------------------------------------------\u001b[0m",
            "\u001b[0;31mAttributeError\u001b[0m                            Traceback (most recent call last)",
            "\u001b[0;32m<ipython-input-17-0fdaeccfe1a8>\u001b[0m in \u001b[0;36m<module>\u001b[0;34m()\u001b[0m\n\u001b[0;32m----> 1\u001b[0;31m \u001b[0mhindi_embeddings\u001b[0m \u001b[0;34m=\u001b[0m \u001b[0mperform_hindi_encoding\u001b[0m\u001b[0;34m(\u001b[0m\u001b[0mhindi_tweets\u001b[0m\u001b[0;34m)\u001b[0m\u001b[0;34m\u001b[0m\u001b[0;34m\u001b[0m\u001b[0m\n\u001b[0m",
            "\u001b[0;32m<ipython-input-14-9d992d425aee>\u001b[0m in \u001b[0;36mperform_hindi_encoding\u001b[0;34m(hindi_tweets)\u001b[0m\n\u001b[1;32m      5\u001b[0m   \u001b[0mhindi_embedding\u001b[0m \u001b[0;34m=\u001b[0m \u001b[0mnp\u001b[0m\u001b[0;34m.\u001b[0m\u001b[0mempty\u001b[0m\u001b[0;34m(\u001b[0m\u001b[0;34m(\u001b[0m\u001b[0;36m0\u001b[0m\u001b[0;34m,\u001b[0m\u001b[0;36m400\u001b[0m\u001b[0;34m)\u001b[0m\u001b[0;34m,\u001b[0m\u001b[0mfloat\u001b[0m\u001b[0;34m)\u001b[0m\u001b[0;34m\u001b[0m\u001b[0;34m\u001b[0m\u001b[0m\n\u001b[1;32m      6\u001b[0m   \u001b[0;32mfor\u001b[0m \u001b[0mt\u001b[0m \u001b[0;32min\u001b[0m \u001b[0mhindi_tweets\u001b[0m\u001b[0;34m:\u001b[0m\u001b[0;34m\u001b[0m\u001b[0;34m\u001b[0m\u001b[0m\n\u001b[0;32m----> 7\u001b[0;31m      \u001b[0mencoding\u001b[0m \u001b[0;34m=\u001b[0m \u001b[0mget_sentence_encoding\u001b[0m\u001b[0;34m(\u001b[0m\u001b[0mt\u001b[0m\u001b[0;34m,\u001b[0m\u001b[0;34m'hi'\u001b[0m\u001b[0;34m)\u001b[0m\u001b[0;34m\u001b[0m\u001b[0;34m\u001b[0m\u001b[0m\n\u001b[0m\u001b[1;32m      8\u001b[0m      \u001b[0mhindi_embedding\u001b[0m \u001b[0;34m=\u001b[0m \u001b[0mnp\u001b[0m\u001b[0;34m.\u001b[0m\u001b[0mappend\u001b[0m\u001b[0;34m(\u001b[0m\u001b[0mhindi_embedding\u001b[0m\u001b[0;34m,\u001b[0m \u001b[0mencoding\u001b[0m\u001b[0;34m,\u001b[0m \u001b[0maxis\u001b[0m\u001b[0;34m=\u001b[0m\u001b[0;36m0\u001b[0m\u001b[0;34m)\u001b[0m\u001b[0;34m\u001b[0m\u001b[0;34m\u001b[0m\u001b[0m\n\u001b[1;32m      9\u001b[0m \u001b[0;34m\u001b[0m\u001b[0m\n",
            "\u001b[0;32m/usr/local/lib/python3.7/site-packages/inltk/inltk.py\u001b[0m in \u001b[0;36mget_sentence_encoding\u001b[0;34m(input, language_code)\u001b[0m\n\u001b[1;32m    116\u001b[0m     \u001b[0mdefaults\u001b[0m\u001b[0;34m.\u001b[0m\u001b[0mdevice\u001b[0m \u001b[0;34m=\u001b[0m \u001b[0mtorch\u001b[0m\u001b[0;34m.\u001b[0m\u001b[0mdevice\u001b[0m\u001b[0;34m(\u001b[0m\u001b[0;34m'cpu'\u001b[0m\u001b[0;34m)\u001b[0m\u001b[0;34m\u001b[0m\u001b[0;34m\u001b[0m\u001b[0m\n\u001b[1;32m    117\u001b[0m     \u001b[0mpath\u001b[0m \u001b[0;34m=\u001b[0m \u001b[0mPath\u001b[0m\u001b[0;34m(\u001b[0m\u001b[0m__file__\u001b[0m\u001b[0;34m)\u001b[0m\u001b[0;34m.\u001b[0m\u001b[0mparent\u001b[0m\u001b[0;34m\u001b[0m\u001b[0;34m\u001b[0m\u001b[0m\n\u001b[0;32m--> 118\u001b[0;31m     \u001b[0mlearn\u001b[0m \u001b[0;34m=\u001b[0m \u001b[0mload_learner\u001b[0m\u001b[0;34m(\u001b[0m\u001b[0mpath\u001b[0m \u001b[0;34m/\u001b[0m \u001b[0;34m'models'\u001b[0m \u001b[0;34m/\u001b[0m \u001b[0;34mf'{language_code}'\u001b[0m\u001b[0;34m)\u001b[0m\u001b[0;34m\u001b[0m\u001b[0;34m\u001b[0m\u001b[0m\n\u001b[0m\u001b[1;32m    119\u001b[0m     \u001b[0mencoder\u001b[0m \u001b[0;34m=\u001b[0m \u001b[0mlearn\u001b[0m\u001b[0;34m.\u001b[0m\u001b[0mmodel\u001b[0m\u001b[0;34m[\u001b[0m\u001b[0;36m0\u001b[0m\u001b[0;34m]\u001b[0m\u001b[0;34m\u001b[0m\u001b[0;34m\u001b[0m\u001b[0m\n\u001b[1;32m    120\u001b[0m     \u001b[0mencoder\u001b[0m\u001b[0;34m.\u001b[0m\u001b[0mreset\u001b[0m\u001b[0;34m(\u001b[0m\u001b[0;34m)\u001b[0m\u001b[0;34m\u001b[0m\u001b[0;34m\u001b[0m\u001b[0m\n",
            "\u001b[0;32m/usr/local/lib/python3.7/site-packages/fastai/basic_train.py\u001b[0m in \u001b[0;36mload_learner\u001b[0;34m(path, file, test, **db_kwargs)\u001b[0m\n\u001b[1;32m    624\u001b[0m     \u001b[0mcb_state\u001b[0m \u001b[0;34m=\u001b[0m \u001b[0mstate\u001b[0m\u001b[0;34m.\u001b[0m\u001b[0mpop\u001b[0m\u001b[0;34m(\u001b[0m\u001b[0;34m'cb_state'\u001b[0m\u001b[0;34m)\u001b[0m\u001b[0;34m\u001b[0m\u001b[0;34m\u001b[0m\u001b[0m\n\u001b[1;32m    625\u001b[0m     \u001b[0mclas_func\u001b[0m \u001b[0;34m=\u001b[0m \u001b[0mstate\u001b[0m\u001b[0;34m.\u001b[0m\u001b[0mpop\u001b[0m\u001b[0;34m(\u001b[0m\u001b[0;34m'cls'\u001b[0m\u001b[0;34m)\u001b[0m\u001b[0;34m\u001b[0m\u001b[0;34m\u001b[0m\u001b[0m\n\u001b[0;32m--> 626\u001b[0;31m     \u001b[0mres\u001b[0m \u001b[0;34m=\u001b[0m \u001b[0mclas_func\u001b[0m\u001b[0;34m(\u001b[0m\u001b[0mdata\u001b[0m\u001b[0;34m,\u001b[0m \u001b[0mmodel\u001b[0m\u001b[0;34m,\u001b[0m \u001b[0;34m**\u001b[0m\u001b[0mstate\u001b[0m\u001b[0;34m)\u001b[0m\u001b[0;34m\u001b[0m\u001b[0;34m\u001b[0m\u001b[0m\n\u001b[0m\u001b[1;32m    627\u001b[0m     \u001b[0mres\u001b[0m\u001b[0;34m.\u001b[0m\u001b[0mcallback_fns\u001b[0m \u001b[0;34m=\u001b[0m \u001b[0mstate\u001b[0m\u001b[0;34m[\u001b[0m\u001b[0;34m'callback_fns'\u001b[0m\u001b[0;34m]\u001b[0m \u001b[0;31m#to avoid duplicates\u001b[0m\u001b[0;34m\u001b[0m\u001b[0;34m\u001b[0m\u001b[0m\n\u001b[1;32m    628\u001b[0m     \u001b[0mres\u001b[0m\u001b[0;34m.\u001b[0m\u001b[0mcallbacks\u001b[0m \u001b[0;34m=\u001b[0m \u001b[0;34m[\u001b[0m\u001b[0mload_callback\u001b[0m\u001b[0;34m(\u001b[0m\u001b[0mc\u001b[0m\u001b[0;34m,\u001b[0m\u001b[0ms\u001b[0m\u001b[0;34m,\u001b[0m \u001b[0mres\u001b[0m\u001b[0;34m)\u001b[0m \u001b[0;32mfor\u001b[0m \u001b[0mc\u001b[0m\u001b[0;34m,\u001b[0m\u001b[0ms\u001b[0m \u001b[0;32min\u001b[0m \u001b[0mcb_state\u001b[0m\u001b[0;34m.\u001b[0m\u001b[0mitems\u001b[0m\u001b[0;34m(\u001b[0m\u001b[0;34m)\u001b[0m\u001b[0;34m]\u001b[0m\u001b[0;34m\u001b[0m\u001b[0;34m\u001b[0m\u001b[0m\n",
            "\u001b[0;32m/usr/local/lib/python3.7/site-packages/fastai/text/learner.py\u001b[0m in \u001b[0;36m__init__\u001b[0;34m(self, data, model, split_func, clip, alpha, beta, metrics, **learn_kwargs)\u001b[0m\n\u001b[1;32m     50\u001b[0m                                                      isinstance(data.train_ds.y, LMLabelList)))\n\u001b[1;32m     51\u001b[0m         \u001b[0mmetrics\u001b[0m \u001b[0;34m=\u001b[0m \u001b[0mifnone\u001b[0m\u001b[0;34m(\u001b[0m\u001b[0mmetrics\u001b[0m\u001b[0;34m,\u001b[0m \u001b[0;34m(\u001b[0m\u001b[0;34m[\u001b[0m\u001b[0maccuracy\u001b[0m\u001b[0;34m]\u001b[0m \u001b[0;32mif\u001b[0m \u001b[0mis_class\u001b[0m \u001b[0;32melse\u001b[0m \u001b[0;34m[\u001b[0m\u001b[0;34m]\u001b[0m\u001b[0;34m)\u001b[0m\u001b[0;34m)\u001b[0m\u001b[0;34m\u001b[0m\u001b[0;34m\u001b[0m\u001b[0m\n\u001b[0;32m---> 52\u001b[0;31m         \u001b[0msuper\u001b[0m\u001b[0;34m(\u001b[0m\u001b[0;34m)\u001b[0m\u001b[0;34m.\u001b[0m\u001b[0m__init__\u001b[0m\u001b[0;34m(\u001b[0m\u001b[0mdata\u001b[0m\u001b[0;34m,\u001b[0m \u001b[0mmodel\u001b[0m\u001b[0;34m,\u001b[0m \u001b[0mmetrics\u001b[0m\u001b[0;34m=\u001b[0m\u001b[0mmetrics\u001b[0m\u001b[0;34m,\u001b[0m \u001b[0;34m**\u001b[0m\u001b[0mlearn_kwargs\u001b[0m\u001b[0;34m)\u001b[0m\u001b[0;34m\u001b[0m\u001b[0;34m\u001b[0m\u001b[0m\n\u001b[0m\u001b[1;32m     53\u001b[0m         \u001b[0mself\u001b[0m\u001b[0;34m.\u001b[0m\u001b[0mcallbacks\u001b[0m\u001b[0;34m.\u001b[0m\u001b[0mappend\u001b[0m\u001b[0;34m(\u001b[0m\u001b[0mRNNTrainer\u001b[0m\u001b[0;34m(\u001b[0m\u001b[0mself\u001b[0m\u001b[0;34m,\u001b[0m \u001b[0malpha\u001b[0m\u001b[0;34m=\u001b[0m\u001b[0malpha\u001b[0m\u001b[0;34m,\u001b[0m \u001b[0mbeta\u001b[0m\u001b[0;34m=\u001b[0m\u001b[0mbeta\u001b[0m\u001b[0;34m)\u001b[0m\u001b[0;34m)\u001b[0m\u001b[0;34m\u001b[0m\u001b[0;34m\u001b[0m\u001b[0m\n\u001b[1;32m     54\u001b[0m         \u001b[0;32mif\u001b[0m \u001b[0mclip\u001b[0m\u001b[0;34m:\u001b[0m \u001b[0mself\u001b[0m\u001b[0;34m.\u001b[0m\u001b[0mcallback_fns\u001b[0m\u001b[0;34m.\u001b[0m\u001b[0mappend\u001b[0m\u001b[0;34m(\u001b[0m\u001b[0mpartial\u001b[0m\u001b[0;34m(\u001b[0m\u001b[0mGradientClipping\u001b[0m\u001b[0;34m,\u001b[0m \u001b[0mclip\u001b[0m\u001b[0;34m=\u001b[0m\u001b[0mclip\u001b[0m\u001b[0;34m)\u001b[0m\u001b[0;34m)\u001b[0m\u001b[0;34m\u001b[0m\u001b[0;34m\u001b[0m\u001b[0m\n",
            "\u001b[0;32m/usr/local/lib/python3.7/site-packages/fastai/basic_train.py\u001b[0m in \u001b[0;36m__init__\u001b[0;34m(self, data, model, opt_func, loss_func, metrics, true_wd, bn_wd, wd, train_bn, path, model_dir, callback_fns, callbacks, layer_groups, add_time, silent, cb_fns_registered)\u001b[0m\n",
            "\u001b[0;32m/usr/local/lib/python3.7/site-packages/fastai/basic_train.py\u001b[0m in \u001b[0;36m__post_init__\u001b[0;34m(self)\u001b[0m\n\u001b[1;32m    164\u001b[0m         \u001b[0;34m\"Setup path,metrics, callbacks and ensure model directory exists.\"\u001b[0m\u001b[0;34m\u001b[0m\u001b[0;34m\u001b[0m\u001b[0m\n\u001b[1;32m    165\u001b[0m         \u001b[0mself\u001b[0m\u001b[0;34m.\u001b[0m\u001b[0mpath\u001b[0m \u001b[0;34m=\u001b[0m \u001b[0mPath\u001b[0m\u001b[0;34m(\u001b[0m\u001b[0mifnone\u001b[0m\u001b[0;34m(\u001b[0m\u001b[0mself\u001b[0m\u001b[0;34m.\u001b[0m\u001b[0mpath\u001b[0m\u001b[0;34m,\u001b[0m \u001b[0mself\u001b[0m\u001b[0;34m.\u001b[0m\u001b[0mdata\u001b[0m\u001b[0;34m.\u001b[0m\u001b[0mpath\u001b[0m\u001b[0;34m)\u001b[0m\u001b[0;34m)\u001b[0m\u001b[0;34m\u001b[0m\u001b[0;34m\u001b[0m\u001b[0m\n\u001b[0;32m--> 166\u001b[0;31m         \u001b[0mself\u001b[0m\u001b[0;34m.\u001b[0m\u001b[0mmodel\u001b[0m \u001b[0;34m=\u001b[0m \u001b[0mself\u001b[0m\u001b[0;34m.\u001b[0m\u001b[0mmodel\u001b[0m\u001b[0;34m.\u001b[0m\u001b[0mto\u001b[0m\u001b[0;34m(\u001b[0m\u001b[0mself\u001b[0m\u001b[0;34m.\u001b[0m\u001b[0mdata\u001b[0m\u001b[0;34m.\u001b[0m\u001b[0mdevice\u001b[0m\u001b[0;34m)\u001b[0m\u001b[0;34m\u001b[0m\u001b[0;34m\u001b[0m\u001b[0m\n\u001b[0m\u001b[1;32m    167\u001b[0m         \u001b[0mself\u001b[0m\u001b[0;34m.\u001b[0m\u001b[0mloss_func\u001b[0m \u001b[0;34m=\u001b[0m \u001b[0mself\u001b[0m\u001b[0;34m.\u001b[0m\u001b[0mloss_func\u001b[0m \u001b[0;32mor\u001b[0m \u001b[0mself\u001b[0m\u001b[0;34m.\u001b[0m\u001b[0mdata\u001b[0m\u001b[0;34m.\u001b[0m\u001b[0mloss_func\u001b[0m\u001b[0;34m\u001b[0m\u001b[0;34m\u001b[0m\u001b[0m\n\u001b[1;32m    168\u001b[0m         \u001b[0mself\u001b[0m\u001b[0;34m.\u001b[0m\u001b[0mmetrics\u001b[0m\u001b[0;34m=\u001b[0m\u001b[0mlistify\u001b[0m\u001b[0;34m(\u001b[0m\u001b[0mself\u001b[0m\u001b[0;34m.\u001b[0m\u001b[0mmetrics\u001b[0m\u001b[0;34m)\u001b[0m\u001b[0;34m\u001b[0m\u001b[0;34m\u001b[0m\u001b[0m\n",
            "\u001b[0;32m/usr/local/lib/python3.7/site-packages/torch/nn/modules/module.py\u001b[0m in \u001b[0;36mto\u001b[0;34m(self, *args, **kwargs)\u001b[0m\n\u001b[1;32m    905\u001b[0m             \u001b[0;32mreturn\u001b[0m \u001b[0mt\u001b[0m\u001b[0;34m.\u001b[0m\u001b[0mto\u001b[0m\u001b[0;34m(\u001b[0m\u001b[0mdevice\u001b[0m\u001b[0;34m,\u001b[0m \u001b[0mdtype\u001b[0m \u001b[0;32mif\u001b[0m \u001b[0mt\u001b[0m\u001b[0;34m.\u001b[0m\u001b[0mis_floating_point\u001b[0m\u001b[0;34m(\u001b[0m\u001b[0;34m)\u001b[0m \u001b[0;32mor\u001b[0m \u001b[0mt\u001b[0m\u001b[0;34m.\u001b[0m\u001b[0mis_complex\u001b[0m\u001b[0;34m(\u001b[0m\u001b[0;34m)\u001b[0m \u001b[0;32melse\u001b[0m \u001b[0;32mNone\u001b[0m\u001b[0;34m,\u001b[0m \u001b[0mnon_blocking\u001b[0m\u001b[0;34m)\u001b[0m\u001b[0;34m\u001b[0m\u001b[0;34m\u001b[0m\u001b[0m\n\u001b[1;32m    906\u001b[0m \u001b[0;34m\u001b[0m\u001b[0m\n\u001b[0;32m--> 907\u001b[0;31m         \u001b[0;32mreturn\u001b[0m \u001b[0mself\u001b[0m\u001b[0;34m.\u001b[0m\u001b[0m_apply\u001b[0m\u001b[0;34m(\u001b[0m\u001b[0mconvert\u001b[0m\u001b[0;34m)\u001b[0m\u001b[0;34m\u001b[0m\u001b[0;34m\u001b[0m\u001b[0m\n\u001b[0m\u001b[1;32m    908\u001b[0m \u001b[0;34m\u001b[0m\u001b[0m\n\u001b[1;32m    909\u001b[0m     def register_backward_hook(\n",
            "\u001b[0;32m/usr/local/lib/python3.7/site-packages/torch/nn/modules/module.py\u001b[0m in \u001b[0;36m_apply\u001b[0;34m(self, fn)\u001b[0m\n\u001b[1;32m    576\u001b[0m     \u001b[0;32mdef\u001b[0m \u001b[0m_apply\u001b[0m\u001b[0;34m(\u001b[0m\u001b[0mself\u001b[0m\u001b[0;34m,\u001b[0m \u001b[0mfn\u001b[0m\u001b[0;34m)\u001b[0m\u001b[0;34m:\u001b[0m\u001b[0;34m\u001b[0m\u001b[0;34m\u001b[0m\u001b[0m\n\u001b[1;32m    577\u001b[0m         \u001b[0;32mfor\u001b[0m \u001b[0mmodule\u001b[0m \u001b[0;32min\u001b[0m \u001b[0mself\u001b[0m\u001b[0;34m.\u001b[0m\u001b[0mchildren\u001b[0m\u001b[0;34m(\u001b[0m\u001b[0;34m)\u001b[0m\u001b[0;34m:\u001b[0m\u001b[0;34m\u001b[0m\u001b[0;34m\u001b[0m\u001b[0m\n\u001b[0;32m--> 578\u001b[0;31m             \u001b[0mmodule\u001b[0m\u001b[0;34m.\u001b[0m\u001b[0m_apply\u001b[0m\u001b[0;34m(\u001b[0m\u001b[0mfn\u001b[0m\u001b[0;34m)\u001b[0m\u001b[0;34m\u001b[0m\u001b[0;34m\u001b[0m\u001b[0m\n\u001b[0m\u001b[1;32m    579\u001b[0m \u001b[0;34m\u001b[0m\u001b[0m\n\u001b[1;32m    580\u001b[0m         \u001b[0;32mdef\u001b[0m \u001b[0mcompute_should_use_set_data\u001b[0m\u001b[0;34m(\u001b[0m\u001b[0mtensor\u001b[0m\u001b[0;34m,\u001b[0m \u001b[0mtensor_applied\u001b[0m\u001b[0;34m)\u001b[0m\u001b[0;34m:\u001b[0m\u001b[0;34m\u001b[0m\u001b[0;34m\u001b[0m\u001b[0m\n",
            "\u001b[0;32m/usr/local/lib/python3.7/site-packages/torch/nn/modules/module.py\u001b[0m in \u001b[0;36m_apply\u001b[0;34m(self, fn)\u001b[0m\n\u001b[1;32m    576\u001b[0m     \u001b[0;32mdef\u001b[0m \u001b[0m_apply\u001b[0m\u001b[0;34m(\u001b[0m\u001b[0mself\u001b[0m\u001b[0;34m,\u001b[0m \u001b[0mfn\u001b[0m\u001b[0;34m)\u001b[0m\u001b[0;34m:\u001b[0m\u001b[0;34m\u001b[0m\u001b[0;34m\u001b[0m\u001b[0m\n\u001b[1;32m    577\u001b[0m         \u001b[0;32mfor\u001b[0m \u001b[0mmodule\u001b[0m \u001b[0;32min\u001b[0m \u001b[0mself\u001b[0m\u001b[0;34m.\u001b[0m\u001b[0mchildren\u001b[0m\u001b[0;34m(\u001b[0m\u001b[0;34m)\u001b[0m\u001b[0;34m:\u001b[0m\u001b[0;34m\u001b[0m\u001b[0;34m\u001b[0m\u001b[0m\n\u001b[0;32m--> 578\u001b[0;31m             \u001b[0mmodule\u001b[0m\u001b[0;34m.\u001b[0m\u001b[0m_apply\u001b[0m\u001b[0;34m(\u001b[0m\u001b[0mfn\u001b[0m\u001b[0;34m)\u001b[0m\u001b[0;34m\u001b[0m\u001b[0;34m\u001b[0m\u001b[0m\n\u001b[0m\u001b[1;32m    579\u001b[0m \u001b[0;34m\u001b[0m\u001b[0m\n\u001b[1;32m    580\u001b[0m         \u001b[0;32mdef\u001b[0m \u001b[0mcompute_should_use_set_data\u001b[0m\u001b[0;34m(\u001b[0m\u001b[0mtensor\u001b[0m\u001b[0;34m,\u001b[0m \u001b[0mtensor_applied\u001b[0m\u001b[0;34m)\u001b[0m\u001b[0;34m:\u001b[0m\u001b[0;34m\u001b[0m\u001b[0;34m\u001b[0m\u001b[0m\n",
            "\u001b[0;32m/usr/local/lib/python3.7/site-packages/torch/nn/modules/module.py\u001b[0m in \u001b[0;36m_apply\u001b[0;34m(self, fn)\u001b[0m\n\u001b[1;32m    576\u001b[0m     \u001b[0;32mdef\u001b[0m \u001b[0m_apply\u001b[0m\u001b[0;34m(\u001b[0m\u001b[0mself\u001b[0m\u001b[0;34m,\u001b[0m \u001b[0mfn\u001b[0m\u001b[0;34m)\u001b[0m\u001b[0;34m:\u001b[0m\u001b[0;34m\u001b[0m\u001b[0;34m\u001b[0m\u001b[0m\n\u001b[1;32m    577\u001b[0m         \u001b[0;32mfor\u001b[0m \u001b[0mmodule\u001b[0m \u001b[0;32min\u001b[0m \u001b[0mself\u001b[0m\u001b[0;34m.\u001b[0m\u001b[0mchildren\u001b[0m\u001b[0;34m(\u001b[0m\u001b[0;34m)\u001b[0m\u001b[0;34m:\u001b[0m\u001b[0;34m\u001b[0m\u001b[0;34m\u001b[0m\u001b[0m\n\u001b[0;32m--> 578\u001b[0;31m             \u001b[0mmodule\u001b[0m\u001b[0;34m.\u001b[0m\u001b[0m_apply\u001b[0m\u001b[0;34m(\u001b[0m\u001b[0mfn\u001b[0m\u001b[0;34m)\u001b[0m\u001b[0;34m\u001b[0m\u001b[0;34m\u001b[0m\u001b[0m\n\u001b[0m\u001b[1;32m    579\u001b[0m \u001b[0;34m\u001b[0m\u001b[0m\n\u001b[1;32m    580\u001b[0m         \u001b[0;32mdef\u001b[0m \u001b[0mcompute_should_use_set_data\u001b[0m\u001b[0;34m(\u001b[0m\u001b[0mtensor\u001b[0m\u001b[0;34m,\u001b[0m \u001b[0mtensor_applied\u001b[0m\u001b[0;34m)\u001b[0m\u001b[0;34m:\u001b[0m\u001b[0;34m\u001b[0m\u001b[0;34m\u001b[0m\u001b[0m\n",
            "\u001b[0;32m/usr/local/lib/python3.7/site-packages/torch/nn/modules/module.py\u001b[0m in \u001b[0;36m_apply\u001b[0;34m(self, fn)\u001b[0m\n\u001b[1;32m    576\u001b[0m     \u001b[0;32mdef\u001b[0m \u001b[0m_apply\u001b[0m\u001b[0;34m(\u001b[0m\u001b[0mself\u001b[0m\u001b[0;34m,\u001b[0m \u001b[0mfn\u001b[0m\u001b[0;34m)\u001b[0m\u001b[0;34m:\u001b[0m\u001b[0;34m\u001b[0m\u001b[0;34m\u001b[0m\u001b[0m\n\u001b[1;32m    577\u001b[0m         \u001b[0;32mfor\u001b[0m \u001b[0mmodule\u001b[0m \u001b[0;32min\u001b[0m \u001b[0mself\u001b[0m\u001b[0;34m.\u001b[0m\u001b[0mchildren\u001b[0m\u001b[0;34m(\u001b[0m\u001b[0;34m)\u001b[0m\u001b[0;34m:\u001b[0m\u001b[0;34m\u001b[0m\u001b[0;34m\u001b[0m\u001b[0m\n\u001b[0;32m--> 578\u001b[0;31m             \u001b[0mmodule\u001b[0m\u001b[0;34m.\u001b[0m\u001b[0m_apply\u001b[0m\u001b[0;34m(\u001b[0m\u001b[0mfn\u001b[0m\u001b[0;34m)\u001b[0m\u001b[0;34m\u001b[0m\u001b[0;34m\u001b[0m\u001b[0m\n\u001b[0m\u001b[1;32m    579\u001b[0m \u001b[0;34m\u001b[0m\u001b[0m\n\u001b[1;32m    580\u001b[0m         \u001b[0;32mdef\u001b[0m \u001b[0mcompute_should_use_set_data\u001b[0m\u001b[0;34m(\u001b[0m\u001b[0mtensor\u001b[0m\u001b[0;34m,\u001b[0m \u001b[0mtensor_applied\u001b[0m\u001b[0;34m)\u001b[0m\u001b[0;34m:\u001b[0m\u001b[0;34m\u001b[0m\u001b[0;34m\u001b[0m\u001b[0m\n",
            "\u001b[0;32m/usr/local/lib/python3.7/site-packages/torch/nn/modules/rnn.py\u001b[0m in \u001b[0;36m_apply\u001b[0;34m(self, fn)\u001b[0m\n\u001b[1;32m    185\u001b[0m         \u001b[0;31m# Note: be v. careful before removing this, as 3rd party device types\u001b[0m\u001b[0;34m\u001b[0m\u001b[0;34m\u001b[0m\u001b[0;34m\u001b[0m\u001b[0m\n\u001b[1;32m    186\u001b[0m         \u001b[0;31m# likely rely on this behavior to properly .to() modules like LSTM.\u001b[0m\u001b[0;34m\u001b[0m\u001b[0;34m\u001b[0m\u001b[0;34m\u001b[0m\u001b[0m\n\u001b[0;32m--> 187\u001b[0;31m         \u001b[0mself\u001b[0m\u001b[0;34m.\u001b[0m\u001b[0m_flat_weights\u001b[0m \u001b[0;34m=\u001b[0m \u001b[0;34m[\u001b[0m\u001b[0;34m(\u001b[0m\u001b[0;32mlambda\u001b[0m \u001b[0mwn\u001b[0m\u001b[0;34m:\u001b[0m \u001b[0mgetattr\u001b[0m\u001b[0;34m(\u001b[0m\u001b[0mself\u001b[0m\u001b[0;34m,\u001b[0m \u001b[0mwn\u001b[0m\u001b[0;34m)\u001b[0m \u001b[0;32mif\u001b[0m \u001b[0mhasattr\u001b[0m\u001b[0;34m(\u001b[0m\u001b[0mself\u001b[0m\u001b[0;34m,\u001b[0m \u001b[0mwn\u001b[0m\u001b[0;34m)\u001b[0m \u001b[0;32melse\u001b[0m \u001b[0;32mNone\u001b[0m\u001b[0;34m)\u001b[0m\u001b[0;34m(\u001b[0m\u001b[0mwn\u001b[0m\u001b[0;34m)\u001b[0m \u001b[0;32mfor\u001b[0m \u001b[0mwn\u001b[0m \u001b[0;32min\u001b[0m \u001b[0mself\u001b[0m\u001b[0;34m.\u001b[0m\u001b[0m_flat_weights_names\u001b[0m\u001b[0;34m]\u001b[0m\u001b[0;34m\u001b[0m\u001b[0;34m\u001b[0m\u001b[0m\n\u001b[0m\u001b[1;32m    188\u001b[0m         \u001b[0;31m# Flattens params (on CUDA)\u001b[0m\u001b[0;34m\u001b[0m\u001b[0;34m\u001b[0m\u001b[0;34m\u001b[0m\u001b[0m\n\u001b[1;32m    189\u001b[0m         \u001b[0mself\u001b[0m\u001b[0;34m.\u001b[0m\u001b[0mflatten_parameters\u001b[0m\u001b[0;34m(\u001b[0m\u001b[0;34m)\u001b[0m\u001b[0;34m\u001b[0m\u001b[0;34m\u001b[0m\u001b[0m\n",
            "\u001b[0;32m/usr/local/lib/python3.7/site-packages/torch/nn/modules/module.py\u001b[0m in \u001b[0;36m__getattr__\u001b[0;34m(self, name)\u001b[0m\n\u001b[1;32m   1184\u001b[0m                 \u001b[0;32mreturn\u001b[0m \u001b[0mmodules\u001b[0m\u001b[0;34m[\u001b[0m\u001b[0mname\u001b[0m\u001b[0;34m]\u001b[0m\u001b[0;34m\u001b[0m\u001b[0;34m\u001b[0m\u001b[0m\n\u001b[1;32m   1185\u001b[0m         raise AttributeError(\"'{}' object has no attribute '{}'\".format(\n\u001b[0;32m-> 1186\u001b[0;31m             type(self).__name__, name))\n\u001b[0m\u001b[1;32m   1187\u001b[0m \u001b[0;34m\u001b[0m\u001b[0m\n\u001b[1;32m   1188\u001b[0m     \u001b[0;32mdef\u001b[0m \u001b[0m__setattr__\u001b[0m\u001b[0;34m(\u001b[0m\u001b[0mself\u001b[0m\u001b[0;34m,\u001b[0m \u001b[0mname\u001b[0m\u001b[0;34m:\u001b[0m \u001b[0mstr\u001b[0m\u001b[0;34m,\u001b[0m \u001b[0mvalue\u001b[0m\u001b[0;34m:\u001b[0m \u001b[0mUnion\u001b[0m\u001b[0;34m[\u001b[0m\u001b[0mTensor\u001b[0m\u001b[0;34m,\u001b[0m \u001b[0;34m'Module'\u001b[0m\u001b[0;34m]\u001b[0m\u001b[0;34m)\u001b[0m \u001b[0;34m->\u001b[0m \u001b[0;32mNone\u001b[0m\u001b[0;34m:\u001b[0m\u001b[0;34m\u001b[0m\u001b[0;34m\u001b[0m\u001b[0m\n",
            "\u001b[0;31mAttributeError\u001b[0m: 'LSTM' object has no attribute '_flat_weights_names'"
          ]
        }
      ]
    }
  ]
}