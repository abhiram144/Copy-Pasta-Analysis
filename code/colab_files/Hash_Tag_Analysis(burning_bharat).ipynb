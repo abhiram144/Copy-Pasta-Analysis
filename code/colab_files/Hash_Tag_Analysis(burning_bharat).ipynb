{
  "nbformat": 4,
  "nbformat_minor": 0,
  "metadata": {
    "colab": {
      "name": "Hash_Tag_Analysis(burning_bharat).ipynb",
      "provenance": [],
      "collapsed_sections": [
        "8gw0qiuvpqk-",
        "bVxSSDst3Gzy",
        "e9hrnrmy79zc",
        "n0G6SLAoR34M",
        "Ms635RiRTE9n",
        "_ZPYwQ5zS7dZ",
        "GBy7PAoebodc",
        "DM4dXdqZMYB2"
      ],
      "machine_shape": "hm"
    },
    "kernelspec": {
      "name": "python3",
      "display_name": "Python 3"
    },
    "language_info": {
      "name": "python"
    },
    "accelerator": "GPU"
  },
  "cells": [
    {
      "cell_type": "markdown",
      "source": [
        "## IMPORT STATEMENTS"
      ],
      "metadata": {
        "id": "YvZ5g5sN23JF"
      }
    },
    {
      "cell_type": "code",
      "execution_count": 516,
      "metadata": {
        "colab": {
          "base_uri": "https://localhost:8080/"
        },
        "id": "zRrGgLCM2cMK",
        "outputId": "299ed61e-818a-4a71-ec02-3e7ffe409a6f"
      },
      "outputs": [
        {
          "output_type": "stream",
          "name": "stdout",
          "text": [
            "[nltk_data] Downloading package stopwords to /root/nltk_data...\n",
            "[nltk_data]   Package stopwords is already up-to-date!\n",
            "[nltk_data] Downloading package punkt to /root/nltk_data...\n",
            "[nltk_data]   Package punkt is already up-to-date!\n",
            "[nltk_data] Downloading package wordnet to /root/nltk_data...\n",
            "[nltk_data]   Package wordnet is already up-to-date!\n",
            "[nltk_data] Downloading package omw-1.4 to /root/nltk_data...\n",
            "[nltk_data]   Package omw-1.4 is already up-to-date!\n"
          ]
        },
        {
          "output_type": "execute_result",
          "data": {
            "text/plain": [
              "True"
            ]
          },
          "metadata": {},
          "execution_count": 516
        }
      ],
      "source": [
        "import pandas as pd\n",
        "import numpy as np\n",
        "import nltk\n",
        "import re \n",
        "import os\n",
        "from nltk.corpus import stopwords\n",
        "from nltk.tokenize import TweetTokenizer\n",
        "from nltk.stem import LancasterStemmer\n",
        "from collections import defaultdict\n",
        "import pickle\n",
        "# import tensorflow.compat.v1.keras.backend as K\n",
        "import tensorflow as tf\n",
        "# tf.compat.v1.disable_eager_execution()\n",
        "import tensorflow_hub as hub\n",
        "import numpy as np\n",
        "from scipy.spatial.distance import cosine\n",
        "from itertools import chain\n",
        "nltk.download('stopwords')\n",
        "nltk.download('punkt')\n",
        "nltk.download('wordnet')\n",
        "nltk.download('omw-1.4')"
      ]
    },
    {
      "cell_type": "markdown",
      "source": [
        "## STOP WORDS INITIALIZATION"
      ],
      "metadata": {
        "id": "bVxSSDst3Gzy"
      }
    },
    {
      "cell_type": "code",
      "source": [
        "stop_words = set()\n",
        "languages = ['english','hindi']\n",
        "for lang in languages:\n",
        "    with open(lang+\".txt\",'r') as f:\n",
        "        lines = f.readlines()\n",
        "        for line in lines:\n",
        "            line = line.rstrip()\n",
        "            stop_words.add(line)\n",
        "\n",
        "print(stop_words)"
      ],
      "metadata": {
        "colab": {
          "base_uri": "https://localhost:8080/"
        },
        "id": "6tchbpQ93J7G",
        "outputId": "4b149270-bf0a-488a-b772-5a475f20e1f8"
      },
      "execution_count": 517,
      "outputs": [
        {
          "output_type": "stream",
          "name": "stdout",
          "text": [
            "{'become', 'four', 'hers', 'abroad', 'वे', 'act', 'haven', 'somehow', 'way', 'apparently', 'pm', 'nos', 'doing', 'readily', 'kz', 'ao', 'approximately', 'ml', 'पे', 'into', 'tn', 'eg', \"we'll\", 'faces', 'opening', 'thatve', 'thered', 'hardly', 'इन्हें', 'backward', 'front', 'members', \"can't\", 'pmid', 'घर', 'msie', 'opened', 'her', 'गया', 'जब', 'संग', 'corresponding', 'wants', 'text', 'says', 'tg', 'welcome', 'across', 'long', 'various', 'hk', 'rooms', 'इसके', 'successfully', 'strongly', 'they', 'किसे', 'thinks', 'somewhere', 'सकते', 'es', 'unlike', 'za', 'thereve', 'aint', 'lately', 'cd', 'sm', 'fewer', 'td', 'hereupon', 'computer', 'downed', 'state', 'necessarily', \"c's\", 'mv', 'where', 'need', 'uz', 'hundred', 'yours', 'described', 'two', \"hasn't\", 'meanwhile', 'farther', 'h', 'k', 'myse”', \"who's\", 'w', 'pp', 'कुल', 'mrs', 'anything', 'small', 'there', 'please', 'half', 'is', 'selves', 'evermore', 'mq', 'जिन', 'pages', 'proud', 'होती', 'इसकी', 'far', 'उसके', 'yourself', 'o', 'si', 'third', 'shell', 'ci', 'furthers', 'एस', 'pa', 't', 'affects', 'उनके', 'beside', 'viz', 'hed', 'beginnings', 'itse”', 'होना', 'हुआ', 'ck', 'non', 'webpage', 'से', 'sh', 'higher', 'causes', 'next', 'towards', 'पर', 'my', 'plus', 'shes', 'करने', 'wells', 'weve', 'taken', 'wont', 'nor', 'puts', 'ने', 'thus', 'shed', 'tip', 'anymore', 'kept', 'un', 'whatll', 'tell', 'कितना', 'etc', 'करता', 'ag', 'were', 'thereafter', 'youll', 'edu', 'जिसे', 'thereof', 'sec', 'l', 'nc', 'namely', 'sz', 'इसका', 'साथ', 'md', 'sj', \"must've\", 'लिए', 'aq', 'vn', 'pointing', 'जो', 'serious', 'theyve', 'whomever', 'भीतर', 'theyre', 'ke', 'being', 'thence', 'right', 'for', 'likewise', 'lb', 'ought', 'रहे', 'कौन', 'insofar', 'mz', 'aside', 'to', 'if', 'specifically', 'gr', \"we're\", 'साभ', 'que', 'vols', 'million', 'specify', 'needs', \"one's\", 'बही', 'mustnt', 'rather', 'करते', 'large', 'given', 'an', 'cmon', \"might've\", 'wheres', 'eighty', 're', 'evenly', 'getting', 'very', 'whereupon', 'primarily', 'whom', 'mc', 'seriously', 'so', 'बाला', 'तिन्हों', 'somebody', 'this', 'v', 'know', 'इसे', 'everyone', 'means', 'new', 'kw', 'sensible', 'neither', 'uses', 'though', 'presented', \"would've\", 'थी', 'according', 'no-one', 'm', 'रखें', 'noone', 'g', 'problems', \"shan't\", 'ug', 'man', 'nr', \"that've\", 'whereby', 'anybody', 'net', 'mt', 'ltd', 'either', 'detail', 'our', 'anyone', 'not', 'bo', 'इसमें', 'thousand', 'nz', 'afterwards', 'points', \"weren't\", 'but', 'होने', 'alongside', 'एक', 'truly', 'throug', 'numbers', 'entirely', 'seven', 'zr', 'number', \"'ve\", 'amongst', 'lu', 'keys', \"won't\", 'willing', 'oldest', 'youre', 'amount', 'resulting', 'eight', 'beginning', \"how's\", 'awfully', 'once', 's', 'problem', 'consider', 'जिस', 'website', 'theyd', 'fire', 'slightly', 'qv', 'presumably', 'liked', 'everywhere', 'exactly', 'biol', 'wherever', 'रहा', 'nd', \"ain't\", 'fifty', 'move', 'becoming', 'तिन', 'make', 'never', 'sg', 'yt', 'point', \"she's\", 'containing', 'everybody', 'ten', \"c'mon\", 'changes', 'तिस', 'gov', \"it'll\", 'ki', 'newer', 'whether', \"what'll\", 'parted', 'hell', 'microsoft', 'ae', 'might', 'downs', 'suggest', 'a', 'hu', 'related', 'placed', 'keep', 'between', 'former', 'the', 'present', 'home', 'how', 'dk', 'cf', 'whence', 'मगर', 'हो', 'significantly', 'fm', 'resulted', 'area', 'किन्हों', 'world', 'needed', 'look', 'rw', \"you've\", \"i'm\", \"i've\", 'upon', 'sv', 'twas', 'उन', 'after', 'toward', 'don', 'needing', 'seemed', 'wholl', 'results', 'bg', 'hasn', 'wherein', 'early', 'gn', 'की', 'unto', 'pn', 'see', 'every', 'previously', 'used', 'द्वारा', \"that'll\", 'sees', 'has', 'li', 'बिलकुल', \"he'd\", 'smallest', 'nobody', 'specifying', 'therein', 'twice', 'high', 'finds', 'old', 'him', 'दो', \"why's\", 'सारा', 'help', 'amid', 'www', 'gb', \"we've\", 'first', 'possible', 'mainly', 'pf', 'vi', 'इन्हों', 'sr', 'affected', 'differently', 'as', 'r', \"wasn't\", 'all', 'course', 'kind', 'इस', 'उसी', 'b', 'tr', 'y', 'ran', 'anyhow', 'cause', 'ba', 'kr', 'mightnt', 'twelve', 'thatll', 'part', 'dont', 'sent', \"mightn't\", 'saying', 'useful', 'cv', \"how'll\", 'presents', \"who'll\", 'अपने', 'sc', 'dj', 'ro', 'backwards', 'meantime', 'जहाँ', 'का', 'further', 'whereafter', 'less', 'over', 'किया', 'else', 'poorly', 'bm', 'cannot', 'bw', 'beforehand', 'pw', 'also', 'billion', 'dz', 'कहते', 'दूसरे', 'ऱ्वासा', \"isn't\", 'nu', 'such', 'tj', 'ni', 'yourselves', 'fill', 'tm', 'gl', 'gd', 'abst', 'ff', 'hn', 'tv', 'किन्हें', 'buy', 'thin', \"didn't\", 'sy', 'seem', 'comes', 'yes', 'via', 'will', 'when', 'whats', 'er', 'जितना', 'gets', 'his', 'wf', 'com', 'regarding', 'भी', 'web', 'il', 'lower', 'उसे', 'me', \"when's\", 'sa', 'gi', 'away', 'darent', 'hid', 'round', 'उन्हों', 'fully', 'highest', 'nothing', 'took', 'making', 'shall', 'smaller', \"what's\", 'affecting', 'न', 'gave', 'hi', 'actually', 'usefully', 'जिन्हों', \"he's\", 'fify', 'सभी', 'appear', 'cant', 'null', 'vu', \"you'd\", 'without', \"how'd\", 'ge', 'out', 'al', 'themselves', 'kh', 'from', \"mustn't\", 'contain', 'must', \"they're\", \"i'd\", 'st', 'got', 'parting', 'recent', 'neverless', 'seeing', 'hasnt', 'aren', \"it's\", 'stop', 'ask', 'areas', 'isnt', 'inside', 'test', 'won', 'whose', 'wanted', 'notwithstanding', 'turn', 'inner', 'zm', 'on', \"hadn't\", 'shouldnt', 'gives', 'isn', 'greetings', 'follows', 'bf', 'considering', 'backed', 'unlikely', 'having', 'doesn', 'sk', 'well', 'वग़ैरह', 'underneath', 'लिये', 'inward', 'down', 'little', 'ne', 'itd', 'felt', 'ourselves', 'five', 'org', 'besides', \"should've\", 'big', 'briefly', 'important', 'put', \"here's\", 'till', 'lc', 'probably', 'overall', 'taking', 'tz', 'allow', 'दबारा', 'thereupon', 'ly', 'बहुत', 'co', 'provided', \"what've\", 'followed', 'youve', 'did', 'asking', 'recently', 'name', 'empty', 'su', 'parts', 'n', 'cr', 'na', 'havent', 'order', 'im', 'thats', 'furthermore', 'rd', 'undoing', 'ex', 'neednt', 'sl', 'makes', 'mp', 'ms', 'अभी', 'indicated', 'been', \"you're\", 'back', 'run', 'states', 'research', 'pointed', 'ये', 'begins', 'नहीं', 'using', 'system', 'find', 'although', 'example', 'had', 'obtained', 'still', 'wasnt', 'gu', 'ending', 'mil', 'let', 'fi', 'lr', 'dm', 'interested', 'among', 'vg', 'beyond', 'ed', 'vs', 'case', 'hr', 'nevertheless', 'show', 'dare', 'kp', 'tis', 'until', 'ec', \"he'll\", 'myself', 'ch', 'arise', 'your', 'oughtnt', 'greatest', 'x', 'inasmuch', 'few', 'younger', 'thorough', 'should', 'index', 'working', 'u', 'wonder', 'nearly', 'ups', 'q', \"there's\", \"oughtn't\", 'indeed', 'didnt', 'it', \"where's\", 'nine', 'before', 'behind', 'gg', 'ga', 'id', 'll', 'things', 'ad', 'goods', 'करना', 'dear', 'join', 'htm', 'take', 'reasonably', 'any', 'years', 'done', 'throughout', 'ie', 'kg', 'tp', 'दुसरा', 'vol', 'herein', 'pr', 'जीधर', 'gw', 'added', \"there've\", 'specified', 'को', 'lest', 'pg', 'noted', 'i', 'said', 'under', 'ky', 'describe', 'newest', 'outside', 'year', 'showed', \"haven't\", 'sometimes', 'associated', 'due', 'उस', 'उनका', 'thanks', 'go', \"that's\", 'different', 'ill', \"they've\", 'pl', 'contains', 'tc', 'others', 'इन्हीं', 'furthering', 'lk', 'do', 'bn', 'several', 'does', 'mean', 'low', 'gmt', 'least', 'consequently', 'moreover', 'directly', 'may', 'cx', 'certainly', 'clearly', 'its', 'फिर', 'them', 'widely', 'grouped', 'saw', 'many', 'sometime', 'respectively', 'effect', 'काफ़ी', 'yet', 'general', 'goes', 'second', 'later', 'tt', 'usefulness', 'बनी', 'mo', 'didn', 'shant', 'that', 'inc.', 'three', 'another', 'hes', 'cn', \"she'd\", 'especially', 'again', 'et', 'whenever', 'particularly', 'gm', 'announce', 'ordered', 'homepage', 'during', 'वहाँ', 'ref', 'great', 'interesting', 'sb', 'couldnt', 'wish', 'looking', 'बाद', 'उनकी', 'facts', 'value', 'कि', 'similarly', 'seconds', 'thirty', 'va', 'कौनसा', 'always', 'formerly', 'werent', 'इन', 'places', 'अंदर', 'face', 'anywhere', 'अपना', 'what', 'sixty', 'ended', 'men', 'us', 'older', 'open', 'possibly', 'fk', 'um', 'be', 'however', 'otherwise', 'fact', 'about', 'itself', 'cm', 'किर', 'tk', 'knew', 'self', \"let's\", 'here', 'mostly', 'wouldn', 'could', 'उनको', 'weren', 'यहाँ', 'say', 'ignored', 'none', 'latter', 'some', 'तब', 'ee', 'nf', 'substantially', 'उन्हें', 'br', 'believe', 'herself', 'last', 'looks', 'th', 'give', \"you'll\", 'around', 'versus', 'eh', 'whither', 'az', 'vc', 'omitted', 'soon', 'thank', 'cg', 'cs', 'j', 'currently', 'या', \"they'd\", 'दिया', 'call', 'certain', 'jp', 'importance', 'full', 'yu', 'ना', 'sub', 'onto', 'om', 'almost', 've', 'sure', 'bottom', \"they'll\", 'au', 'तो', 'तरह', 'howbeit', 'sincere', 'pt', \"couldn't\", 'et-al', 'जिन्हें', \"'twas\", 'lv', 'immediately', 'je', 'latest', 'keeps', 'through', 'amidst', \"why'll\", 'necessary', 'जैसे', 'apart', 'who', 'अत', 'कर', \"when'll\", 'gotten', 'पूरा', 'by', 'youd', 'longer', 'somethan', 'इसी', 'available', 'room', 'information', 'copy', 'se', 'became', 'concerning', 'something', 'definitely', 'tries', 'whichever', \"what'd\", \"where'd\", 'ir', 'grouping', 'miss', 'appropriate', 'hereafter', 'thoughh', 'wasn', 'ever', 'mx', 'करें', \"why'd\", 'ones', 'है', 'owing', 'तक', 'begin', 'have', 'और', 'clear', 'get', 'no', 'shown', 'ord', 'think', 'theyll', 'usually', 'are', 'sorry', 'date', 'asks', 'allows', 'qa', 'ok', 'seventy', 'whatve', 'place', 'lets', 'forty', 'iq', 'twenty', 'bs', 'z', 'netscape', 'whim', 'same', 'side', 'यदि', 'uy', 'whos', 'fairly', 'bv', \"who'd\", 'bh', 'maynt', 'hence', 'forever', 'व', 'e', 'going', 'orders', 'arpa', 'herse”', 'सो', 'more', 'kn', 'lt', 'anyways', 'found', 'mn', 'backs', 'opens', 'regards', 'am', 'beings', 'मानो', 'immediate', 'कुछ', 'gp', 'despite', 'ring', 'इनका', 'can', 'itll', 'html', 'best', 'come', 'indicate', 'hello', 'निहायत', 'line', 'both', \"we'd\", 'began', 'cc', 'thoughts', \"wouldn't\", 'सकता', \"when'd\", 'each', 'she', 'यिह', 'which', 'invention', 'nonetheless', 'made', \"could've\", 'accordance', 'site', 'नके', 'fix', 'हुई', 'why', 'minus', 'sup', 'लेकिन', 'ng', 'sd', 'doubtful', 'you', 'ma', 'regardless', 'तिसे', 'mine', 'opposite', 'even', 'किसी', 'seems', 'unless', 'page', 'in', 'near', 'la', 'therell', \"where'll\", 'हुए', 'arent', 'with', 'bj', 'cu', 'therere', 'enough', 'forward', 'http', 'secondly', 'giving', 'brief', 'happens', 'de', 'nay', \"shouldn't\", 'click', 'gq', 'मे', 'में', 'similar', 'caption', 'along', 'elsewhere', 'uucp', 'normally', 'latterly', 'ive', 'than', 'जा', 'following', 'often', 'six', 'okay', 'most', 'वुह', 'hm', 'whod', 'whole', 'nowhere', 'sn', 'below', 'better', 'fr', 'everything', 'किस', \"there're\", 'at', 'somewhat', 'predominantly', 'tf', 'thanx', 'thru', 'youngest', 'कहा', 'hadnt', 'whoever', 'one', 'instead', 'since', 'worked', '39', 'con', 'backing', 'mm', 'obtain', 'til', 'against', 'ca', 'and', 'quite', 'particular', 'mk', 'hopefully', 'except', 'hereby', 'cz', 'था', 'able', 'just', 'asked', 'relatively', 'adopted', 'fifth', 'thick', 'words', 'showns', 'np', 'wouldnt', '10', 'shows', 'ph', 'ninety', 'gh', \"'ll\", 'too', \"a's\", 'upwards', 'जैसा', 'के', 'cy', 'someday', 'होता', 'generally', 'mg', 'jo', 'km', 'whilst', 'ways', 'ye', 'eleven', 'therefore', 'ts', 'ordering', 'work', 'showing', 'adj', 'seen', 'ru', 'perhaps', 'unfortunately', 'merely', 'whatever', 'went', 'हैं', 'सबसे', 'turns', \"she'll\", 'he', 'वर्ग', 'zero', 'of', 'young', 'top', 'group', 'within', 'nl', 'inc', 'ua', 'thereby', 'past', 'or', 'ableabout', 'mr', 'try', \"needn't\", 'interests', 'other', 'member', 'trillion', 'oh', 'likely', 'ws', 'sufficiently', 'py', 'width', 'reserved', 'd', 'while', 'their', 'आदि', 'bt', 'own', 'bi', 'तिन्हें', 'ऐसे', 'mug', 'theirs', 'gone', 'ago', 'यह', 'cl', \"i'll\", 'then', \"there'd\", 'ar', 'refs', 'कई', 'bb', 'theres', 'पहले', 'वह', 'tw', 'fo', 'want', 'much', 'int', 'off', 'promptly', 'novel', 'maybe', 'downing', 'thereto', 'quickly', 'c', 'largely', 'thoroughly', 'mill', 'section', 'alone', 'fj', 'significant', 'ls', 'wed', 'presenting', 'end', 'एवं', 'bd', 'pk', \"t's\", 'आप', 'pe', 'together', 'gs', 'greater', \"it'd\", 'seeming', 'today', 'jm', 'यही', 'provides', 'knows', 'interest', 'ht', 'अपनी', 'amoungst', 'वहीं', 'वाले', 'turning', 'mu', 'cases', 'differ', 'neverf', 'sides', 'thing', 'anyway', 'we', 'fifteen', 'hither', \"there'll\", 'aw', 'thou', 'indicates', \"daren't\", 'thought', 'himse”', 'doesnt', 'downwards', 'up', 'only', 'mw', 'forth', 'turned', 'थे', 'free', 'uk', 'ah', 'auth', 'those', 'couldn', 'i.e.', \"mayn't\", 'shouldn', 'ही', 'ours', 'works', 'because', 'per', 'like', \"doesn't\", 'becomes', 'was', 'now', 'heres', 'gf', 'af', 'नीचे', 'length', \"'tis\", 'trying', 'known', 'bill', 'साबुत', 'io', 'appreciate', 'these', 'ends', 'f', 'furthered', 'accordingly', 'उन्हीं', 'ii', 'really', 'cry', \"aren't\", 'fx', 'obviously', 'gt', 'someone', 'gy', 'above', 'p', 'bz', 'would', 'whereas', 'use', 'mh', 'co.', 'wanting', 'tried', 'potentially', 'came', \"don't\", 'groups', 'already', 'longest', 'himself', 'ai', 'कोई', 'ahead', 'good', 'होते', 'इत्यादि', 'tends'}\n"
          ]
        }
      ]
    },
    {
      "cell_type": "markdown",
      "source": [
        "## BASEWORDS INITILIAZATION"
      ],
      "metadata": {
        "id": "i2117gERrvJh"
      }
    },
    {
      "cell_type": "code",
      "source": [
        "base_tweet = list()\n",
        "base_tweet.append(\"The future of India, i.e. its students, were made targets by the incompetent BJP Govt. last night as they used police force to tackle students who were peacefully protesting against the injustice by the Govt.\")\n",
        "# base_tweet.append(\"Pushing forward India's historical ethos of giving refuge to the persecuted, Modi Govt passed the Citizenship Amendment Bill. Persecuted refugees from Pakistan, Afghanistan, and Bangladesh will be given Indian citizenship. #IndiaSupportsCAA\")\n",
        "# base_tweet.append(\"#IndiaSupportsCAA Citizenship Amendment Bill does justice to those who were denied justice for decades! It gives rights to the disempowered &amp; does not affect the rights of Indian citizens at all\")\n",
        "print(base_tweet[0])"
      ],
      "metadata": {
        "colab": {
          "base_uri": "https://localhost:8080/"
        },
        "id": "LUdHD2R8r07p",
        "outputId": "c162d242-a934-40ae-8a59-7d31aa18e22d"
      },
      "execution_count": 518,
      "outputs": [
        {
          "output_type": "stream",
          "name": "stdout",
          "text": [
            "The future of India, i.e. its students, were made targets by the incompetent BJP Govt. last night as they used police force to tackle students who were peacefully protesting against the injustice by the Govt.\n"
          ]
        }
      ]
    },
    {
      "cell_type": "markdown",
      "source": [
        "## DATA PREPROCESSING"
      ],
      "metadata": {
        "id": "e9hrnrmy79zc"
      }
    },
    {
      "cell_type": "code",
      "source": [
        "def data_cleaning(tweet_array,tweet_id,length):\n",
        "  # using nltk twitter tokenizer\n",
        "    lemmatizer = nltk.stem.WordNetLemmatizer()\n",
        "    lancaster=LancasterStemmer()\n",
        "    processed_review=[]\n",
        "    mapping = dict()\n",
        "    single_review = \"\"\n",
        "    for index in range(0,length):\n",
        "        single_review = tweet_array[index]\n",
        "        # remove html tags\n",
        "        single_review = re.sub('<.*?>',' ',single_review)\n",
        "        # remove single characters\n",
        "        single_review = re.sub('\\s+[a-zA-Z]\\s+',' ', single_review)\n",
        "        # remove multiple spaces \n",
        "        single_review = re.sub('\\s+',' ', single_review)\n",
        "        # use twitter tokenizer\n",
        "        tk = TweetTokenizer()\n",
        "        word_tokens = tk.tokenize(single_review)\n",
        "        lemmatized_sentence = \" \".join(lemmatizer.lemmatize(token) for token in word_tokens if token not in stop_words)\n",
        "        processed_review.append(lemmatized_sentence)\n",
        "        mapping[tweet_id[index]]=single_review\n",
        "\n",
        "    \n",
        "    return processed_review, mapping"
      ],
      "metadata": {
        "id": "idWFH7t__R6M"
      },
      "execution_count": 519,
      "outputs": []
    },
    {
      "cell_type": "code",
      "source": [
        "# This function takes tweets as input and preprocess it consider tweet id\n",
        "def data_preprocessing(df):\n",
        "  # finding different languages and considering only english and hindi\n",
        "  print(\"unique languages are\",df.language.unique())\n",
        "  en_df = df.loc[df['language']=='en']\n",
        "  hi_df = df.loc[df['language']=='hi']\n",
        "  print(\"english tweets shape is\",en_df.shape)\n",
        "  print(\"hindi tweets shape is\",hi_df.shape)\n",
        "  english_content = np.array(en_df.content)\n",
        "  hindi_content = np.array(hi_df.content)\n",
        "  english_tweet_id = np.array(en_df.tweet_id)\n",
        "  hindi_tweet_id = np.array(hi_df.tweet_id)\n",
        "  length1 = en_df.shape[0]\n",
        "  length2 = hi_df.shape[0]\n",
        "  english_tweets, en_id_content = data_cleaning(english_content,english_tweet_id, length1)\n",
        "  hindi_tweets, hi_id_content  = data_cleaning(hindi_content,hindi_tweet_id,length2)\n",
        "  return english_tweets, hindi_tweets, en_id_content, hi_id_content\n"
      ],
      "metadata": {
        "id": "uLVor0ge79Ud"
      },
      "execution_count": 520,
      "outputs": []
    },
    {
      "cell_type": "code",
      "source": [
        "india_propaganda = 'https://raw.githubusercontent.com/abhiram144/Copy-Pasta-Analysis/main/hash_tag_csv/BJPBurningBharat.csv'\n",
        "df = pd.read_csv(india_propaganda)\n",
        "english_tweets, hindi_tweets, en_mapping, hi_mapping = data_preprocessing(df)"
      ],
      "metadata": {
        "colab": {
          "base_uri": "https://localhost:8080/"
        },
        "id": "6aRCBHZ4-Q7z",
        "outputId": "ea32a68d-c608-46b4-d4b7-c50f99878f90"
      },
      "execution_count": 521,
      "outputs": [
        {
          "output_type": "stream",
          "name": "stdout",
          "text": [
            "unique languages are ['und' 'en' 'in' 'hi' 'ta' 'te' 'ca' 'tl' 'da' 'et' 'fr' 'ml' 'ht' 'ne'\n",
            " 'bn' 'mr' 'it' 'kn' 'es' 'tr' 'gu' 'is' 'sl' 'nl' 'pt' 'fi' 'lv' 'eu'\n",
            " 'ur' 'ro']\n",
            "english tweets shape is (2944, 9)\n",
            "hindi tweets shape is (1513, 9)\n"
          ]
        }
      ]
    },
    {
      "cell_type": "code",
      "source": [
        "print(len(en_mapping))"
      ],
      "metadata": {
        "colab": {
          "base_uri": "https://localhost:8080/"
        },
        "id": "yYNsjE7UnlIy",
        "outputId": "07d9e6af-0a87-416a-b49f-9ba4def67a32"
      },
      "execution_count": 522,
      "outputs": [
        {
          "output_type": "stream",
          "name": "stdout",
          "text": [
            "2944\n"
          ]
        }
      ]
    },
    {
      "cell_type": "code",
      "source": [
        "preprocessed_tweets = list()\n",
        "t, id = data_cleaning(base_tweet,[1],len(base_tweet))\n",
        "print(t)"
      ],
      "metadata": {
        "colab": {
          "base_uri": "https://localhost:8080/"
        },
        "id": "IzLUM5AQ5ynx",
        "outputId": "21a6efc7-2630-4099-b836-7720238ef1a7"
      },
      "execution_count": 523,
      "outputs": [
        {
          "output_type": "stream",
          "name": "stdout",
          "text": [
            "['The future India , . . student , target incompetent BJP Govt . night police force tackle student peacefully protesting injustice Govt .']\n"
          ]
        }
      ]
    },
    {
      "cell_type": "code",
      "source": [
        "print(id)"
      ],
      "metadata": {
        "colab": {
          "base_uri": "https://localhost:8080/"
        },
        "id": "lVsqS0pWoBeM",
        "outputId": "aad20c4b-beea-4aa2-c85f-d21d2d760024"
      },
      "execution_count": 524,
      "outputs": [
        {
          "output_type": "stream",
          "name": "stdout",
          "text": [
            "{1: 'The future of India, i.e. its students, were made targets by the incompetent BJP Govt. last night as they used police force to tackle students who were peacefully protesting against the injustice by the Govt.'}\n"
          ]
        }
      ]
    },
    {
      "cell_type": "markdown",
      "source": [
        "## USER DATA LOADING"
      ],
      "metadata": {
        "id": "htQZArCWjLfU"
      }
    },
    {
      "cell_type": "code",
      "source": [
        "party_url = 'https://raw.githubusercontent.com/abhiram144/Copy-Pasta-Analysis/main/user_tweets/user_data.csv'\n",
        "df_party_names = pd.read_csv(party_url)\n",
        "user_details_url = 'https://raw.githubusercontent.com/abhiram144/Copy-Pasta-Analysis/main/user_tweets/user_details.csv'\n",
        "df_user_data = pd.read_csv(user_details_url)"
      ],
      "metadata": {
        "id": "R5mNPa7IjJzz"
      },
      "execution_count": 525,
      "outputs": []
    },
    {
      "cell_type": "code",
      "source": [
        "df_party_names.head()"
      ],
      "metadata": {
        "colab": {
          "base_uri": "https://localhost:8080/",
          "height": 548
        },
        "id": "YIVkVhCto0B6",
        "outputId": "1c9204bc-5469-4b57-d7b2-17ccfb1c5eb3"
      },
      "execution_count": 526,
      "outputs": [
        {
          "output_type": "execute_result",
          "data": {
            "text/plain": [
              "   Unnamed: 0  verified                     location                   id  \\\n",
              "0           0      True                Punjab, India           3153134184   \n",
              "1           1      True                    NEW DELHI             45795876   \n",
              "2           2      True                     Dehradun           1297926962   \n",
              "3           3      True  pokhari chamoli uttarakhand           2692838006   \n",
              "4           4      True            Yamkeshwar, India  1028186624218288128   \n",
              "\n",
              "                       url                                     public_metrics  \\\n",
              "0                      NaN  {'followers_count': 58375, 'following_count': ...   \n",
              "1                      NaN  {'followers_count': 21332, 'following_count': ...   \n",
              "2  https://t.co/SkirgMiB7f  {'followers_count': 1907, 'following_count': 2...   \n",
              "3  https://t.co/9j75o0vuWo  {'followers_count': 5481, 'following_count': 3...   \n",
              "4  https://t.co/SxS5stdGzU  {'followers_count': 2602, 'following_count': 1...   \n",
              "\n",
              "   protected party         username                                name  \\\n",
              "0      False   BJP     sunilkjakhar                        Sunil Jakhar   \n",
              "1      False   BJP    rpsinghkhalsa  RP Singh National Spokesperson BJP   \n",
              "2      False   BJP  bjpnareshbansal                       Naresh Bansal   \n",
              "3      False   BJP  mahendrabhatbjp                  Mahendra Bhatt MLA   \n",
              "4      False   BJP  RituKhanduriBJP               Ritu Khanduri Bhushan   \n",
              "\n",
              "                 created_at                                        description  \n",
              "0  2015-04-13T16:14:06.000Z                                                NaN  \n",
              "1  2009-06-09T08:33:22.000Z  Advertising Professional.\\nPatron, Gali Pathsh...  \n",
              "2  2013-03-25T06:31:52.000Z  Member of Parliament Rajya Sabha | Ex. General...  \n",
              "3  2014-07-30T13:02:25.000Z  महेंद्र भट्ट विधायक बद्रीनाथ विधानसभा उत्तराखं...  \n",
              "4  2018-08-11T07:49:28.000Z  Official Account of Smt. Ritu Khanduri Bhushan...  "
            ],
            "text/html": [
              "\n",
              "  <div id=\"df-1e3fd8aa-52f1-4f0d-981f-3b0ae594713b\">\n",
              "    <div class=\"colab-df-container\">\n",
              "      <div>\n",
              "<style scoped>\n",
              "    .dataframe tbody tr th:only-of-type {\n",
              "        vertical-align: middle;\n",
              "    }\n",
              "\n",
              "    .dataframe tbody tr th {\n",
              "        vertical-align: top;\n",
              "    }\n",
              "\n",
              "    .dataframe thead th {\n",
              "        text-align: right;\n",
              "    }\n",
              "</style>\n",
              "<table border=\"1\" class=\"dataframe\">\n",
              "  <thead>\n",
              "    <tr style=\"text-align: right;\">\n",
              "      <th></th>\n",
              "      <th>Unnamed: 0</th>\n",
              "      <th>verified</th>\n",
              "      <th>location</th>\n",
              "      <th>id</th>\n",
              "      <th>url</th>\n",
              "      <th>public_metrics</th>\n",
              "      <th>protected</th>\n",
              "      <th>party</th>\n",
              "      <th>username</th>\n",
              "      <th>name</th>\n",
              "      <th>created_at</th>\n",
              "      <th>description</th>\n",
              "    </tr>\n",
              "  </thead>\n",
              "  <tbody>\n",
              "    <tr>\n",
              "      <th>0</th>\n",
              "      <td>0</td>\n",
              "      <td>True</td>\n",
              "      <td>Punjab, India</td>\n",
              "      <td>3153134184</td>\n",
              "      <td>NaN</td>\n",
              "      <td>{'followers_count': 58375, 'following_count': ...</td>\n",
              "      <td>False</td>\n",
              "      <td>BJP</td>\n",
              "      <td>sunilkjakhar</td>\n",
              "      <td>Sunil Jakhar</td>\n",
              "      <td>2015-04-13T16:14:06.000Z</td>\n",
              "      <td>NaN</td>\n",
              "    </tr>\n",
              "    <tr>\n",
              "      <th>1</th>\n",
              "      <td>1</td>\n",
              "      <td>True</td>\n",
              "      <td>NEW DELHI</td>\n",
              "      <td>45795876</td>\n",
              "      <td>NaN</td>\n",
              "      <td>{'followers_count': 21332, 'following_count': ...</td>\n",
              "      <td>False</td>\n",
              "      <td>BJP</td>\n",
              "      <td>rpsinghkhalsa</td>\n",
              "      <td>RP Singh National Spokesperson BJP</td>\n",
              "      <td>2009-06-09T08:33:22.000Z</td>\n",
              "      <td>Advertising Professional.\\nPatron, Gali Pathsh...</td>\n",
              "    </tr>\n",
              "    <tr>\n",
              "      <th>2</th>\n",
              "      <td>2</td>\n",
              "      <td>True</td>\n",
              "      <td>Dehradun</td>\n",
              "      <td>1297926962</td>\n",
              "      <td>https://t.co/SkirgMiB7f</td>\n",
              "      <td>{'followers_count': 1907, 'following_count': 2...</td>\n",
              "      <td>False</td>\n",
              "      <td>BJP</td>\n",
              "      <td>bjpnareshbansal</td>\n",
              "      <td>Naresh Bansal</td>\n",
              "      <td>2013-03-25T06:31:52.000Z</td>\n",
              "      <td>Member of Parliament Rajya Sabha | Ex. General...</td>\n",
              "    </tr>\n",
              "    <tr>\n",
              "      <th>3</th>\n",
              "      <td>3</td>\n",
              "      <td>True</td>\n",
              "      <td>pokhari chamoli uttarakhand</td>\n",
              "      <td>2692838006</td>\n",
              "      <td>https://t.co/9j75o0vuWo</td>\n",
              "      <td>{'followers_count': 5481, 'following_count': 3...</td>\n",
              "      <td>False</td>\n",
              "      <td>BJP</td>\n",
              "      <td>mahendrabhatbjp</td>\n",
              "      <td>Mahendra Bhatt MLA</td>\n",
              "      <td>2014-07-30T13:02:25.000Z</td>\n",
              "      <td>महेंद्र भट्ट विधायक बद्रीनाथ विधानसभा उत्तराखं...</td>\n",
              "    </tr>\n",
              "    <tr>\n",
              "      <th>4</th>\n",
              "      <td>4</td>\n",
              "      <td>True</td>\n",
              "      <td>Yamkeshwar, India</td>\n",
              "      <td>1028186624218288128</td>\n",
              "      <td>https://t.co/SxS5stdGzU</td>\n",
              "      <td>{'followers_count': 2602, 'following_count': 1...</td>\n",
              "      <td>False</td>\n",
              "      <td>BJP</td>\n",
              "      <td>RituKhanduriBJP</td>\n",
              "      <td>Ritu Khanduri Bhushan</td>\n",
              "      <td>2018-08-11T07:49:28.000Z</td>\n",
              "      <td>Official Account of Smt. Ritu Khanduri Bhushan...</td>\n",
              "    </tr>\n",
              "  </tbody>\n",
              "</table>\n",
              "</div>\n",
              "      <button class=\"colab-df-convert\" onclick=\"convertToInteractive('df-1e3fd8aa-52f1-4f0d-981f-3b0ae594713b')\"\n",
              "              title=\"Convert this dataframe to an interactive table.\"\n",
              "              style=\"display:none;\">\n",
              "        \n",
              "  <svg xmlns=\"http://www.w3.org/2000/svg\" height=\"24px\"viewBox=\"0 0 24 24\"\n",
              "       width=\"24px\">\n",
              "    <path d=\"M0 0h24v24H0V0z\" fill=\"none\"/>\n",
              "    <path d=\"M18.56 5.44l.94 2.06.94-2.06 2.06-.94-2.06-.94-.94-2.06-.94 2.06-2.06.94zm-11 1L8.5 8.5l.94-2.06 2.06-.94-2.06-.94L8.5 2.5l-.94 2.06-2.06.94zm10 10l.94 2.06.94-2.06 2.06-.94-2.06-.94-.94-2.06-.94 2.06-2.06.94z\"/><path d=\"M17.41 7.96l-1.37-1.37c-.4-.4-.92-.59-1.43-.59-.52 0-1.04.2-1.43.59L10.3 9.45l-7.72 7.72c-.78.78-.78 2.05 0 2.83L4 21.41c.39.39.9.59 1.41.59.51 0 1.02-.2 1.41-.59l7.78-7.78 2.81-2.81c.8-.78.8-2.07 0-2.86zM5.41 20L4 18.59l7.72-7.72 1.47 1.35L5.41 20z\"/>\n",
              "  </svg>\n",
              "      </button>\n",
              "      \n",
              "  <style>\n",
              "    .colab-df-container {\n",
              "      display:flex;\n",
              "      flex-wrap:wrap;\n",
              "      gap: 12px;\n",
              "    }\n",
              "\n",
              "    .colab-df-convert {\n",
              "      background-color: #E8F0FE;\n",
              "      border: none;\n",
              "      border-radius: 50%;\n",
              "      cursor: pointer;\n",
              "      display: none;\n",
              "      fill: #1967D2;\n",
              "      height: 32px;\n",
              "      padding: 0 0 0 0;\n",
              "      width: 32px;\n",
              "    }\n",
              "\n",
              "    .colab-df-convert:hover {\n",
              "      background-color: #E2EBFA;\n",
              "      box-shadow: 0px 1px 2px rgba(60, 64, 67, 0.3), 0px 1px 3px 1px rgba(60, 64, 67, 0.15);\n",
              "      fill: #174EA6;\n",
              "    }\n",
              "\n",
              "    [theme=dark] .colab-df-convert {\n",
              "      background-color: #3B4455;\n",
              "      fill: #D2E3FC;\n",
              "    }\n",
              "\n",
              "    [theme=dark] .colab-df-convert:hover {\n",
              "      background-color: #434B5C;\n",
              "      box-shadow: 0px 1px 3px 1px rgba(0, 0, 0, 0.15);\n",
              "      filter: drop-shadow(0px 1px 2px rgba(0, 0, 0, 0.3));\n",
              "      fill: #FFFFFF;\n",
              "    }\n",
              "  </style>\n",
              "\n",
              "      <script>\n",
              "        const buttonEl =\n",
              "          document.querySelector('#df-1e3fd8aa-52f1-4f0d-981f-3b0ae594713b button.colab-df-convert');\n",
              "        buttonEl.style.display =\n",
              "          google.colab.kernel.accessAllowed ? 'block' : 'none';\n",
              "\n",
              "        async function convertToInteractive(key) {\n",
              "          const element = document.querySelector('#df-1e3fd8aa-52f1-4f0d-981f-3b0ae594713b');\n",
              "          const dataTable =\n",
              "            await google.colab.kernel.invokeFunction('convertToInteractive',\n",
              "                                                     [key], {});\n",
              "          if (!dataTable) return;\n",
              "\n",
              "          const docLinkHtml = 'Like what you see? Visit the ' +\n",
              "            '<a target=\"_blank\" href=https://colab.research.google.com/notebooks/data_table.ipynb>data table notebook</a>'\n",
              "            + ' to learn more about interactive tables.';\n",
              "          element.innerHTML = '';\n",
              "          dataTable['output_type'] = 'display_data';\n",
              "          await google.colab.output.renderOutput(dataTable, element);\n",
              "          const docLink = document.createElement('div');\n",
              "          docLink.innerHTML = docLinkHtml;\n",
              "          element.appendChild(docLink);\n",
              "        }\n",
              "      </script>\n",
              "    </div>\n",
              "  </div>\n",
              "  "
            ]
          },
          "metadata": {},
          "execution_count": 526
        }
      ]
    },
    {
      "cell_type": "code",
      "source": [
        "df_user_data.head()"
      ],
      "metadata": {
        "colab": {
          "base_uri": "https://localhost:8080/",
          "height": 206
        },
        "id": "1RMiX7PMrDOU",
        "outputId": "57e20fa1-e34d-4528-8e7f-139868520b59"
      },
      "execution_count": 527,
      "outputs": [
        {
          "output_type": "execute_result",
          "data": {
            "text/plain": [
              "          username          id          displayname  followersCount  \\\n",
              "0          BJP4JnK  1864685238  BJP Jammu & Kashmir           86433   \n",
              "1     GulabMatiala  2922933098          Gulab Singh           38727   \n",
              "2  guptaravinder71  2204739805    Ravinder Gupta 🇮🇳           23358   \n",
              "3     MaheishGirri   425973946        Maheish Girri          133913   \n",
              "4   shweta_shalini  2366619296       Shweta Shalini           22684   \n",
              "\n",
              "   friendsCount               location  \n",
              "0           222        Jammu & Kashmir  \n",
              "1           716       New Delhi, India  \n",
              "2          1234  Karol Bagh, New Delhi  \n",
              "3           657       New Delhi, India  \n",
              "4           374                 Mumbai  "
            ],
            "text/html": [
              "\n",
              "  <div id=\"df-f2a395ec-dba7-411b-8f6c-92bf1e1cb905\">\n",
              "    <div class=\"colab-df-container\">\n",
              "      <div>\n",
              "<style scoped>\n",
              "    .dataframe tbody tr th:only-of-type {\n",
              "        vertical-align: middle;\n",
              "    }\n",
              "\n",
              "    .dataframe tbody tr th {\n",
              "        vertical-align: top;\n",
              "    }\n",
              "\n",
              "    .dataframe thead th {\n",
              "        text-align: right;\n",
              "    }\n",
              "</style>\n",
              "<table border=\"1\" class=\"dataframe\">\n",
              "  <thead>\n",
              "    <tr style=\"text-align: right;\">\n",
              "      <th></th>\n",
              "      <th>username</th>\n",
              "      <th>id</th>\n",
              "      <th>displayname</th>\n",
              "      <th>followersCount</th>\n",
              "      <th>friendsCount</th>\n",
              "      <th>location</th>\n",
              "    </tr>\n",
              "  </thead>\n",
              "  <tbody>\n",
              "    <tr>\n",
              "      <th>0</th>\n",
              "      <td>BJP4JnK</td>\n",
              "      <td>1864685238</td>\n",
              "      <td>BJP Jammu &amp; Kashmir</td>\n",
              "      <td>86433</td>\n",
              "      <td>222</td>\n",
              "      <td>Jammu &amp; Kashmir</td>\n",
              "    </tr>\n",
              "    <tr>\n",
              "      <th>1</th>\n",
              "      <td>GulabMatiala</td>\n",
              "      <td>2922933098</td>\n",
              "      <td>Gulab Singh</td>\n",
              "      <td>38727</td>\n",
              "      <td>716</td>\n",
              "      <td>New Delhi, India</td>\n",
              "    </tr>\n",
              "    <tr>\n",
              "      <th>2</th>\n",
              "      <td>guptaravinder71</td>\n",
              "      <td>2204739805</td>\n",
              "      <td>Ravinder Gupta 🇮🇳</td>\n",
              "      <td>23358</td>\n",
              "      <td>1234</td>\n",
              "      <td>Karol Bagh, New Delhi</td>\n",
              "    </tr>\n",
              "    <tr>\n",
              "      <th>3</th>\n",
              "      <td>MaheishGirri</td>\n",
              "      <td>425973946</td>\n",
              "      <td>Maheish Girri</td>\n",
              "      <td>133913</td>\n",
              "      <td>657</td>\n",
              "      <td>New Delhi, India</td>\n",
              "    </tr>\n",
              "    <tr>\n",
              "      <th>4</th>\n",
              "      <td>shweta_shalini</td>\n",
              "      <td>2366619296</td>\n",
              "      <td>Shweta Shalini</td>\n",
              "      <td>22684</td>\n",
              "      <td>374</td>\n",
              "      <td>Mumbai</td>\n",
              "    </tr>\n",
              "  </tbody>\n",
              "</table>\n",
              "</div>\n",
              "      <button class=\"colab-df-convert\" onclick=\"convertToInteractive('df-f2a395ec-dba7-411b-8f6c-92bf1e1cb905')\"\n",
              "              title=\"Convert this dataframe to an interactive table.\"\n",
              "              style=\"display:none;\">\n",
              "        \n",
              "  <svg xmlns=\"http://www.w3.org/2000/svg\" height=\"24px\"viewBox=\"0 0 24 24\"\n",
              "       width=\"24px\">\n",
              "    <path d=\"M0 0h24v24H0V0z\" fill=\"none\"/>\n",
              "    <path d=\"M18.56 5.44l.94 2.06.94-2.06 2.06-.94-2.06-.94-.94-2.06-.94 2.06-2.06.94zm-11 1L8.5 8.5l.94-2.06 2.06-.94-2.06-.94L8.5 2.5l-.94 2.06-2.06.94zm10 10l.94 2.06.94-2.06 2.06-.94-2.06-.94-.94-2.06-.94 2.06-2.06.94z\"/><path d=\"M17.41 7.96l-1.37-1.37c-.4-.4-.92-.59-1.43-.59-.52 0-1.04.2-1.43.59L10.3 9.45l-7.72 7.72c-.78.78-.78 2.05 0 2.83L4 21.41c.39.39.9.59 1.41.59.51 0 1.02-.2 1.41-.59l7.78-7.78 2.81-2.81c.8-.78.8-2.07 0-2.86zM5.41 20L4 18.59l7.72-7.72 1.47 1.35L5.41 20z\"/>\n",
              "  </svg>\n",
              "      </button>\n",
              "      \n",
              "  <style>\n",
              "    .colab-df-container {\n",
              "      display:flex;\n",
              "      flex-wrap:wrap;\n",
              "      gap: 12px;\n",
              "    }\n",
              "\n",
              "    .colab-df-convert {\n",
              "      background-color: #E8F0FE;\n",
              "      border: none;\n",
              "      border-radius: 50%;\n",
              "      cursor: pointer;\n",
              "      display: none;\n",
              "      fill: #1967D2;\n",
              "      height: 32px;\n",
              "      padding: 0 0 0 0;\n",
              "      width: 32px;\n",
              "    }\n",
              "\n",
              "    .colab-df-convert:hover {\n",
              "      background-color: #E2EBFA;\n",
              "      box-shadow: 0px 1px 2px rgba(60, 64, 67, 0.3), 0px 1px 3px 1px rgba(60, 64, 67, 0.15);\n",
              "      fill: #174EA6;\n",
              "    }\n",
              "\n",
              "    [theme=dark] .colab-df-convert {\n",
              "      background-color: #3B4455;\n",
              "      fill: #D2E3FC;\n",
              "    }\n",
              "\n",
              "    [theme=dark] .colab-df-convert:hover {\n",
              "      background-color: #434B5C;\n",
              "      box-shadow: 0px 1px 3px 1px rgba(0, 0, 0, 0.15);\n",
              "      filter: drop-shadow(0px 1px 2px rgba(0, 0, 0, 0.3));\n",
              "      fill: #FFFFFF;\n",
              "    }\n",
              "  </style>\n",
              "\n",
              "      <script>\n",
              "        const buttonEl =\n",
              "          document.querySelector('#df-f2a395ec-dba7-411b-8f6c-92bf1e1cb905 button.colab-df-convert');\n",
              "        buttonEl.style.display =\n",
              "          google.colab.kernel.accessAllowed ? 'block' : 'none';\n",
              "\n",
              "        async function convertToInteractive(key) {\n",
              "          const element = document.querySelector('#df-f2a395ec-dba7-411b-8f6c-92bf1e1cb905');\n",
              "          const dataTable =\n",
              "            await google.colab.kernel.invokeFunction('convertToInteractive',\n",
              "                                                     [key], {});\n",
              "          if (!dataTable) return;\n",
              "\n",
              "          const docLinkHtml = 'Like what you see? Visit the ' +\n",
              "            '<a target=\"_blank\" href=https://colab.research.google.com/notebooks/data_table.ipynb>data table notebook</a>'\n",
              "            + ' to learn more about interactive tables.';\n",
              "          element.innerHTML = '';\n",
              "          dataTable['output_type'] = 'display_data';\n",
              "          await google.colab.output.renderOutput(dataTable, element);\n",
              "          const docLink = document.createElement('div');\n",
              "          docLink.innerHTML = docLinkHtml;\n",
              "          element.appendChild(docLink);\n",
              "        }\n",
              "      </script>\n",
              "    </div>\n",
              "  </div>\n",
              "  "
            ]
          },
          "metadata": {},
          "execution_count": 527
        }
      ]
    },
    {
      "cell_type": "markdown",
      "source": [
        "## PERFORM EMBEDDING"
      ],
      "metadata": {
        "id": "ftBNOQ53q75X"
      }
    },
    {
      "cell_type": "code",
      "source": [
        "# module_url = \"https://tfhub.dev/google/universal-sentence-encoder/4\" \n",
        "# model = hub.load(module_url)"
      ],
      "metadata": {
        "id": "zFpKr_ZyrYMb"
      },
      "execution_count": 528,
      "outputs": []
    },
    {
      "cell_type": "code",
      "source": [
        "# !pip install sentence-transformers"
      ],
      "metadata": {
        "id": "w896VBz7B6o9"
      },
      "execution_count": 529,
      "outputs": []
    },
    {
      "cell_type": "code",
      "source": [
        "from sentence_transformers import SentenceTransformer\n",
        "sbert_model = SentenceTransformer('bert-base-nli-mean-tokens')"
      ],
      "metadata": {
        "id": "g7L2hyTEBfwQ"
      },
      "execution_count": 530,
      "outputs": []
    },
    {
      "cell_type": "code",
      "source": [
        "tweet_embeddings = sbert_model.encode(english_tweets)\n",
        "print(tweet_embeddings.shape)"
      ],
      "metadata": {
        "colab": {
          "base_uri": "https://localhost:8080/"
        },
        "id": "5_JenZJprc1H",
        "outputId": "1dc34314-9e6d-4880-dffd-43a205b10431"
      },
      "execution_count": 531,
      "outputs": [
        {
          "output_type": "stream",
          "name": "stdout",
          "text": [
            "(2944, 768)\n"
          ]
        }
      ]
    },
    {
      "cell_type": "code",
      "source": [
        "base_embeddings = sbert_model.encode(t)\n",
        "print(base_embeddings.shape)"
      ],
      "metadata": {
        "colab": {
          "base_uri": "https://localhost:8080/"
        },
        "id": "c6tD4Z0j84YJ",
        "outputId": "d972c373-0fb9-401c-ba49-1d3825cbfb89"
      },
      "execution_count": 532,
      "outputs": [
        {
          "output_type": "stream",
          "name": "stdout",
          "text": [
            "(1, 768)\n"
          ]
        }
      ]
    },
    {
      "cell_type": "markdown",
      "source": [
        "## CREATE MAPPING BETWEEN TWEET_ID AND EMBEDDING"
      ],
      "metadata": {
        "id": "_ZPYwQ5zS7dZ"
      }
    },
    {
      "cell_type": "code",
      "source": [
        "# This function creates mapping between embedding and tweet id\n",
        "from collections import defaultdict\n",
        "def reverse_mapping(tweet_embeddings,en_mapping):\n",
        "  rev_map = defaultdict(list)\n",
        "  index = 0\n",
        "  for tweet_id in en_mapping.keys():\n",
        "    tupple = tuple(tweet_embeddings[index])\n",
        "    rev_map[tupple].append(tweet_id)\n",
        "    index = index+1 \n",
        "  print(index)\n",
        "  return rev_map"
      ],
      "metadata": {
        "id": "_wQtoHj6S_-I"
      },
      "execution_count": 533,
      "outputs": []
    },
    {
      "cell_type": "code",
      "source": [
        "rev_map = reverse_mapping(tweet_embeddings,en_mapping)\n",
        "print(len(rev_map))"
      ],
      "metadata": {
        "colab": {
          "base_uri": "https://localhost:8080/"
        },
        "id": "Fl0aN4zBU7-z",
        "outputId": "506dd211-8b10-4582-e648-724d831f9c61"
      },
      "execution_count": 534,
      "outputs": [
        {
          "output_type": "stream",
          "name": "stdout",
          "text": [
            "2944\n",
            "2885\n"
          ]
        }
      ]
    },
    {
      "cell_type": "markdown",
      "source": [
        "## Cosine similarity"
      ],
      "metadata": {
        "id": "r52otGbVDbUp"
      }
    },
    {
      "cell_type": "code",
      "source": [
        "from sklearn.metrics.pairwise import cosine_similarity\n",
        "def similarity(base_embeddings,tweet_embeddings):\n",
        "  temp_np_array = np.zeros((len(tweet_embeddings),768))\n",
        "  i = 0\n",
        "  for k in tweet_embeddings:\n",
        "    k = np.array(k)\n",
        "    temp_np_array[i]=k\n",
        "    i=i+1\n",
        "  c_sim=cosine_similarity(base_embeddings,temp_np_array)\n",
        "  return c_sim"
      ],
      "metadata": {
        "id": "7tQFYZ3J44e9"
      },
      "execution_count": 535,
      "outputs": []
    },
    {
      "cell_type": "code",
      "source": [
        ""
      ],
      "metadata": {
        "id": "NyROiDeSI-Vv"
      },
      "execution_count": 535,
      "outputs": []
    },
    {
      "cell_type": "code",
      "source": [
        "sim=similarity(base_embeddings,rev_map.keys())\n",
        "print(sim.shape)"
      ],
      "metadata": {
        "colab": {
          "base_uri": "https://localhost:8080/"
        },
        "id": "eQHJMThLCvQ1",
        "outputId": "bfc750dd-d149-4920-d796-e4bde38420c5"
      },
      "execution_count": 536,
      "outputs": [
        {
          "output_type": "stream",
          "name": "stdout",
          "text": [
            "(1, 2885)\n"
          ]
        }
      ]
    },
    {
      "cell_type": "code",
      "source": [
        "sim_list = sim.tolist()"
      ],
      "metadata": {
        "id": "se7Kw8JgDoWP"
      },
      "execution_count": 537,
      "outputs": []
    },
    {
      "cell_type": "code",
      "source": [
        "f_list = sim_list[0]\n",
        "print(len(f_list))\n",
        "result = list()\n",
        "# print(len(tweet_embeddings))\n",
        "k_list = list(rev_map.keys())\n",
        "for index in range(len(f_list)):\n",
        "  if f_list[index] >= 0.80:\n",
        "      result.append(k_list[index])\n",
        "\n",
        "\n",
        "print(len(result))"
      ],
      "metadata": {
        "colab": {
          "base_uri": "https://localhost:8080/"
        },
        "id": "YvNYrWkhICM8",
        "outputId": "97c0a74f-fe27-40d8-e2a7-2b840c85dd9c"
      },
      "execution_count": 538,
      "outputs": [
        {
          "output_type": "stream",
          "name": "stdout",
          "text": [
            "2885\n",
            "142\n"
          ]
        }
      ]
    },
    {
      "cell_type": "code",
      "source": [
        "c_p_tweet = list()\n",
        "for r in result:\n",
        "  tweet_id = rev_map[tuple(r)]\n",
        "  for t in tweet_id:\n",
        "    c_p_tweet.append(t)\n",
        "    print(en_mapping[t])\n",
        "print(len(c_p_tweet))"
      ],
      "metadata": {
        "colab": {
          "base_uri": "https://localhost:8080/"
        },
        "id": "haKiyQhlts0U",
        "outputId": "e857b4fb-ad2c-47c6-e043-7f46dc36a6ae"
      },
      "execution_count": 539,
      "outputs": [
        {
          "output_type": "stream",
          "name": "stdout",
          "text": [
            "Attack and kill police if you have to: BJP leaders tell supporters in West Bengal Sanghis should be arrested for indulging in &amp; inciting violence. #BharatJalaoParty #BJPBurningBharat #IndiaRejectsCAA_NRC #IndiaDoesNotSupportCAA https://t.co/SjJmeJBOtw\n",
            "You bored? Does this look like an attempt to entertain u? Chronology samjhiye: 1) Parliament passes the divisive CAA 2) Jamia/AMU fight back 3) Police brutality follows 4) ABVP attacks JNU students. 5) Citizens across India care about this, you should too! #BJPBurningBharat https://t.co/dxA1hqKZc5\n",
            "क्या आप ऐसी सरकार चाहते हैं जो दिल्ली में दंगे करवाए? Asked Shah shortly before masked goons invaded JNU, attacked students, teachers and vandalized public property on campus Was this signal sent to the masked hoodlums &amp; Delhi cops? #BJPBurningBharat https://t.co/436Ds8a6eB https://t.co/kGGmAaYpCp\n",
            "@UmarKhalidJNU @zander_rick Politically affiliated student WINGS with professional goons are forcing students to indulge in violent protests against CAA. #UmarKhalid #chup #BJPBurningBharat #JNUViolence #JNUattack #JNUProtests #JNUUnderAttack #ABVP #IndiaDoesSupportCAA https://t.co/1cGm9pVvZi\n",
            "#AMU #Jamia #JNU what does the Modi government have against universities? Your police is brutalising our youth #JNUUnderAttack #JNUBleeds #BJPBurningBharat #EmergencyinJNU #JNUattack #ResignAmitShah #SOSJNU #HumanRights #JNUViolence https://t.co/lkArliq3Xv\n",
            "BJP and ABVP are so terrified by the logical arguments provided by JNU students that they decided to terrorize and attack the students, physically. Well, Hum Dekhenge. #bjpburningbharat #abvpviolenceinjnu #HumDekhenge https://t.co/CN4SoCS61H\n",
            "India Today: UP Police says PFI actively involved in violence during anti-CAA protests, 25 members arrested. https://t.co/P81kEhA5HA via @GoogleNews #NRC_CAA_Protests #bjpburningbharat #YogiMassacre #ModiLies #UPMeinGundaraj #CAA_NRC_Protest #NRC #CAAJanJagran #Katyayan\n",
            "Wherever there's BJP Govts, There will be violence &amp; brutal police killings. These death tolls would have risen by now. #NoToChaddiSarkar which declares war against the people after stealing their votes. #BJPBurningBharat #IndiaRejectsCAA_NRC https://t.co/qfvZGIrwIm\n",
            "@RahulGandhi Wherever there's BJP Govts, There will be violence &amp; brutal police killings. These death tolls would have risen by now. #NoToChaddiSarkar which declares war against the people after stealing their votes. #BJPBurningBharat #IndiaRejectsCAA_NRC https://t.co/799iPF2jhw\n",
            "Wherever there's BJP Govts, There will be violence &amp; brutal police killings. These death tolls would have risen by now. #NoToChaddiSarkar which declares war against the people after stealing their votes. #BJPBurningBharat https://t.co/5E8jmO0SDn #IndiaDoesNotSupportCAA\n",
            "Wherever there's BJP Govts, There will be violence &amp; brutal police killings. These death tolls would have risen by now. #NoToChaddiSarkar which declares war against the people after stealing their votes. #BJPBurningBharat #IndiaRejectsCAA_NRC https://t.co/799iPF2jhw\n",
            "#YogiMustResign #BJPBurningBharat #BJPMuktBharat #IndiansAgainstCAA #IndiansAgainstCAB #IndiansAgainstNRC In Bijnor, Children Give Harrowing Accounts of Beating by UP Police After CAA Protest https://t.co/JCxoonzD3Y\n",
            "@narendramodi why is your party @myogiadityanath party partial to #RSS rioters and brutal on #aamadmi #CAA_NRC_Protests @priyankagandhi @JM_Scindia should courting arrest to protest. We are with you #BJPBurningBharat https://t.co/kGQNb2ZHyu\n",
            "Students are protesting for their rights and police lodged FIR against them? Police barged into the campus and showed brutality on them and blamed students as rioters . #BJPBurningBharat #IndiansAgainstCAA #MumbaikarsAgainstCAB #NRC_CAA_Protests #bangaloreprotest #TNopposesCAA https://t.co/mcEV60TJpZ\n",
            "Who thought our armed forces calling names our student movements , minorities and their leaders. muffling voices and arresting young India 🇮🇳. Our freedom was earned by long non violent struggle not gifted one. #whoisreadytolisten #BipinRawat #bjpburningbharat #CAA_NRC_Protest\n",
            "Dear @Uppolice @dgpup Country has never seen such spineless and lawless police personals in entire nation. provoke, do brutality and later blame peaceful protesters.. Would you please stop mockery of law of the land Please do the needful. #BJPBurningBharat #StandwithModi https://t.co/Xmgy5RLR2J\n",
            "This is how these BjP bhakts are instigating hatred! Very evident that this video is not from Kerala. This crowd could or couldn’t be Illegal immigrants but they way these uneducated bhakts trying to instigate is the real problem of india. #BjpMuktBharat #BJPBurningBharat #CAB https://t.co/rK5RgLPaya\n",
            "Scene from #CAAProtests in Delhi where violent protestor is seen brutally attacking an innocent Delhi police personnel by pelting red rose on him in the middle of the road. #IndiaAgainstCAA #Emergency #CAA_NRC #ThursdayMotivation #CAAAgainstConstitution #BJPBurningBharat https://t.co/UvUxzUGqC8\n",
            "Violence is not only an attack on India's students but also on our democracy&amp;right to protest peacefully.Under Modi govt,flames of fascism are burning country. But we will not be silenced,Our spirit will not be crushed,We will raise our voice to save India. #BJPBurningBharat https://t.co/PCH4qJ1wdx\n",
            "Following the JMU,several universities like DU, BHU, IIT Bombay, Jadavpur university etc have come out against the heavy handed and completely fascist approach of the police. Infact, Delhi University students are currently being beaten up by the police. #BJPBurningBharat https://t.co/WKa25ewuu5\n",
            "Students were peacefully protesting against CAB when Delhi police barged inside Jamia University campus&amp;brutally lathicharged&amp; attacked with tear gas.Treated like criminals and even paraded with their hands up.Seriously injured.Students at AMU were assaulted. #BJPBurningBharat https://t.co/KC5IGBq9Qe\n",
            "https://t.co/RAOfZdPmmI Modi govt's ill-thought policies are destroying India. In every sphere, be it the economy, society, democracy etc., India is faltering. Yesterday, India witnessed the most brutal assault on its students. #BJPBurningBharat https://t.co/Hk3YJmxqrB\n",
            "@sardesairajdeep @IndiaToday He’s Bharat Sharma ABVP RSS Goons Co-Operating #DelhiPolice To Beaten up Students in Their Protest Against #CAA_NRC #IndiansAgainstCAA #IndiaAgainstNRC #BJPHataoDeshBachao #saveIndiaFromBJP #SaveConstitution #SaveIndia #BJPBurningBharat #UnityIsOurReligion https://t.co/HA0QdoLSVb\n",
            "Shoot at sight orders given. Now who will shoot the uniformed goons, clearly captured on camera, destroying public &amp; private property and then blaming it on students &amp; protestors? #ABVPgoons #BJPBurningBharat #IndiansAgainstCAA https://t.co/ilrCDoxhBx\n",
            "@AnupamPKher Why are you silent now? See this: try to identify this person. Bjp member are beating students with police freely. And now you guys are silent, very well. You don't have the courage to speak up. #BJPBurningBharat https://t.co/5fyvpdFaUe\n",
            "RT INCIndia: Watch: Images from across the country of students &amp; citizens standing up against BJP govt's tyrannical actions &amp; in support of universities &amp; students that have been attacked. #BJPBurningBharat https://t.co/s91Ow2Z0Bb\n",
            "RT arjundsage: As sources confirmed here is the ABVPVoice ABVPDelhi office bearer who torched buses at #JamiaProtests and brutally attacked Students &amp; tried to incite violence at DU This criminal must be arrested #BJPBurningBharat #BJPburningIndia https://t.co/vedpNk6eNt\n",
            "10 arrested in connection with Jamia violence; No students among them, say Delhi Police Now who will arrest Delhi cops for raiding campus without permission of the VC &amp; their brutal violence on unarmed innocent students ? #BJPBurningBharat https://t.co/q9VwkVWroK\n",
            "Yesterday, India witnessed the most brutal assault on its students. Students were peacefully protesting against the CAB when Delhi police barged inside Jamia university campus and brutally lathicharged and attacked students with tear gas. #BJPBurningBharat\n",
            "Yesterday, India witnessed the most brutal assault on its students. Students were peacefully protesting against the CAB when Delhi police barged inside Jamia university campus and brutally lathicharged and attacked students with tear gas. #BJPBurningBharat\n",
            "Yesterday, India witnessed the most brutal assault on its students. Students were peacefully protesting against the CAB when Delhi police barged inside Jamia university campus and brutally lathicharged and attacked students with tear gas. #BJPBurningBharat\n",
            "Yesterday, India witnessed the most brutal assault on its students. Students were peacefully protesting against the CAB when Delhi police barged inside Jamia university campus and brutally lathicharged and attacked students with tear gas. #BJPBurningBharat\n",
            "Yesterday, India witnessed the most brutal assault on its students. Students were peacefully protesting against the CAB when Delhi police barged inside Jamia university campus and brutally lathicharged and attacked students with tear gas. #BJPBurningBharat\n",
            "10 arrested in connection with Jamia violence; No students among them, say Delhi Police Now who will arrest Delhi cops for raiding campus without permission of the VC &amp; their brutal violence on unarmed innocent students ? #BJPBurningBharat https://t.co/1THys0dPIT\n",
            "@hemirdesai @Javedakhtarjadu @FarOutAkhtar @khanumarfa @BDUTT @RahulGandhi @priyankagandhi @sardesairajdeep would like to tell you that this is india and not some nazi state..everbody has right to protest. Protest are alwaz peaceful but due to excessive use of force and involvement of goons of ruling party, protests have become violent.#BJPburningIndia #BJPBurningBharat\n",
            "Police-CRPF Joined Hands with RSS-BJP Goons to Kill Students in University Campus. #ResignAmitShah #Modi_Divider_In_Chief #CAAAgainstConstitution #CAAProtest #CABAgainstConstitution #CABProtest #BJPburningIndia #BharatBachao #BJPBurningBharat #BJPburningDelhi #JamiaProtests https://t.co/qDk1A53bUM\n",
            "These two red-shirts have been seen in many Jamia videos, there are clearly not Delhi Police cops. The question to ask then is who are these men beating up and thrashing students? #AmitShahResign #BJPBurningBharat #CABProtest #BJPburningIndia #BJPMuktIndia #CAAAgainstConstitution https://t.co/sQUlLdcIX5\n",
            "Pics of Delhi Police attacking on Protest of students with it’s goons got viral #JamiaProtests #CAAProtests #BJPburningIndia #BJPBurningBharat https://t.co/wniiwCCfn9\n",
            "Shelling students with tear gas, Universities are made to resemble war zones. How low can the BJP Govt. stoop where students are made to face police brutality? #BJPBurningBharat https://t.co/lOD5D6nnk2\n",
            "To protest is democratic right. The violent attack on the students last night was an attack on these very democratic rights. The voices they want to silence by instilling fear are only going to get louder. #BJPBurningBharat\n",
            "To protest is democratic right. The violent attack on the students last night was an attack on these very democratic rights. The voices they want to silence by instilling fear are only going to get louder. #BJPBurningBharat\n",
            "The future of India, i.e. its students, were made targets by the incompetent BJP Govt. last night as they used police force to tackle students who were peacefully protesting against the injustice by the Govt. #BJPBurningBharat https://t.co/O1WBxNB0Fh\n",
            "Statement by Congress President Smt. Sonia Gandhi on attack on students protesting against #BJPBurningBharat #JamiaProtest https://t.co/qs5jxT3Y47\n",
            "@jigneshmevani80 claims that violence against students in Gujarat as \"State Sponsored Violence\" which is not new thing. They cannot suppress the voice of those who speaking and protesting in the way Constitution allowed. Jai Ho #BJPBurningBharat #StandWithJamia #StandWithAMU https://t.co/DWj35niqnD\n",
            "It's shame to see that there are protests and the authorities are raising hands on each other and the worst to see is students, the future of India are getting hurt in the hatred and prejudiced views of certain people. @narendramodi #NoToCAA #NoToViolence #BJPBurningBharat\n",
            "@sandeep8896879 @RonakFd01 @Andh_Bhakto @thewire_in @rohini_sgh For ur kind information ABVP was not the one who was protesting, it was DU students who were protesting outside Faculty of Social Sciences and ABVP attacked them violently along with CRPF. #BJPBurningBharat\n",
            "Statement by Congress President Smt. Sonia Gandhi on attack on students protesting against #BJPBurningBharat #JamiaProtest https://t.co/MpgoPW3JsH\n",
            "Students of BHU came out in large numbers today to protest against the brutal lathicharge on students of Jamia Milia Islamia &amp; AMU. #JamiaProtest #AMUprotest #CABProtests #BJPBurningBharat https://t.co/b0JN5Mmy9l\n",
            "Bollywood stars coming up and condemning police's violence against protesting students and not having anything to say on the #CAB speaks lot about their spinelessness #BollywoodCelebs #BJPBurningBharat\n",
            "From AMU to Loyola College: Students across India protest against police crackdown in Jamia. Leading to Civil War. Amit Shah is playing with the sentiments of the mass.. #JamiaProtest #BJPBurningBharat https://t.co/TYHogM4H04\n",
            "@jdhankhar1 @MamataOfficial You just called first to @modi @AmitShah two gujrati anti social in our state. And ask them why they provoke common people students also..You are doing #dullpolitics holding hand with RSS AND BJP... #BJPBurningBharat #NoToCAB #NoToNRC\n",
            "Protesting last night @DelhiPolice Headquater in solidarity with #Jamia students against brutal attack on students. #BJPBurningBharat https://t.co/PDPO0648K6\n",
            ".@NSUIUttarakhand today organized Mashal Julus against the unconstitutional #CAA and the brutal attack by police on #JamiaMilia &amp; #AMU students. Together, we shall fight. #BJPBurningBharat https://t.co/FrG4bA1Qwb\n",
            "@ashokabraham There is something to understand in between. SC/Judge thinks all the damages created during last days strike was by those student protestors. But what is the truth? Police did it all🤬 #BJPBurningBharat #CAAProtests\n",
            "#CAAProtests #BJPBurningBharat By letting Police loose on Students &amp; giving it free hand to commit atrocities, Modi-Shah have incurred wrath of Nation and ensured premature demise of their Govt.\n",
            "I think people who feel the pain of protestors in the ending scene of RANG DE BASANTI and at the same time cherish the brutality against the students by the police are really in need of mental treatment . #JamiaMilia #DelhiProtest #DelhiBurning #BJPBurningBharat\n",
            "Protesting last night @Delhi Police Headquater in solidarity with #Jamia students against brutal attack on students by Delhi Police. #BJPBurningBharat @IYC @nsui @JamiaMillia @INCDelhi @INCIndia https://t.co/mJaecFq5DN\n",
            "The government has attacked the constitution of India. They have attacked Soul Of India. Every youth is Soul of India. Every youth has right to protest and this right is given by constitution. @priyankagandhi #BJPBurningBharat https://t.co/rqT73nJiY4\n",
            "Glimpses of the large number of people that have gathered at India Gate in solidarity with Smt. @priyankagandhi &amp; senior Congress leaders, who are protesting the violence against students. #BJPBurningBharat https://t.co/bve6E3x4MY\n",
            "Glimpses of the large number of people that have gathered at India Gate in solidarity with Smt. @priyankagandhi &amp; senior Congress leaders, who are protesting the violence against students. #BJPBurningBharat https://t.co/7s2Gbmsklr\n",
            "Glimpses of the large number of people that have gathered at India Gate in solidarity with Smt. @priyankagandhi &amp; senior Congress leaders, who are protesting the violence against students. #BJPBurningBharat https://t.co/qcr4f4u62u\n",
            "It is attack on constitution. It is not an attack on students;it is attack on the soul of country, youth is the soul of the country. They have right to protest.The right to raise voice &amp; dissent has been given to them by our Constitution. ~ @priyankagandhi #BJPBurningBharat https://t.co/Oz5H9VA3dI\n",
            "What police did at #JamiaMilliaUniversity is nothing else but brutality. Police acted as puppets of bjp, it's shame. And what #bjp is doing with #cab is shitty politics of divide. #BJPburningIndia #BJPBurningBharat #CABProtests #JamiaProtest #opposeCAB #CitizenshipAmendmentAct\n",
            "RSS-BJP Members Dressed Up as Cops &amp; CRPF Personnel &amp; Beat Up, Harassed Girls Students in Jamia Milia University Campus #BJPBurningBharat #JamiaProtest #JamiaMilia #ShameOnDelhiPolice #CABProtests #IndiaToEndia #DelhiBurning #IndiaAgainstCAB #HindusAgainstCAB #ResignAmitShah https://t.co/uz9l5AOmY5\n",
            "Statement by Congress President Smt. Sonia Gandhi on attack on students protesting against #BJPBurningBharat #JamiaProtest @nsui @guptar @Neerajkundan @SaimonFarooqui @LubanaManoj @GulzebAhmed @nagamadhu555 @anulekhaboosa @VenkatBalmoor @TSNSUI @MothaRohit https://t.co/BLfcDCO0lt\n",
            "Citizenship Act: Students at IIM-A, IITs join nationwide protest against police action at Jamia, AMU #BJPBurningBharat #BJPburningIndia #CABProtests #SCSTOBC_Against_CAB https://t.co/IIKmrLggr0\n",
            "Glimpses of the large number of people that have gathered at India Gate in solidarity with Smt. @priyankagandhi &amp; senior Congress leaders, who are protesting the violence against students. #BJPBurningBharat https://t.co/lPsvWgHLmo\n",
            "Today Congress led by Smt @priyankagandhi sat in front of India Gate in silent protest to save our Democracy and Constitution. To tell BJP to stop beating students, finding excuses for #EconomicSlowdown and take back the Citizenship Amendment Act. @INCIndia #BJPBurningBharat https://t.co/tEJdTdDUnV\n",
            "The brutal \"crackdown on students is an assault on the soul of India\" : @priyankagandhi, who was denied permission to go to Jamia, at India Gate. #BJPBurningBharat #BharatJalaoParty #ResignAmitShah #ModiMadeDisaster https://t.co/QSIz74zvan\n",
            "It is shame that the BJP Govt. had to resort to using police force on young students who were peacefully protesting against the Govt's injustice. #BJPBurningBharat #BJPHataoDeshBachao\n",
            "Some more pics from the Congress Party's Smt @priyankagandhi Ji protest at the India Gate, Delhi, in solidarity with the students who was brutally beaten by the police. #BJPBurningBharat https://t.co/YpSPdQBmOd\n",
            "Glimpses of the large number of people that have gathered at India Gate in solidarity with Smt. @priyankagandhi &amp; senior Congress leaders, who are protesting the violence against students. #BJPBurningBharat https://t.co/5twj4NeSdo\n",
            "#BJPBurningBharat #BJPBurningBharat 🔥 Ransacking women hostels 🔥Vandalising Buses/ Bikes 🔥Shooting innocent youth 🔥Resisting peaceful protest 🔥Assaulting young women! All this and much more not by hooligans but by BJP Govt! Save India, Save It’s Soul! https://t.co/AfTpr8feNW\n",
            "BJP GOVT trying hard to muzzle the voice of students in bid to create unrest &amp; polarisation in the country. But history &amp; idea of India has always taught us that while violence is never an answer,standing up against the wrong is must #BJPBurningBharat https://t.co/Gg2IcOoYtG\n",
            "Statement by Congress President Smt. Sonia Gandhi on attack on students protesting against #BJPBurningBharat #JamiaProtest #BJPHataoDeshBachao https://t.co/pWGyIj7WEj\n",
            "Glimpses of the large number of people that have gathered at India Gate in solidarity with Smt. Priyanka Gandhi Vadra &amp; senior Congress leaders, who are protesting the violence against students. #BJPBurningBharat https://t.co/9hyshLWOiL\n",
            ".@INCIndia under the leadership of Smt @priyankagandhi protest at India gate against the unconstitutional Citizenship Amendment Act &amp; violence on students #BJPBurningBharat https://t.co/yYmd9olFLC\n",
            "Watch: Images from across the country of students &amp; citizens standing up against BJP govt's tyrannical actions &amp; in support of universities &amp; students that have been attacked. #BJPBurningBharat https://t.co/1RM1DOOYXP\n",
            "#BJPBurningBharat Smt. @priyankagandhi stages protest against police action against students of #JamiaMilia https://t.co/4j0JLNITYY\n",
            "The future of India, i.e. its students, were made targets by the incompetent BJP Govt. last night as they used police force to tackle students who were peacefully protesting against the injustice by the Govt. #BJPBurningBharat https://t.co/OrpR0cFGqi\n",
            "Glimpses of the large number of people that have gathered at India Gate in solidarity with Smt. @priyankagandhi &amp; senior Congress leaders, who are protesting the violence against students. #BJPBurningBharat https://t.co/VfwdNKcWpI\n",
            "Statement by Congress President Smt. Sonia Gandhi ji on attack on students protesting against #BJPBurningBharat #JamiaProtest @RahulGandhi @priyankagandhi https://t.co/056FlFKRkg\n",
            "Statement by Congress President Smt. Sonia Gandhi on attack on students protesting against #BJPBurningBharat #JamiaProtest https://t.co/0ytxdYax8B\n",
            "Statement by Congress President Smt. Sonia Gandhi on attack on students protesting against #SoniaGandhi #PriyankaGandhi #BJPBurningBharat #JamiaProtest https://t.co/Gpbk6byoAN\n",
            "Statement by Congress President Smt. Sonia Gandhi on attack on students protesting against #BJPBurningBharat #JamiaProtest https://t.co/G7HL8Mpvef\n",
            "AICC General Secretary @priyankagandhi @sushmitadevinc Sitting on #dharna at India Gate in protest against #DelhiPolice brutal attack on students of #JamiaMilliaUniversity &amp; illegal entry inside campus. #JamiaMilia #JamiaProtest #ResignAmitShah #BJPBurningBharat #DelhiProtest https://t.co/wNN0Yf9EV1\n",
            "AICC Secretary @priyankagandhi &amp; other senior leaders of the party are present at India Gate to protest the unconstitutional CAA &amp; violence against students. #JamiaMillia #JamiaProtests #BJPBurningBharat https://t.co/9QVa3NEEfV\n",
            "Sit in protest by @priyankagandhi ji &amp; senior leaders of the Congress party at India Gate right now to protest against the unconstitutional #CAA and the violence against students. #BJPBurningBharat #JamiaProtest https://t.co/0wWhameojh\n",
            "Priyanka Gandhi, Sushmita Dev on #dharna at India Gate in protest against #DelhiPolice brutal attack on students of #JamiaMilliaUniversity &amp; illegal entry inside campus. @priyankagandhi @sushmitadevinc #JamiaMilia #JamiaProtest #ResignAmitShah #BJPBurningBharat #DelhiProtest https://t.co/ZqoXa237sS\n",
            "CAB Protest : Violent Police Attack against Jamia Millia Islamia Students REACTION https://t.co/FBh4dl9fSw #JamiaMilia #JamiaMiliaProtests #BJPburningIndia #CAAProtests #HindusAgainstCAB #ISupportDelhiPolice #BJPBurningBharat #DelhiProtest #IsupportCAB2019 #KeralaWelcomesCAB\n",
            "#BJPBurningBharat Students of the Jamia Millia Islamia Delhi are protesting against the brutal operation of Indian security forces, use of tear gas, belts and pallets, dozns of students injured, protest against citizenship amendment bill. India is no more. @majorgauravarya\n",
            "@ANI RaGa must lead massive protest against this incompetent Modi Government. They who are in Govt, completely arrogant and irresponsible people. When India is facing violent protest all over the country, India's home minister is seeking votes in Jharkhand. #BJPBurningBharat\n",
            "Watch: Images from across the country of students &amp; citizens standing up against BJP govt's tyrannical actions &amp; in support of universities &amp; students that have been attacked. #BJPBurningBharat https://t.co/f79Vwt0Ade\n",
            "@narendramodi Your social media chief @amitmalviya is spreading lies and rumors 1.Act on him if you are serious about peace in India. 2. Ask your police to not be violent with students 3. Stop your communal bigoted rss 4. Be like leader of India and not HINDUTVA bigots #BJPBurningBharat\n",
            "Your social media chief @amitmalviya is spreading lies and rumors 1.Act on him if you are serious about peace in India. 2. Ask your police to not be violent with students 3. Stop your communal bigoted rss 4. Be like leader of India and not HINDUTVA bigots #BJPBurningBharat https://t.co/HdkhGCwI0X\n",
            "Watch: Images from across the country of students &amp; citizens standing up against BJP govt's tyrannical actions &amp; in support of universities &amp; students that have been attacked. #ResignNowAmitShah #BJPBurningBharat https://t.co/CtLkbAVR0P\n",
            "Police storm campuses, crack down on protests against Indian citizenship law. Police is involving in illegal activities.. Now they breaking the law.. Who will safeguard the law and order now? #BJPBurningBharat https://t.co/LmPVPDoNsS\n",
            "Watch: Images from across the country of students &amp; citizens standing up against BJP govt's tyrannical actions &amp; in support of universities &amp; students that have been attacked. #BJPBurningBharat\n",
            "Watch: Images from across the country of students &amp; citizens standing up against BJP govt's tyrannical actions &amp; in support of universities &amp; students that have been attacked. #BJPBurningBharat\n",
            "@INCTamilNadu It is shame that the BJP Govt. had to resort to using police force on young students who were peacefully protesting against the Govt's injustice. #BJPBurningBharat #DelhiProtest\n",
            "Following this, several universities like DU, BHU, IIT Bombay, Jadavpur university etc have come out against the heavy handed and completely fascist approach of the police. Infact, Delhi University students are currently being beaten up by the police. #BJPBurningBharat\n",
            "Following this, several universities like DU, BHU, IIT Bombay, Jadavpur university etc have come out against the heavy handed and completely fascist approach of the police. Infact, Delhi University students are currently being beaten up by the police. #bjpburningbharat\n",
            "Following this, universities like DU, BHU, IIT Bombay, Jadavpur university etc have come out against the heavy handed and completely fascist approach of the police. Infact, Delhi University students are currently being beaten up by the police. #BJPBurningBharat\n",
            "Following this, universities like DU, BHU, IIT Bombay, Jadavpur university etc have come out against the heavy handed and completely fascist approach of the police. Infact, Delhi University students are currently being beaten up by the police. #BJPBurningBharat\n",
            "The aftermath of BJP's unconstitutional Citizenship Amendment Act is country on fire. Students, teachers &amp; citizens of every creed &amp; caste are taking to the streets to express their anger at this divisive &amp; undemocratic govt. #BJPBurningBharat https://t.co/3KrhWIGygd\n",
            "The future of India, i.e. its students, were made targets by the incompetent BJP Govt. last night as they used police force to tackle students who were peacefully protesting against the injustice by the Govt. #BJPBurningBharat https://t.co/ZaLVFb5xV7\n",
            "It is shame that the BJP Govt. had to resort to using police force on young students who were peacefully protesting against the Govt's injustice. #BJPBurningBharat\n",
            "It is shame that the BJP Govt. had to resort to using police force on young students who were peacefully protesting against the Govt's injustice. #BJPBurningBharat\n",
            "It is shame that the BJP Govt. had to resort to using police force on young students who were peacefully protesting against the Govt's injustice. #BJPBurningBharat\n",
            "It is shame that the BJP Govt. had to resort to using police force on young students who were peacefully protesting against the Govt's injustice. #BJPBurningBharat\n",
            "It is shame that the BJP Govt. had to resort to using police force on young students who were peacefully protesting against the Govt's injustice. #BJPBurningBharat\n",
            "@johncusack, @RajkummarRao Condemn Police Action Against Jamia Students During Anti-Citizenship Act Protests https://t.co/atGo2v98JJ #BJPBurningBharat\n",
            "Watch: Images from across the country of students &amp; citizens standing up against BJP govt's tyrannical actions &amp; in support of universities &amp; students that have been attacked. #BJPBurningBharat https://t.co/BUjOw3lPE6\n",
            "Students were treated like criminals and even paraded with their hands up. Several of them have been seriously injured. Students at AMU were also similarly assaulted. #BJPBurningBharat\n",
            "Students were treated like criminals and even paraded with their hands up. Several of them have been seriously injured. Students at AMU were also similarly assaulted. #BJPBurningBharat\n",
            "Students were treated like criminals and even paraded with their hands up. Several of them have been seriously injured. Students at AMU were also similarly assaulted. #BJPBurningBharat\n",
            "Anti-CAA protests reach Lucknow, police in standoff with students at Nadwa College #BJPBurningBharat https://t.co/eKJ4NOC0jB\n",
            "IYC National President Shri @srinivasiyc ji, NSUI President Shri @Neerajkundan Ji along with several leaders carry out sit-in protest out the Delhi Police Headquarters right now in condemnation of the violence on #JamiaMilia students. #BJPBurningBharat #CABProtests https://t.co/eqvZQPME89\n",
            "@htTweets @narendramodi It is shame that the BJP Govt. had to resort to using police force on young students who were peacefully protesting against the Govt's injustice. #BJPBurningBharat\n",
            "The aftermath of BJP's unconstitutional Citizenship Amendment Act is country on fire. Students, teachers &amp; citizens of every creed &amp; caste are taking to the streets to express their anger at this divisive &amp; undemocratic govt. #BJPBurningBharat https://t.co/BCsF90popc\n",
            "The aftermath of BJP's unconstitutional Citizenship Amendment Act is country on fire. Students, teachers &amp; citizens of every creed &amp; caste are taking to the streets to express their anger at this divisive &amp; undemocratic govt. #BJPBurningBharat https://t.co/JnX36QDAyL\n",
            "Yesterday's violence is not only an attack on India's students but also on our democracy and the right to protest peacefully. Under the Modi govt, flames of fascism are burning the country. But we will not be silenced,we will raise our voice to save India. #BJPBurningBharat\n",
            "Yesterday's violence is not only an attack on India's students but also on our democracy and the right to protest peacefully. Under the Modi govt, flames of fascism are burning the country. But we will not be silenced,we will raise our voice to save India. #BJPBurningBharat\n",
            "Yesterday's violence is an attack on India's students but also on our democracy and the right to protest peacefully. Under Modi govt, flames of fascism are burning the country. But we will not be silenced, we will raise our voice to save India. #BJPBurningBharat\n",
            "At least something good came out of last night's Police brutality. The bikes that were soundly thrashed, will never dare to be Anti-National from now on. #BJPBurningBharat\n",
            "@naveelaw Exactly yesterday's violence is not only an attack on India's students but also on our democracy and the right to protest peacefully. Under the Modi govt, flames of fascism are burning the country. #BJPBurningBharat #CABAgainstConstitution #ResignAmitShah\n",
            "The aftermath of BJP's unconstitutional Citizenship Amendment Act is country on fire. Students, teachers &amp; citizens of every creed &amp; caste are taking to the streets to express their anger at this divisive &amp; undemocratic govt. #BJPBurningBharat\n",
            "@rajakumaari The aftermath of BJP's unconstitutional Citizenship Amendment Act is country on fire. Students, teachers &amp; citizens of every creed &amp; caste are taking to the streets to express their anger at this divisive &amp; undemocratic govt. #BJPBurningBharat\n",
            "@narendramodi @smritiirani Who destroying public property and beating innocent students of #JamiaMilia Who's this @narendramodi ji??? #BJPburningIndia #BJPBurningBharat #Jamia #StandWithJamia https://t.co/M36bRkozH8\n",
            "The aftermath of BJP's unconstitutional Citizenship Amendment Act is country on fire. Students, teachers &amp; citizens of every creed &amp; caste are taking to the streets to express their anger at this divisive &amp; undemocratic govt. #BJPBurningBharat https://t.co/A68NZxFIWT\n",
            "@narendramodi It is shame that the BJP Govt. had to resort to using police force on young students who were peacefully protesting against the Govt's injustice. #BJPBurningBharat #DelhiProtest\n",
            "It is shame that the BJP Govt. had to resort to using police force on young students who were peacefully protesting against the Govt's injustice. #BJPBurningBharat #DelhiProtest\n",
            "IYC National President Shri @srinivasiyc ji, NSUI President Shri @Neerajkundan Ji along with several leaders carry out sit-in protest out the Delhi Police Headquarters right now in condemnation of the violence on #JamiaMilia students. #BJPBurningBharat #CABProtests https://t.co/TOquJxzfIX\n",
            "Modi govt's ill-thought policies are destroying India. In every sphere, be it the economy, society, democracy etc., India is faltering. Yesterday, India witnessed the most brutal assault on its students. #BJPBurningBharat\n",
            "Modi govt's ill-thought policies are destroying India. In every sphere, be it the economy, society, democracy etc., India is faltering. Yesterday, India witnessed the most brutal assault on its students. #BJPBurningBharat\n",
            "The aftermath of BJP's unconstitutional Citizenship Amendment Act is country on fire. Students, teachers &amp; citizens of every creed &amp; caste are taking to the streets to express their anger at this divisive &amp; undemocratic govt. #BJPBurningBharat https://t.co/fu8GQ8iqWM\n",
            "Yesterday's violence is not only an attack on India's students but also an attack on their democratic right to protest peacefully. The voices they want to silence by instilling fear are only going to get louder. #BJPBurningBharat https://t.co/Oo3Y3TfZvs\n",
            "Police entered #JamiaMilia university without permission, fired tear gas in libraries &amp; hostels, lathi charged unarmed students. Detained injured students without any medical or legal support. How many more students, universities have to face such atrocities? #BJPBurningBharat\n",
            "#bjpburningbharat Students were treated like criminals and even paraded with their hands up. Several of them have been seriously injured. Students at AMU were also similarly assaulted.\n",
            "#bjpburningbharat Yesterday, India witnessed the most brutal assault on its students. Students were peacefully protesting against the CAB when Delhi police barged inside Jamia university campus and brutally lathicharged and attacked students with tear gas.\n",
            "The future of India, i.e. its students, were made targets by the incompetent BJP Govt. last night as they used police force to tackle students who were peacefully protesting against the injustice by the Govt. #BJPBurningBharat\n",
            "In lieu of Jobs to the Yongs and Students , the Modi govt showed them bamboo and brutally tortured in #JamiaMiliaIslamia university which is unconstitutional when they protested against #CAB in peaceful . #BJPBurningBharat\n",
            "Criminal Politics makes you feel like Burning everything. But students power you will see within days. #BJPBurningBharat #BJPburningIndia\n",
            "The aftermath of BJP's unconstitutional Citizenship Amendment Act is country on fire. Students, teachers &amp; citizens of every creed &amp; caste are taking to the streets to express their anger at this divisive &amp; undemocratic govt. #BJPBurningBharat https://t.co/7Ci2lGipy3\n",
            "Yesterday's violence is not only an attack on India's students but also on our democracy and the right to protest peacefully. Under the Modi govt, flames of fascism are burning the country. #BJPBurningBharat\n",
            "Yesterday's violence is not only an attack on India's students but also on our democracy and the right to protest peacefully. Under the Modi govt, flames of fascism are burning the country. #BJPBurningBharat\n",
            "Yesterday's violence is not only an attack on India's students but also on our democracy and the right to protest peacefully. Under the Modi govt, flames of fascism are burning the country. #BJPBurningBharat\n",
            "The aftermath of BJP's unconstitutional Citizenship Amendment Act is country on fire. Students, teachers &amp; citizens of every creed &amp; caste are taking to the streets to express their anger at this divisive &amp; undemocratic govt. #BJPBurningBharat https://t.co/lk11mQWeR8\n",
            "BJP’s ideology of “Divide &amp; Ruin” coupled with use of brute force is responsible for the anger engulfing our universities. Protests against CAA should be peaceful &amp; non-violent,however the assaulting peaceful protestors only shows that BJP has lost the battle. #BJPBurningBharat https://t.co/AfKsXdc1e4\n",
            "#BJPBurningBharat 🔥 Ransacking women hostels 🔥Vandalising Buses/ Bikes 🔥Shooting innocent youth 🔥Resisting peaceful protest 🔥Assaulting young women! All this and much more not by hooligans but by BJP Govt! Save India, Save It’s Soul! https://t.co/KaFx7ub9ND\n",
            "Shelling students with tear gas, Universities are made to resemble war zones. How low can the BJP Govt. stoop where students are made to face police brutality? #BJPBurningBharat https://t.co/kOO1C1VXkj\n",
            "Why is BJP sacred of students peaceful protest ?? We can see fake incidents are created in various parts of India to book students, strongly condemned police and forces action against students, Modi Sarkar should immediately stop all this nuisances #BJPBurningBharat https://t.co/GvpFhnriHr\n",
            "Yesterday's violence is not only an attack on India's students but also on our democracy&amp;the right to protest peacefully. Under the Modi govt, flames of fascism are burning the country. But our spirit will not be crushed, we will raise our voice to save India. #BJPBurningBharat https://t.co/uzo4ArBni4\n",
            "#BJPBurningBharat Modi govt's is destroying India. Yesterday India witnessed the most brutal assault on students who were peacefully protesting against the #CAB when Delhi police barged inside #JamiaMilia campus &amp; brutally attacked students with tear gas. https://t.co/pk0cxtf0Tf\n",
            "Yesterday's violence is not only an attack on India's students but also on our democracy and the right to protest peacefully. #BJPBurningBharat\n",
            "Remember, university in the National capital was turned into warzone by this incompetent govt last night. Unarmed students studying in library were attacked mercilessly by police using lathis and tear gas. Now they're beating students in DU. #BJPBurningBharat\n",
            "The future of India, i.e. its students, were made targets by the incompetent BJP Govt. last night as they used police force to tackle students who were peacefully protesting against the injustice by the Govt. #BJPBurningBharat https://t.co/7zvbg1WRJM\n",
            "Yesterday's violence is not only an attack on India's students but also on our democracy and the right to protest peacefully. Under the Modi govt, flames of fascism are burning the country. But we will not be silenced, we will raise our voice to save India #BJPBurningBharat\n",
            "#BJPBurningBharat 🔥 Ransacking women hostels 🔥Vandalising Buses/ Bikes 🔥Shooting innocent youth 🔥Resisting peaceful protest 🔥Assaulting young women! All this and much more not by hooligans but by BJP Govt! Save India, Save It’s Soul! https://t.co/I7t7XQXw1q\n",
            "The future of India, i.e. its students, were made targets by the incompetent BJP Govt. last night as they used police force to tackle students who were peacefully protesting against the injustice by the Govt. #BJPBurningBharat https://t.co/MOCv3mrMpU\n",
            "Yesterday, India witnessed the most brutal assault on its students. Students were lathi charged, treated like criminals and even paraded with their hands up. Yesterday's violence is not only an attack on India's students but also on our democracy. #BJPBurningBharat https://t.co/NwHXSdKOBE\n",
            "Yesterday, India witnessed the most brutal assault on its students. Students were peacefully protesting against the #CAB , Delhi police barged inside Jamia university campus and brutally lathicharged and attacked students with tear gas. #BJPBurningBharat https://t.co/QNAU92eyxi\n",
            "162\n"
          ]
        }
      ]
    },
    {
      "cell_type": "code",
      "source": [
        "print(\"total number of copy pasted\",len(c_p_tweet))"
      ],
      "metadata": {
        "colab": {
          "base_uri": "https://localhost:8080/"
        },
        "id": "-Mbi5JhyRDbK",
        "outputId": "85fa663d-3e4a-4c05-f43f-81b7b003a8ee"
      },
      "execution_count": 540,
      "outputs": [
        {
          "output_type": "stream",
          "name": "stdout",
          "text": [
            "total number of copy pasted 162\n"
          ]
        }
      ]
    },
    {
      "cell_type": "code",
      "source": [
        ""
      ],
      "metadata": {
        "id": "FQakFRkkS_3b"
      },
      "execution_count": 540,
      "outputs": []
    },
    {
      "cell_type": "code",
      "source": [
        "new_df = df.loc[df['tweet_id'].isin(c_p_tweet)]"
      ],
      "metadata": {
        "id": "U0ggcMLsFwwT"
      },
      "execution_count": 541,
      "outputs": []
    },
    {
      "cell_type": "code",
      "source": [
        "new_df[['date', 'time']] = new_df['date'].str.split('T', 1, expand=True)"
      ],
      "metadata": {
        "colab": {
          "base_uri": "https://localhost:8080/"
        },
        "id": "OcdBWpujSvhW",
        "outputId": "87072342-1be2-4919-ceed-496b358d5efe"
      },
      "execution_count": 542,
      "outputs": [
        {
          "output_type": "stream",
          "name": "stderr",
          "text": [
            "/usr/local/lib/python3.7/dist-packages/pandas/core/frame.py:3641: SettingWithCopyWarning: \n",
            "A value is trying to be set on a copy of a slice from a DataFrame.\n",
            "Try using .loc[row_indexer,col_indexer] = value instead\n",
            "\n",
            "See the caveats in the documentation: https://pandas.pydata.org/pandas-docs/stable/user_guide/indexing.html#returning-a-view-versus-a-copy\n",
            "  self[k1] = value[k2]\n"
          ]
        }
      ]
    },
    {
      "cell_type": "code",
      "source": [
        "copy_counts=dict(new_df.groupby('date').groups)\n",
        "dates=[k for k in copy_counts.keys()]\n",
        "counts=[len(v) for k,v in copy_counts.items()]\n",
        "cum_counts=counts.copy()\n",
        "for i in range(1,len(cum_counts)):\n",
        "  cum_counts[i]+=cum_counts[i-1]"
      ],
      "metadata": {
        "id": "bVuKnWxDVAcb"
      },
      "execution_count": 543,
      "outputs": []
    },
    {
      "cell_type": "code",
      "source": [
        "from matplotlib import pyplot as plt\n",
        "plt.figure(figsize=(16,9))\n",
        "plt.plot(dates,cum_counts)\n",
        "plt.xlabel('date')\n",
        "plt.ylabel('cumulative copy count')\n",
        "plt.show()"
      ],
      "metadata": {
        "colab": {
          "base_uri": "https://localhost:8080/",
          "height": 989
        },
        "id": "IcslKjm-UuBP",
        "outputId": "969c7aa0-e041-45b6-ad6f-61f28d085c56"
      },
      "execution_count": 544,
      "outputs": [
        {
          "output_type": "display_data",
          "data": {
            "text/plain": [
              "<Figure size 2160x1728 with 1 Axes>"
            ],
            "image/png": "[encoded data removed]"
          },
          "metadata": {
            "needs_background": "light"
          }
        }
      ]
    },
    {
      "cell_type": "code",
      "source": [
        "use1=df.loc[df['tweet_id'].isin(c_p_tweet)]\n",
        "use2=pd.merge(use1,df_party_names,left_on='user_name',right_on='username')\n",
        "use2.head()"
      ],
      "metadata": {
        "colab": {
          "base_uri": "https://localhost:8080/",
          "height": 647
        },
        "id": "dj6x5AdlSwB_",
        "outputId": "2659d0b0-24b7-432d-847e-81e133f3f24b"
      },
      "execution_count": 545,
      "outputs": [
        {
          "output_type": "execute_result",
          "data": {
            "text/plain": [
              "              tweet_id        user_name                       date  \\\n",
              "0  1206575016327827458  KunalChoudhary_  2019-12-16T14:01:15+00:00   \n",
              "1  1206539448134987776         INCIndia  2019-12-16T11:39:55+00:00   \n",
              "2  1206502947271536640         INCIndia  2019-12-16T09:14:53+00:00   \n",
              "3  1206479321591930880         INCIndia  2019-12-16T07:41:00+00:00   \n",
              "4  1206538323180707840             nsui  2019-12-16T11:35:27+00:00   \n",
              "\n",
              "                                             content language  reply_count  \\\n",
              "0  Glimpses of the large number of people that ha...       en            2   \n",
              "1  Glimpses of the large number of people that ha...       en          163   \n",
              "2  Watch: Images from across the country of stude...       en          181   \n",
              "3  The aftermath of BJP's unconstitutional Citize...       en           78   \n",
              "4  Statement by Congress President Smt. Sonia Gan...       en            1   \n",
              "\n",
              "   retweet_count  like_count                              hashtags  \\\n",
              "0             28         110                  ['BJPBurningBharat']   \n",
              "1           1165        3877                  ['BJPBurningBharat']   \n",
              "2            845        2256                  ['BJPBurningBharat']   \n",
              "3            373         832                  ['BJPBurningBharat']   \n",
              "4             37          91  ['BJPBurningBharat', 'JamiaProtest']   \n",
              "\n",
              "   Unnamed: 0  ...                      location          id  \\\n",
              "0         374  ...                 Bhopal, India   399437937   \n",
              "1         359  ...              New Delhi, India  1153045459   \n",
              "2         359  ...              New Delhi, India  1153045459   \n",
              "3         359  ...              New Delhi, India  1153045459   \n",
              "4         362  ...  5 A, Raisina Road, New Delhi    16323656   \n",
              "\n",
              "                       url                                     public_metrics  \\\n",
              "0  https://t.co/xJXXwBT8QU  {'followers_count': 234670, 'following_count':...   \n",
              "1  https://t.co/51TS85KdYI  {'followers_count': 8463703, 'following_count'...   \n",
              "2  https://t.co/51TS85KdYI  {'followers_count': 8463703, 'following_count'...   \n",
              "3  https://t.co/51TS85KdYI  {'followers_count': 8463703, 'following_count'...   \n",
              "4  https://t.co/otozWNPLdO  {'followers_count': 473719, 'following_count':...   \n",
              "\n",
              "  protected     party         username             name  \\\n",
              "0     False  Congress  KunalChoudhary_  Kunal Choudhary   \n",
              "1     False  Congress         INCIndia         Congress   \n",
              "2     False  Congress         INCIndia         Congress   \n",
              "3     False  Congress         INCIndia         Congress   \n",
              "4     False  Congress             nsui             NSUI   \n",
              "\n",
              "                 created_at                                        description  \n",
              "0  2011-10-27T14:06:23.000Z  MLA Kalapipal (M.P.) | Former President, Madhy...  \n",
              "1  2013-02-06T05:45:31.000Z  The Official Twitter Account of India's Most V...  \n",
              "2  2013-02-06T05:45:31.000Z  The Official Twitter Account of India's Most V...  \n",
              "3  2013-02-06T05:45:31.000Z  The Official Twitter Account of India's Most V...  \n",
              "4  2008-09-17T04:19:44.000Z  Official handle of National Students' Union of...  \n",
              "\n",
              "[5 rows x 21 columns]"
            ],
            "text/html": [
              "\n",
              "  <div id=\"df-0fced4ea-b011-41dc-b0fb-9c954737a960\">\n",
              "    <div class=\"colab-df-container\">\n",
              "      <div>\n",
              "<style scoped>\n",
              "    .dataframe tbody tr th:only-of-type {\n",
              "        vertical-align: middle;\n",
              "    }\n",
              "\n",
              "    .dataframe tbody tr th {\n",
              "        vertical-align: top;\n",
              "    }\n",
              "\n",
              "    .dataframe thead th {\n",
              "        text-align: right;\n",
              "    }\n",
              "</style>\n",
              "<table border=\"1\" class=\"dataframe\">\n",
              "  <thead>\n",
              "    <tr style=\"text-align: right;\">\n",
              "      <th></th>\n",
              "      <th>tweet_id</th>\n",
              "      <th>user_name</th>\n",
              "      <th>date</th>\n",
              "      <th>content</th>\n",
              "      <th>language</th>\n",
              "      <th>reply_count</th>\n",
              "      <th>retweet_count</th>\n",
              "      <th>like_count</th>\n",
              "      <th>hashtags</th>\n",
              "      <th>Unnamed: 0</th>\n",
              "      <th>...</th>\n",
              "      <th>location</th>\n",
              "      <th>id</th>\n",
              "      <th>url</th>\n",
              "      <th>public_metrics</th>\n",
              "      <th>protected</th>\n",
              "      <th>party</th>\n",
              "      <th>username</th>\n",
              "      <th>name</th>\n",
              "      <th>created_at</th>\n",
              "      <th>description</th>\n",
              "    </tr>\n",
              "  </thead>\n",
              "  <tbody>\n",
              "    <tr>\n",
              "      <th>0</th>\n",
              "      <td>1206575016327827458</td>\n",
              "      <td>KunalChoudhary_</td>\n",
              "      <td>2019-12-16T14:01:15+00:00</td>\n",
              "      <td>Glimpses of the large number of people that ha...</td>\n",
              "      <td>en</td>\n",
              "      <td>2</td>\n",
              "      <td>28</td>\n",
              "      <td>110</td>\n",
              "      <td>['BJPBurningBharat']</td>\n",
              "      <td>374</td>\n",
              "      <td>...</td>\n",
              "      <td>Bhopal, India</td>\n",
              "      <td>399437937</td>\n",
              "      <td>https://t.co/xJXXwBT8QU</td>\n",
              "      <td>{'followers_count': 234670, 'following_count':...</td>\n",
              "      <td>False</td>\n",
              "      <td>Congress</td>\n",
              "      <td>KunalChoudhary_</td>\n",
              "      <td>Kunal Choudhary</td>\n",
              "      <td>2011-10-27T14:06:23.000Z</td>\n",
              "      <td>MLA Kalapipal (M.P.) | Former President, Madhy...</td>\n",
              "    </tr>\n",
              "    <tr>\n",
              "      <th>1</th>\n",
              "      <td>1206539448134987776</td>\n",
              "      <td>INCIndia</td>\n",
              "      <td>2019-12-16T11:39:55+00:00</td>\n",
              "      <td>Glimpses of the large number of people that ha...</td>\n",
              "      <td>en</td>\n",
              "      <td>163</td>\n",
              "      <td>1165</td>\n",
              "      <td>3877</td>\n",
              "      <td>['BJPBurningBharat']</td>\n",
              "      <td>359</td>\n",
              "      <td>...</td>\n",
              "      <td>New Delhi, India</td>\n",
              "      <td>1153045459</td>\n",
              "      <td>https://t.co/51TS85KdYI</td>\n",
              "      <td>{'followers_count': 8463703, 'following_count'...</td>\n",
              "      <td>False</td>\n",
              "      <td>Congress</td>\n",
              "      <td>INCIndia</td>\n",
              "      <td>Congress</td>\n",
              "      <td>2013-02-06T05:45:31.000Z</td>\n",
              "      <td>The Official Twitter Account of India's Most V...</td>\n",
              "    </tr>\n",
              "    <tr>\n",
              "      <th>2</th>\n",
              "      <td>1206502947271536640</td>\n",
              "      <td>INCIndia</td>\n",
              "      <td>2019-12-16T09:14:53+00:00</td>\n",
              "      <td>Watch: Images from across the country of stude...</td>\n",
              "      <td>en</td>\n",
              "      <td>181</td>\n",
              "      <td>845</td>\n",
              "      <td>2256</td>\n",
              "      <td>['BJPBurningBharat']</td>\n",
              "      <td>359</td>\n",
              "      <td>...</td>\n",
              "      <td>New Delhi, India</td>\n",
              "      <td>1153045459</td>\n",
              "      <td>https://t.co/51TS85KdYI</td>\n",
              "      <td>{'followers_count': 8463703, 'following_count'...</td>\n",
              "      <td>False</td>\n",
              "      <td>Congress</td>\n",
              "      <td>INCIndia</td>\n",
              "      <td>Congress</td>\n",
              "      <td>2013-02-06T05:45:31.000Z</td>\n",
              "      <td>The Official Twitter Account of India's Most V...</td>\n",
              "    </tr>\n",
              "    <tr>\n",
              "      <th>3</th>\n",
              "      <td>1206479321591930880</td>\n",
              "      <td>INCIndia</td>\n",
              "      <td>2019-12-16T07:41:00+00:00</td>\n",
              "      <td>The aftermath of BJP's unconstitutional Citize...</td>\n",
              "      <td>en</td>\n",
              "      <td>78</td>\n",
              "      <td>373</td>\n",
              "      <td>832</td>\n",
              "      <td>['BJPBurningBharat']</td>\n",
              "      <td>359</td>\n",
              "      <td>...</td>\n",
              "      <td>New Delhi, India</td>\n",
              "      <td>1153045459</td>\n",
              "      <td>https://t.co/51TS85KdYI</td>\n",
              "      <td>{'followers_count': 8463703, 'following_count'...</td>\n",
              "      <td>False</td>\n",
              "      <td>Congress</td>\n",
              "      <td>INCIndia</td>\n",
              "      <td>Congress</td>\n",
              "      <td>2013-02-06T05:45:31.000Z</td>\n",
              "      <td>The Official Twitter Account of India's Most V...</td>\n",
              "    </tr>\n",
              "    <tr>\n",
              "      <th>4</th>\n",
              "      <td>1206538323180707840</td>\n",
              "      <td>nsui</td>\n",
              "      <td>2019-12-16T11:35:27+00:00</td>\n",
              "      <td>Statement by Congress President Smt. Sonia Gan...</td>\n",
              "      <td>en</td>\n",
              "      <td>1</td>\n",
              "      <td>37</td>\n",
              "      <td>91</td>\n",
              "      <td>['BJPBurningBharat', 'JamiaProtest']</td>\n",
              "      <td>362</td>\n",
              "      <td>...</td>\n",
              "      <td>5 A, Raisina Road, New Delhi</td>\n",
              "      <td>16323656</td>\n",
              "      <td>https://t.co/otozWNPLdO</td>\n",
              "      <td>{'followers_count': 473719, 'following_count':...</td>\n",
              "      <td>False</td>\n",
              "      <td>Congress</td>\n",
              "      <td>nsui</td>\n",
              "      <td>NSUI</td>\n",
              "      <td>2008-09-17T04:19:44.000Z</td>\n",
              "      <td>Official handle of National Students' Union of...</td>\n",
              "    </tr>\n",
              "  </tbody>\n",
              "</table>\n",
              "<p>5 rows × 21 columns</p>\n",
              "</div>\n",
              "      <button class=\"colab-df-convert\" onclick=\"convertToInteractive('df-0fced4ea-b011-41dc-b0fb-9c954737a960')\"\n",
              "              title=\"Convert this dataframe to an interactive table.\"\n",
              "              style=\"display:none;\">\n",
              "        \n",
              "  <svg xmlns=\"http://www.w3.org/2000/svg\" height=\"24px\"viewBox=\"0 0 24 24\"\n",
              "       width=\"24px\">\n",
              "    <path d=\"M0 0h24v24H0V0z\" fill=\"none\"/>\n",
              "    <path d=\"M18.56 5.44l.94 2.06.94-2.06 2.06-.94-2.06-.94-.94-2.06-.94 2.06-2.06.94zm-11 1L8.5 8.5l.94-2.06 2.06-.94-2.06-.94L8.5 2.5l-.94 2.06-2.06.94zm10 10l.94 2.06.94-2.06 2.06-.94-2.06-.94-.94-2.06-.94 2.06-2.06.94z\"/><path d=\"M17.41 7.96l-1.37-1.37c-.4-.4-.92-.59-1.43-.59-.52 0-1.04.2-1.43.59L10.3 9.45l-7.72 7.72c-.78.78-.78 2.05 0 2.83L4 21.41c.39.39.9.59 1.41.59.51 0 1.02-.2 1.41-.59l7.78-7.78 2.81-2.81c.8-.78.8-2.07 0-2.86zM5.41 20L4 18.59l7.72-7.72 1.47 1.35L5.41 20z\"/>\n",
              "  </svg>\n",
              "      </button>\n",
              "      \n",
              "  <style>\n",
              "    .colab-df-container {\n",
              "      display:flex;\n",
              "      flex-wrap:wrap;\n",
              "      gap: 12px;\n",
              "    }\n",
              "\n",
              "    .colab-df-convert {\n",
              "      background-color: #E8F0FE;\n",
              "      border: none;\n",
              "      border-radius: 50%;\n",
              "      cursor: pointer;\n",
              "      display: none;\n",
              "      fill: #1967D2;\n",
              "      height: 32px;\n",
              "      padding: 0 0 0 0;\n",
              "      width: 32px;\n",
              "    }\n",
              "\n",
              "    .colab-df-convert:hover {\n",
              "      background-color: #E2EBFA;\n",
              "      box-shadow: 0px 1px 2px rgba(60, 64, 67, 0.3), 0px 1px 3px 1px rgba(60, 64, 67, 0.15);\n",
              "      fill: #174EA6;\n",
              "    }\n",
              "\n",
              "    [theme=dark] .colab-df-convert {\n",
              "      background-color: #3B4455;\n",
              "      fill: #D2E3FC;\n",
              "    }\n",
              "\n",
              "    [theme=dark] .colab-df-convert:hover {\n",
              "      background-color: #434B5C;\n",
              "      box-shadow: 0px 1px 3px 1px rgba(0, 0, 0, 0.15);\n",
              "      filter: drop-shadow(0px 1px 2px rgba(0, 0, 0, 0.3));\n",
              "      fill: #FFFFFF;\n",
              "    }\n",
              "  </style>\n",
              "\n",
              "      <script>\n",
              "        const buttonEl =\n",
              "          document.querySelector('#df-0fced4ea-b011-41dc-b0fb-9c954737a960 button.colab-df-convert');\n",
              "        buttonEl.style.display =\n",
              "          google.colab.kernel.accessAllowed ? 'block' : 'none';\n",
              "\n",
              "        async function convertToInteractive(key) {\n",
              "          const element = document.querySelector('#df-0fced4ea-b011-41dc-b0fb-9c954737a960');\n",
              "          const dataTable =\n",
              "            await google.colab.kernel.invokeFunction('convertToInteractive',\n",
              "                                                     [key], {});\n",
              "          if (!dataTable) return;\n",
              "\n",
              "          const docLinkHtml = 'Like what you see? Visit the ' +\n",
              "            '<a target=\"_blank\" href=https://colab.research.google.com/notebooks/data_table.ipynb>data table notebook</a>'\n",
              "            + ' to learn more about interactive tables.';\n",
              "          element.innerHTML = '';\n",
              "          dataTable['output_type'] = 'display_data';\n",
              "          await google.colab.output.renderOutput(dataTable, element);\n",
              "          const docLink = document.createElement('div');\n",
              "          docLink.innerHTML = docLinkHtml;\n",
              "          element.appendChild(docLink);\n",
              "        }\n",
              "      </script>\n",
              "    </div>\n",
              "  </div>\n",
              "  "
            ]
          },
          "metadata": {},
          "execution_count": 545
        }
      ]
    },
    {
      "cell_type": "code",
      "source": [
        "print(dates)"
      ],
      "metadata": {
        "colab": {
          "base_uri": "https://localhost:8080/"
        },
        "id": "ZxqEk3vZAAsW",
        "outputId": "4c397c64-db9d-4c87-9b1f-9bf35aaa671e"
      },
      "execution_count": 546,
      "outputs": [
        {
          "output_type": "stream",
          "name": "stdout",
          "text": [
            "['2019-12-16', '2019-12-17', '2019-12-18', '2019-12-19', '2019-12-20', '2019-12-21', '2019-12-26', '2019-12-27', '2019-12-28', '2019-12-30', '2020-01-05', '2020-01-06', '2020-01-07', '2020-01-09']\n"
          ]
        }
      ]
    },
    {
      "cell_type": "code",
      "source": [
        ""
      ],
      "metadata": {
        "id": "E_7XtVKhAR10"
      },
      "execution_count": 546,
      "outputs": []
    }
  ]
}